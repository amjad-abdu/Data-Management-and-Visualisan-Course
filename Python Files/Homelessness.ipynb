{
  "cells": [
    {
      "metadata": {
        "trusted": true
      },
      "cell_type": "markdown",
      "source": "# Homelessness with Population Datasets "
    },
    {
      "metadata": {
        "trusted": true
      },
      "cell_type": "code",
      "source": "import plotly.plotly as py\nimport pandas as pd\nimport numpy as np\nimport plotly.graph_objs as go\nimport matplotlib.pyplot as plt\n%matplotlib inline\nfrom plotly.offline import *\nfrom plotly.offline import download_plotlyjs, init_notebook_mode, plot, iplot\ninit_notebook_mode( connected = True )\n",
      "execution_count": 1,
      "outputs": [
        {
          "output_type": "display_data",
          "data": {
            "text/vnd.plotly.v1+html": "<script type=\"text/javascript\">window.PlotlyConfig = {MathJaxConfig: 'local'};</script><script type=\"text/javascript\">if (window.MathJax) {MathJax.Hub.Config({SVG: {font: \"STIX-Web\"}});}</script><script>requirejs.config({paths: { 'plotly': ['https://cdn.plot.ly/plotly-latest.min']},});if(!window._Plotly) {require(['plotly'],function(plotly) {window._Plotly=plotly;});}</script>",
            "text/html": "<script type=\"text/javascript\">window.PlotlyConfig = {MathJaxConfig: 'local'};</script><script type=\"text/javascript\">if (window.MathJax) {MathJax.Hub.Config({SVG: {font: \"STIX-Web\"}});}</script><script>requirejs.config({paths: { 'plotly': ['https://cdn.plot.ly/plotly-latest.min']},});if(!window._Plotly) {require(['plotly'],function(plotly) {window._Plotly=plotly;});}</script>"
          },
          "metadata": {}
        }
      ]
    },
    {
      "metadata": {
        "trusted": true
      },
      "cell_type": "code",
      "source": "homelessness = pd.read_csv('2007-2016-Homelessnewss-USA.csv')\npopulation =  pd.read_csv('Population-by-state.csv')\n# reading first 3 columns\nhomelessness.head(3)\n",
      "execution_count": 54,
      "outputs": [
        {
          "output_type": "execute_result",
          "execution_count": 54,
          "data": {
            "text/html": "<div>\n<style scoped>\n    .dataframe tbody tr th:only-of-type {\n        vertical-align: middle;\n    }\n\n    .dataframe tbody tr th {\n        vertical-align: top;\n    }\n\n    .dataframe thead th {\n        text-align: right;\n    }\n</style>\n<table border=\"1\" class=\"dataframe\">\n  <thead>\n    <tr style=\"text-align: right;\">\n      <th></th>\n      <th>Year</th>\n      <th>State</th>\n      <th>CoC Number</th>\n      <th>CoC Name</th>\n      <th>Measures</th>\n      <th>Count</th>\n    </tr>\n  </thead>\n  <tbody>\n    <tr>\n      <th>0</th>\n      <td>1/1/2007</td>\n      <td>AK</td>\n      <td>AK-500</td>\n      <td>Anchorage CoC</td>\n      <td>Chronically Homeless Individuals</td>\n      <td>224</td>\n    </tr>\n    <tr>\n      <th>1</th>\n      <td>1/1/2007</td>\n      <td>AK</td>\n      <td>AK-500</td>\n      <td>Anchorage CoC</td>\n      <td>Homeless Individuals</td>\n      <td>696</td>\n    </tr>\n    <tr>\n      <th>2</th>\n      <td>1/1/2007</td>\n      <td>AK</td>\n      <td>AK-500</td>\n      <td>Anchorage CoC</td>\n      <td>Homeless People in Families</td>\n      <td>278</td>\n    </tr>\n  </tbody>\n</table>\n</div>",
            "text/plain": "       Year State CoC Number       CoC Name                          Measures  \\\n0  1/1/2007    AK     AK-500  Anchorage CoC  Chronically Homeless Individuals   \n1  1/1/2007    AK     AK-500  Anchorage CoC              Homeless Individuals   \n2  1/1/2007    AK     AK-500  Anchorage CoC       Homeless People in Families   \n\n  Count  \n0   224  \n1   696  \n2   278  "
          },
          "metadata": {}
        }
      ]
    },
    {
      "metadata": {
        "trusted": true
      },
      "cell_type": "code",
      "source": "population.head(10)",
      "execution_count": 55,
      "outputs": [
        {
          "output_type": "execute_result",
          "execution_count": 55,
          "data": {
            "text/html": "<div>\n<style scoped>\n    .dataframe tbody tr th:only-of-type {\n        vertical-align: middle;\n    }\n\n    .dataframe tbody tr th {\n        vertical-align: top;\n    }\n\n    .dataframe thead th {\n        text-align: right;\n    }\n</style>\n<table border=\"1\" class=\"dataframe\">\n  <thead>\n    <tr style=\"text-align: right;\">\n      <th></th>\n      <th>GEO.id</th>\n      <th>GEO.id2</th>\n      <th>GEO.display-label</th>\n      <th>rescen42010</th>\n      <th>resbase42010</th>\n      <th>respop72010</th>\n      <th>respop72011</th>\n      <th>respop72012</th>\n      <th>respop72013</th>\n      <th>respop72014</th>\n      <th>respop72015</th>\n      <th>respop72016</th>\n    </tr>\n  </thead>\n  <tbody>\n    <tr>\n      <th>0</th>\n      <td>Id</td>\n      <td>Id2</td>\n      <td>Geography</td>\n      <td>April 1, 2010 - Census</td>\n      <td>April 1, 2010 - Estimates Base</td>\n      <td>Population Estimate (as of July 1) - 2010</td>\n      <td>Population Estimate (as of July 1) - 2011</td>\n      <td>Population Estimate (as of July 1) - 2012</td>\n      <td>Population Estimate (as of July 1) - 2013</td>\n      <td>Population Estimate (as of July 1) - 2014</td>\n      <td>Population Estimate (as of July 1) - 2015</td>\n      <td>Population Estimate (as of July 1) - 2016</td>\n    </tr>\n    <tr>\n      <th>1</th>\n      <td>0400000US01</td>\n      <td>1</td>\n      <td>Alabama</td>\n      <td>4779736</td>\n      <td>4780131</td>\n      <td>4785492</td>\n      <td>4799918</td>\n      <td>4815960</td>\n      <td>4829479</td>\n      <td>4843214</td>\n      <td>4853875</td>\n      <td>4863300</td>\n    </tr>\n    <tr>\n      <th>2</th>\n      <td>0400000US02</td>\n      <td>2</td>\n      <td>Alaska</td>\n      <td>710231</td>\n      <td>710249</td>\n      <td>714031</td>\n      <td>722713</td>\n      <td>731089</td>\n      <td>736879</td>\n      <td>736705</td>\n      <td>737709</td>\n      <td>741894</td>\n    </tr>\n    <tr>\n      <th>3</th>\n      <td>0400000US04</td>\n      <td>4</td>\n      <td>Arizona</td>\n      <td>6392017</td>\n      <td>6392301</td>\n      <td>6408312</td>\n      <td>6467163</td>\n      <td>6549634</td>\n      <td>6624617</td>\n      <td>6719993</td>\n      <td>6817565</td>\n      <td>6931071</td>\n    </tr>\n    <tr>\n      <th>4</th>\n      <td>0400000US05</td>\n      <td>5</td>\n      <td>Arkansas</td>\n      <td>2915918</td>\n      <td>2916025</td>\n      <td>2921995</td>\n      <td>2939493</td>\n      <td>2950685</td>\n      <td>2958663</td>\n      <td>2966912</td>\n      <td>2977853</td>\n      <td>2988248</td>\n    </tr>\n    <tr>\n      <th>5</th>\n      <td>0400000US06</td>\n      <td>6</td>\n      <td>California</td>\n      <td>37253956</td>\n      <td>37254522</td>\n      <td>37332685</td>\n      <td>37676861</td>\n      <td>38011074</td>\n      <td>38335203</td>\n      <td>38680810</td>\n      <td>38993940</td>\n      <td>39250017</td>\n    </tr>\n    <tr>\n      <th>6</th>\n      <td>0400000US08</td>\n      <td>8</td>\n      <td>Colorado</td>\n      <td>5029196</td>\n      <td>5029324</td>\n      <td>5048644</td>\n      <td>5118360</td>\n      <td>5189867</td>\n      <td>5267603</td>\n      <td>5349648</td>\n      <td>5448819</td>\n      <td>5540545</td>\n    </tr>\n    <tr>\n      <th>7</th>\n      <td>0400000US09</td>\n      <td>9</td>\n      <td>Connecticut</td>\n      <td>3574097</td>\n      <td>3574114</td>\n      <td>3579899</td>\n      <td>3589893</td>\n      <td>3593795</td>\n      <td>3596003</td>\n      <td>3591873</td>\n      <td>3584730</td>\n      <td>3576452</td>\n    </tr>\n    <tr>\n      <th>8</th>\n      <td>0400000US10</td>\n      <td>10</td>\n      <td>Delaware</td>\n      <td>897934</td>\n      <td>897936</td>\n      <td>899816</td>\n      <td>907924</td>\n      <td>916993</td>\n      <td>925395</td>\n      <td>934948</td>\n      <td>944076</td>\n      <td>952065</td>\n    </tr>\n    <tr>\n      <th>9</th>\n      <td>0400000US11</td>\n      <td>11</td>\n      <td>District of Columbia</td>\n      <td>601723</td>\n      <td>601766</td>\n      <td>605183</td>\n      <td>620477</td>\n      <td>635327</td>\n      <td>649165</td>\n      <td>659005</td>\n      <td>670377</td>\n      <td>681170</td>\n    </tr>\n  </tbody>\n</table>\n</div>",
            "text/plain": "        GEO.id GEO.id2     GEO.display-label             rescen42010  \\\n0           Id     Id2             Geography  April 1, 2010 - Census   \n1  0400000US01       1               Alabama                 4779736   \n2  0400000US02       2                Alaska                  710231   \n3  0400000US04       4               Arizona                 6392017   \n4  0400000US05       5              Arkansas                 2915918   \n5  0400000US06       6            California                37253956   \n6  0400000US08       8              Colorado                 5029196   \n7  0400000US09       9           Connecticut                 3574097   \n8  0400000US10      10              Delaware                  897934   \n9  0400000US11      11  District of Columbia                  601723   \n\n                     resbase42010                                respop72010  \\\n0  April 1, 2010 - Estimates Base  Population Estimate (as of July 1) - 2010   \n1                         4780131                                    4785492   \n2                          710249                                     714031   \n3                         6392301                                    6408312   \n4                         2916025                                    2921995   \n5                        37254522                                   37332685   \n6                         5029324                                    5048644   \n7                         3574114                                    3579899   \n8                          897936                                     899816   \n9                          601766                                     605183   \n\n                                 respop72011  \\\n0  Population Estimate (as of July 1) - 2011   \n1                                    4799918   \n2                                     722713   \n3                                    6467163   \n4                                    2939493   \n5                                   37676861   \n6                                    5118360   \n7                                    3589893   \n8                                     907924   \n9                                     620477   \n\n                                 respop72012  \\\n0  Population Estimate (as of July 1) - 2012   \n1                                    4815960   \n2                                     731089   \n3                                    6549634   \n4                                    2950685   \n5                                   38011074   \n6                                    5189867   \n7                                    3593795   \n8                                     916993   \n9                                     635327   \n\n                                 respop72013  \\\n0  Population Estimate (as of July 1) - 2013   \n1                                    4829479   \n2                                     736879   \n3                                    6624617   \n4                                    2958663   \n5                                   38335203   \n6                                    5267603   \n7                                    3596003   \n8                                     925395   \n9                                     649165   \n\n                                 respop72014  \\\n0  Population Estimate (as of July 1) - 2014   \n1                                    4843214   \n2                                     736705   \n3                                    6719993   \n4                                    2966912   \n5                                   38680810   \n6                                    5349648   \n7                                    3591873   \n8                                     934948   \n9                                     659005   \n\n                                 respop72015  \\\n0  Population Estimate (as of July 1) - 2015   \n1                                    4853875   \n2                                     737709   \n3                                    6817565   \n4                                    2977853   \n5                                   38993940   \n6                                    5448819   \n7                                    3584730   \n8                                     944076   \n9                                     670377   \n\n                                 respop72016  \n0  Population Estimate (as of July 1) - 2016  \n1                                    4863300  \n2                                     741894  \n3                                    6931071  \n4                                    2988248  \n5                                   39250017  \n6                                    5540545  \n7                                    3576452  \n8                                     952065  \n9                                     681170  "
          },
          "metadata": {}
        }
      ]
    },
    {
      "metadata": {
        "trusted": true
      },
      "cell_type": "code",
      "source": "# Cleaning datasets \n# Begining with Population DataSet \n# 1. taking the first row and making it the header\npopulation.columns = population.iloc[0]\n# 2. removing the 0 row\npopulation.drop(0,axis=0, inplace=True)\n# 3. Removing Unneeded columns\npopulation.drop(['Id', 'Id2','April 1, 2010 - Census', 'April 1, 2010 - Estimates Base'], axis=1, inplace=True)\n# 4. Renaming the columns, titles are too long\npopulation.columns = ['State','pop2010','pop2011','pop2012','pop2013','pop2014','pop2015','pop2016']\npopulation.head(3)\n\n",
      "execution_count": 56,
      "outputs": [
        {
          "output_type": "execute_result",
          "execution_count": 56,
          "data": {
            "text/html": "<div>\n<style scoped>\n    .dataframe tbody tr th:only-of-type {\n        vertical-align: middle;\n    }\n\n    .dataframe tbody tr th {\n        vertical-align: top;\n    }\n\n    .dataframe thead th {\n        text-align: right;\n    }\n</style>\n<table border=\"1\" class=\"dataframe\">\n  <thead>\n    <tr style=\"text-align: right;\">\n      <th></th>\n      <th>State</th>\n      <th>pop2010</th>\n      <th>pop2011</th>\n      <th>pop2012</th>\n      <th>pop2013</th>\n      <th>pop2014</th>\n      <th>pop2015</th>\n      <th>pop2016</th>\n    </tr>\n  </thead>\n  <tbody>\n    <tr>\n      <th>1</th>\n      <td>Alabama</td>\n      <td>4785492</td>\n      <td>4799918</td>\n      <td>4815960</td>\n      <td>4829479</td>\n      <td>4843214</td>\n      <td>4853875</td>\n      <td>4863300</td>\n    </tr>\n    <tr>\n      <th>2</th>\n      <td>Alaska</td>\n      <td>714031</td>\n      <td>722713</td>\n      <td>731089</td>\n      <td>736879</td>\n      <td>736705</td>\n      <td>737709</td>\n      <td>741894</td>\n    </tr>\n    <tr>\n      <th>3</th>\n      <td>Arizona</td>\n      <td>6408312</td>\n      <td>6467163</td>\n      <td>6549634</td>\n      <td>6624617</td>\n      <td>6719993</td>\n      <td>6817565</td>\n      <td>6931071</td>\n    </tr>\n  </tbody>\n</table>\n</div>",
            "text/plain": "     State  pop2010  pop2011  pop2012  pop2013  pop2014  pop2015  pop2016\n1  Alabama  4785492  4799918  4815960  4829479  4843214  4853875  4863300\n2   Alaska   714031   722713   731089   736879   736705   737709   741894\n3  Arizona  6408312  6467163  6549634  6624617  6719993  6817565  6931071"
          },
          "metadata": {}
        }
      ]
    },
    {
      "metadata": {
        "trusted": true
      },
      "cell_type": "code",
      "source": "population.head(10)",
      "execution_count": 57,
      "outputs": [
        {
          "output_type": "execute_result",
          "execution_count": 57,
          "data": {
            "text/html": "<div>\n<style scoped>\n    .dataframe tbody tr th:only-of-type {\n        vertical-align: middle;\n    }\n\n    .dataframe tbody tr th {\n        vertical-align: top;\n    }\n\n    .dataframe thead th {\n        text-align: right;\n    }\n</style>\n<table border=\"1\" class=\"dataframe\">\n  <thead>\n    <tr style=\"text-align: right;\">\n      <th></th>\n      <th>State</th>\n      <th>pop2010</th>\n      <th>pop2011</th>\n      <th>pop2012</th>\n      <th>pop2013</th>\n      <th>pop2014</th>\n      <th>pop2015</th>\n      <th>pop2016</th>\n    </tr>\n  </thead>\n  <tbody>\n    <tr>\n      <th>1</th>\n      <td>Alabama</td>\n      <td>4785492</td>\n      <td>4799918</td>\n      <td>4815960</td>\n      <td>4829479</td>\n      <td>4843214</td>\n      <td>4853875</td>\n      <td>4863300</td>\n    </tr>\n    <tr>\n      <th>2</th>\n      <td>Alaska</td>\n      <td>714031</td>\n      <td>722713</td>\n      <td>731089</td>\n      <td>736879</td>\n      <td>736705</td>\n      <td>737709</td>\n      <td>741894</td>\n    </tr>\n    <tr>\n      <th>3</th>\n      <td>Arizona</td>\n      <td>6408312</td>\n      <td>6467163</td>\n      <td>6549634</td>\n      <td>6624617</td>\n      <td>6719993</td>\n      <td>6817565</td>\n      <td>6931071</td>\n    </tr>\n    <tr>\n      <th>4</th>\n      <td>Arkansas</td>\n      <td>2921995</td>\n      <td>2939493</td>\n      <td>2950685</td>\n      <td>2958663</td>\n      <td>2966912</td>\n      <td>2977853</td>\n      <td>2988248</td>\n    </tr>\n    <tr>\n      <th>5</th>\n      <td>California</td>\n      <td>37332685</td>\n      <td>37676861</td>\n      <td>38011074</td>\n      <td>38335203</td>\n      <td>38680810</td>\n      <td>38993940</td>\n      <td>39250017</td>\n    </tr>\n    <tr>\n      <th>6</th>\n      <td>Colorado</td>\n      <td>5048644</td>\n      <td>5118360</td>\n      <td>5189867</td>\n      <td>5267603</td>\n      <td>5349648</td>\n      <td>5448819</td>\n      <td>5540545</td>\n    </tr>\n    <tr>\n      <th>7</th>\n      <td>Connecticut</td>\n      <td>3579899</td>\n      <td>3589893</td>\n      <td>3593795</td>\n      <td>3596003</td>\n      <td>3591873</td>\n      <td>3584730</td>\n      <td>3576452</td>\n    </tr>\n    <tr>\n      <th>8</th>\n      <td>Delaware</td>\n      <td>899816</td>\n      <td>907924</td>\n      <td>916993</td>\n      <td>925395</td>\n      <td>934948</td>\n      <td>944076</td>\n      <td>952065</td>\n    </tr>\n    <tr>\n      <th>9</th>\n      <td>District of Columbia</td>\n      <td>605183</td>\n      <td>620477</td>\n      <td>635327</td>\n      <td>649165</td>\n      <td>659005</td>\n      <td>670377</td>\n      <td>681170</td>\n    </tr>\n    <tr>\n      <th>10</th>\n      <td>Florida</td>\n      <td>18849098</td>\n      <td>19096952</td>\n      <td>19344156</td>\n      <td>19582022</td>\n      <td>19888741</td>\n      <td>20244914</td>\n      <td>20612439</td>\n    </tr>\n  </tbody>\n</table>\n</div>",
            "text/plain": "                   State   pop2010   pop2011   pop2012   pop2013   pop2014  \\\n1                Alabama   4785492   4799918   4815960   4829479   4843214   \n2                 Alaska    714031    722713    731089    736879    736705   \n3                Arizona   6408312   6467163   6549634   6624617   6719993   \n4               Arkansas   2921995   2939493   2950685   2958663   2966912   \n5             California  37332685  37676861  38011074  38335203  38680810   \n6               Colorado   5048644   5118360   5189867   5267603   5349648   \n7            Connecticut   3579899   3589893   3593795   3596003   3591873   \n8               Delaware    899816    907924    916993    925395    934948   \n9   District of Columbia    605183    620477    635327    649165    659005   \n10               Florida  18849098  19096952  19344156  19582022  19888741   \n\n     pop2015   pop2016  \n1    4853875   4863300  \n2     737709    741894  \n3    6817565   6931071  \n4    2977853   2988248  \n5   38993940  39250017  \n6    5448819   5540545  \n7    3584730   3576452  \n8     944076    952065  \n9     670377    681170  \n10  20244914  20612439  "
          },
          "metadata": {}
        }
      ]
    },
    {
      "metadata": {
        "trusted": true
      },
      "cell_type": "code",
      "source": "# Before cleaning, we need to check data types of the columns\nhomelessness.dtypes",
      "execution_count": 58,
      "outputs": [
        {
          "output_type": "execute_result",
          "execution_count": 58,
          "data": {
            "text/plain": "Year          object\nState         object\nCoC Number    object\nCoC Name      object\nMeasures      object\nCount         object\ndtype: object"
          },
          "metadata": {}
        }
      ]
    },
    {
      "metadata": {
        "trusted": true
      },
      "cell_type": "code",
      "source": "homelessness.head(5)",
      "execution_count": 59,
      "outputs": [
        {
          "output_type": "execute_result",
          "execution_count": 59,
          "data": {
            "text/html": "<div>\n<style scoped>\n    .dataframe tbody tr th:only-of-type {\n        vertical-align: middle;\n    }\n\n    .dataframe tbody tr th {\n        vertical-align: top;\n    }\n\n    .dataframe thead th {\n        text-align: right;\n    }\n</style>\n<table border=\"1\" class=\"dataframe\">\n  <thead>\n    <tr style=\"text-align: right;\">\n      <th></th>\n      <th>Year</th>\n      <th>State</th>\n      <th>CoC Number</th>\n      <th>CoC Name</th>\n      <th>Measures</th>\n      <th>Count</th>\n    </tr>\n  </thead>\n  <tbody>\n    <tr>\n      <th>0</th>\n      <td>1/1/2007</td>\n      <td>AK</td>\n      <td>AK-500</td>\n      <td>Anchorage CoC</td>\n      <td>Chronically Homeless Individuals</td>\n      <td>224</td>\n    </tr>\n    <tr>\n      <th>1</th>\n      <td>1/1/2007</td>\n      <td>AK</td>\n      <td>AK-500</td>\n      <td>Anchorage CoC</td>\n      <td>Homeless Individuals</td>\n      <td>696</td>\n    </tr>\n    <tr>\n      <th>2</th>\n      <td>1/1/2007</td>\n      <td>AK</td>\n      <td>AK-500</td>\n      <td>Anchorage CoC</td>\n      <td>Homeless People in Families</td>\n      <td>278</td>\n    </tr>\n    <tr>\n      <th>3</th>\n      <td>1/1/2007</td>\n      <td>AK</td>\n      <td>AK-500</td>\n      <td>Anchorage CoC</td>\n      <td>Sheltered Chronically Homeless Individuals</td>\n      <td>187</td>\n    </tr>\n    <tr>\n      <th>4</th>\n      <td>1/1/2007</td>\n      <td>AK</td>\n      <td>AK-500</td>\n      <td>Anchorage CoC</td>\n      <td>Sheltered Homeless</td>\n      <td>842</td>\n    </tr>\n  </tbody>\n</table>\n</div>",
            "text/plain": "       Year State CoC Number       CoC Name  \\\n0  1/1/2007    AK     AK-500  Anchorage CoC   \n1  1/1/2007    AK     AK-500  Anchorage CoC   \n2  1/1/2007    AK     AK-500  Anchorage CoC   \n3  1/1/2007    AK     AK-500  Anchorage CoC   \n4  1/1/2007    AK     AK-500  Anchorage CoC   \n\n                                     Measures Count  \n0            Chronically Homeless Individuals   224  \n1                        Homeless Individuals   696  \n2                 Homeless People in Families   278  \n3  Sheltered Chronically Homeless Individuals   187  \n4                          Sheltered Homeless   842  "
          },
          "metadata": {}
        }
      ]
    },
    {
      "metadata": {
        "trusted": true
      },
      "cell_type": "code",
      "source": "## Since every column is an object ,, we need to convert Count and Year to integers\n# Cleaning datasets \n# Homelessness DataSet \n# 1. converting Count to String (remove the comma) and then to an integer\nhomelessness['Count'] = homelessness['Count'].str.replace(',', '')\nhomelessness['Count'] = pd.to_numeric(homelessness['Count'])\n# 2. Removing Unneeded columns\n## Continuum of Care (CoC) \nhomelessness.drop(['CoC Number','CoC Name'], axis=1, inplace=True)\n## we want to show in our map, the state & # of homeless people (count) Only\nhomelessness.drop(['Measures'], axis=1, inplace=True)\n# 3. Converting Year to dateTime and then to an integer\n## so that we can check for any year we want \nhomelessness['Year'] = pd.to_datetime(homelessness['Year'])\nhomelessness['Year'] = homelessness['Year'].dt.year\nhomelessness.head(5)\n",
      "execution_count": 60,
      "outputs": [
        {
          "output_type": "execute_result",
          "execution_count": 60,
          "data": {
            "text/html": "<div>\n<style scoped>\n    .dataframe tbody tr th:only-of-type {\n        vertical-align: middle;\n    }\n\n    .dataframe tbody tr th {\n        vertical-align: top;\n    }\n\n    .dataframe thead th {\n        text-align: right;\n    }\n</style>\n<table border=\"1\" class=\"dataframe\">\n  <thead>\n    <tr style=\"text-align: right;\">\n      <th></th>\n      <th>Year</th>\n      <th>State</th>\n      <th>Count</th>\n    </tr>\n  </thead>\n  <tbody>\n    <tr>\n      <th>0</th>\n      <td>2007</td>\n      <td>AK</td>\n      <td>224</td>\n    </tr>\n    <tr>\n      <th>1</th>\n      <td>2007</td>\n      <td>AK</td>\n      <td>696</td>\n    </tr>\n    <tr>\n      <th>2</th>\n      <td>2007</td>\n      <td>AK</td>\n      <td>278</td>\n    </tr>\n    <tr>\n      <th>3</th>\n      <td>2007</td>\n      <td>AK</td>\n      <td>187</td>\n    </tr>\n    <tr>\n      <th>4</th>\n      <td>2007</td>\n      <td>AK</td>\n      <td>842</td>\n    </tr>\n  </tbody>\n</table>\n</div>",
            "text/plain": "   Year State  Count\n0  2007    AK    224\n1  2007    AK    696\n2  2007    AK    278\n3  2007    AK    187\n4  2007    AK    842"
          },
          "metadata": {}
        }
      ]
    },
    {
      "metadata": {
        "trusted": true
      },
      "cell_type": "code",
      "source": "homelessness.info()",
      "execution_count": 61,
      "outputs": [
        {
          "output_type": "stream",
          "text": "<class 'pandas.core.frame.DataFrame'>\nRangeIndex: 86529 entries, 0 to 86528\nData columns (total 3 columns):\nYear     86529 non-null int64\nState    86529 non-null object\nCount    86529 non-null int64\ndtypes: int64(2), object(1)\nmemory usage: 2.0+ MB\n",
          "name": "stdout"
        }
      ]
    },
    {
      "metadata": {
        "trusted": true,
        "scrolled": true
      },
      "cell_type": "code",
      "source": "# Now, we will check for the general information about the Homelessness datasets --> Data Types are presented \nhomelessness.info()\n## from the result--> we have 86,529 rows and 4 columns in total (after removing the 2 columns Coc Number & Name)",
      "execution_count": 62,
      "outputs": [
        {
          "output_type": "stream",
          "text": "<class 'pandas.core.frame.DataFrame'>\nRangeIndex: 86529 entries, 0 to 86528\nData columns (total 3 columns):\nYear     86529 non-null int64\nState    86529 non-null object\nCount    86529 non-null int64\ndtypes: int64(2), object(1)\nmemory usage: 2.0+ MB\n",
          "name": "stdout"
        }
      ]
    },
    {
      "metadata": {
        "trusted": true
      },
      "cell_type": "code",
      "source": "# Now, we will check for the general information about the Population datasets --> Data Types are presented \npopulation.info()\n## from the result--> we have 52 rows and 7 columns in total (from 2010-2016)",
      "execution_count": 63,
      "outputs": [
        {
          "output_type": "stream",
          "text": "<class 'pandas.core.frame.DataFrame'>\nInt64Index: 52 entries, 1 to 52\nData columns (total 8 columns):\nState      52 non-null object\npop2010    52 non-null object\npop2011    52 non-null object\npop2012    52 non-null object\npop2013    52 non-null object\npop2014    52 non-null object\npop2015    52 non-null object\npop2016    52 non-null object\ndtypes: object(8)\nmemory usage: 3.7+ KB\n",
          "name": "stdout"
        }
      ]
    },
    {
      "metadata": {
        "trusted": true
      },
      "cell_type": "code",
      "source": "# the last step is checking for the Null Values in both DataSets\nhomelessness.isnull().sum()\n## No NULL Values ",
      "execution_count": 64,
      "outputs": [
        {
          "output_type": "execute_result",
          "execution_count": 64,
          "data": {
            "text/plain": "Year     0\nState    0\nCount    0\ndtype: int64"
          },
          "metadata": {}
        }
      ]
    },
    {
      "metadata": {
        "trusted": true
      },
      "cell_type": "code",
      "source": "# the last step is checking for the Null Values in both DataSets\npopulation.isnull().sum()\n## No NULL Values ",
      "execution_count": 65,
      "outputs": [
        {
          "output_type": "execute_result",
          "execution_count": 65,
          "data": {
            "text/plain": "State      0\npop2010    0\npop2011    0\npop2012    0\npop2013    0\npop2014    0\npop2015    0\npop2016    0\ndtype: int64"
          },
          "metadata": {}
        }
      ]
    },
    {
      "metadata": {
        "trusted": true
      },
      "cell_type": "code",
      "source": "StatesFullNames = [ 'Alaska', 'Alabama', 'Arkansas', 'Arizona', \n'California', 'Colorado', 'Connecticut', 'District of Columbia', \n'Delaware', 'Florida', 'Georgia','Guam','Hawaii', 'Iowa', \n'Idaho','Illinois', 'Indiana', 'Kansas', 'Kentucky',\n'Louisiana','Massachusetts', 'Maryland', 'Maine', 'Michigan', \n'Minnesota', 'Missouri', 'Mississippi', 'Montana', \n'North Carolina', 'North Dakota', 'Nebraska', 'New Hampshire', \n'New Jersey','New Mexico', 'Nevada', 'New York', 'Ohio', \n'Oklahoma', 'Oregon', 'Pennsylvania', 'Puerto Rico', \n'Rhode Island', 'South Carolina', 'South Dakota', 'Tennessee', \n'Texas','Utah', 'Virginia', 'Virgin Islands','Vermont', \n'Washington', 'Wisconsin', 'West Virginia', 'Wyoming']\n",
      "execution_count": 66,
      "outputs": []
    },
    {
      "metadata": {
        "trusted": true
      },
      "cell_type": "code",
      "source": "# To draw our map\nyears = [2007, 2008, 2009,2010,2011,\n         2012, 2013, 2014, 2015]\n# To draw our map\n\n## making a copy of the homeless dataset to use it in our map\nhomelessnessCopy1 = homelessness.copy()\n\nhomelessnessCopy1.head()",
      "execution_count": 67,
      "outputs": [
        {
          "output_type": "execute_result",
          "execution_count": 67,
          "data": {
            "text/html": "<div>\n<style scoped>\n    .dataframe tbody tr th:only-of-type {\n        vertical-align: middle;\n    }\n\n    .dataframe tbody tr th {\n        vertical-align: top;\n    }\n\n    .dataframe thead th {\n        text-align: right;\n    }\n</style>\n<table border=\"1\" class=\"dataframe\">\n  <thead>\n    <tr style=\"text-align: right;\">\n      <th></th>\n      <th>Year</th>\n      <th>State</th>\n      <th>Count</th>\n    </tr>\n  </thead>\n  <tbody>\n    <tr>\n      <th>0</th>\n      <td>2007</td>\n      <td>AK</td>\n      <td>224</td>\n    </tr>\n    <tr>\n      <th>1</th>\n      <td>2007</td>\n      <td>AK</td>\n      <td>696</td>\n    </tr>\n    <tr>\n      <th>2</th>\n      <td>2007</td>\n      <td>AK</td>\n      <td>278</td>\n    </tr>\n    <tr>\n      <th>3</th>\n      <td>2007</td>\n      <td>AK</td>\n      <td>187</td>\n    </tr>\n    <tr>\n      <th>4</th>\n      <td>2007</td>\n      <td>AK</td>\n      <td>842</td>\n    </tr>\n  </tbody>\n</table>\n</div>",
            "text/plain": "   Year State  Count\n0  2007    AK    224\n1  2007    AK    696\n2  2007    AK    278\n3  2007    AK    187\n4  2007    AK    842"
          },
          "metadata": {}
        }
      ]
    },
    {
      "metadata": {
        "trusted": true
      },
      "cell_type": "code",
      "source": "homelessnessCopy1.head(10)",
      "execution_count": 68,
      "outputs": [
        {
          "output_type": "execute_result",
          "execution_count": 68,
          "data": {
            "text/html": "<div>\n<style scoped>\n    .dataframe tbody tr th:only-of-type {\n        vertical-align: middle;\n    }\n\n    .dataframe tbody tr th {\n        vertical-align: top;\n    }\n\n    .dataframe thead th {\n        text-align: right;\n    }\n</style>\n<table border=\"1\" class=\"dataframe\">\n  <thead>\n    <tr style=\"text-align: right;\">\n      <th></th>\n      <th>Year</th>\n      <th>State</th>\n      <th>Count</th>\n    </tr>\n  </thead>\n  <tbody>\n    <tr>\n      <th>0</th>\n      <td>2007</td>\n      <td>AK</td>\n      <td>224</td>\n    </tr>\n    <tr>\n      <th>1</th>\n      <td>2007</td>\n      <td>AK</td>\n      <td>696</td>\n    </tr>\n    <tr>\n      <th>2</th>\n      <td>2007</td>\n      <td>AK</td>\n      <td>278</td>\n    </tr>\n    <tr>\n      <th>3</th>\n      <td>2007</td>\n      <td>AK</td>\n      <td>187</td>\n    </tr>\n    <tr>\n      <th>4</th>\n      <td>2007</td>\n      <td>AK</td>\n      <td>842</td>\n    </tr>\n    <tr>\n      <th>5</th>\n      <td>2007</td>\n      <td>AK</td>\n      <td>589</td>\n    </tr>\n    <tr>\n      <th>6</th>\n      <td>2007</td>\n      <td>AK</td>\n      <td>253</td>\n    </tr>\n    <tr>\n      <th>7</th>\n      <td>2007</td>\n      <td>AK</td>\n      <td>974</td>\n    </tr>\n    <tr>\n      <th>8</th>\n      <td>2007</td>\n      <td>AK</td>\n      <td>37</td>\n    </tr>\n    <tr>\n      <th>9</th>\n      <td>2007</td>\n      <td>AK</td>\n      <td>132</td>\n    </tr>\n  </tbody>\n</table>\n</div>",
            "text/plain": "   Year State  Count\n0  2007    AK    224\n1  2007    AK    696\n2  2007    AK    278\n3  2007    AK    187\n4  2007    AK    842\n5  2007    AK    589\n6  2007    AK    253\n7  2007    AK    974\n8  2007    AK     37\n9  2007    AK    132"
          },
          "metadata": {}
        }
      ]
    },
    {
      "metadata": {
        "trusted": true
      },
      "cell_type": "code",
      "source": "# Converting the Years rows to columns and setting the # of homeless to max to avoid duplicates\nhomelessnessCopy1 = homelessnessCopy1.groupby(['State', 'Year'])['Count'].max().unstack()\n# removing the first index column instead of having \n#             Year  2007  2008  2009\n#             State \n# we want to have State 2007  2008  2009 and so on\nhomelessnessCopy1 = homelessnessCopy1.reset_index().rename_axis(None).rename_axis(None, axis=1)\n# Adding the States full names column to the dataset\nhomelessnessCopy1 = homelessnessCopy1.rename(columns={'State':'StateAbbrev'})\nhomelessnessCopy1['State'] = pd.Series(StatesFullNames)\nhomelessnessCopy1.head()",
      "execution_count": 69,
      "outputs": [
        {
          "output_type": "execute_result",
          "execution_count": 69,
          "data": {
            "text/html": "<div>\n<style scoped>\n    .dataframe tbody tr th:only-of-type {\n        vertical-align: middle;\n    }\n\n    .dataframe tbody tr th {\n        vertical-align: top;\n    }\n\n    .dataframe thead th {\n        text-align: right;\n    }\n</style>\n<table border=\"1\" class=\"dataframe\">\n  <thead>\n    <tr style=\"text-align: right;\">\n      <th></th>\n      <th>StateAbbrev</th>\n      <th>2007</th>\n      <th>2008</th>\n      <th>2009</th>\n      <th>2010</th>\n      <th>2011</th>\n      <th>2012</th>\n      <th>2013</th>\n      <th>2014</th>\n      <th>2015</th>\n      <th>2016</th>\n      <th>State</th>\n    </tr>\n  </thead>\n  <tbody>\n    <tr>\n      <th>0</th>\n      <td>AK</td>\n      <td>974</td>\n      <td>1023</td>\n      <td>1267</td>\n      <td>1231</td>\n      <td>1223</td>\n      <td>1147</td>\n      <td>1122</td>\n      <td>1023</td>\n      <td>1208</td>\n      <td>1105</td>\n      <td>Alaska</td>\n    </tr>\n    <tr>\n      <th>1</th>\n      <td>AL</td>\n      <td>2104</td>\n      <td>2104</td>\n      <td>2273</td>\n      <td>2273</td>\n      <td>1950</td>\n      <td>1707</td>\n      <td>1469</td>\n      <td>1329</td>\n      <td>1153</td>\n      <td>1228</td>\n      <td>Alabama</td>\n    </tr>\n    <tr>\n      <th>2</th>\n      <td>AR</td>\n      <td>1822</td>\n      <td>1811</td>\n      <td>1425</td>\n      <td>1425</td>\n      <td>1276</td>\n      <td>1873</td>\n      <td>1678</td>\n      <td>1074</td>\n      <td>830</td>\n      <td>808</td>\n      <td>Arkansas</td>\n    </tr>\n    <tr>\n      <th>3</th>\n      <td>AZ</td>\n      <td>8448</td>\n      <td>7189</td>\n      <td>7889</td>\n      <td>6999</td>\n      <td>5831</td>\n      <td>6485</td>\n      <td>5889</td>\n      <td>5918</td>\n      <td>5631</td>\n      <td>5702</td>\n      <td>Arizona</td>\n    </tr>\n    <tr>\n      <th>4</th>\n      <td>CA</td>\n      <td>47862</td>\n      <td>47862</td>\n      <td>33243</td>\n      <td>33243</td>\n      <td>34622</td>\n      <td>31553</td>\n      <td>35524</td>\n      <td>34393</td>\n      <td>41174</td>\n      <td>43854</td>\n      <td>California</td>\n    </tr>\n  </tbody>\n</table>\n</div>",
            "text/plain": "  StateAbbrev   2007   2008   2009   2010   2011   2012   2013   2014   2015  \\\n0          AK    974   1023   1267   1231   1223   1147   1122   1023   1208   \n1          AL   2104   2104   2273   2273   1950   1707   1469   1329   1153   \n2          AR   1822   1811   1425   1425   1276   1873   1678   1074    830   \n3          AZ   8448   7189   7889   6999   5831   6485   5889   5918   5631   \n4          CA  47862  47862  33243  33243  34622  31553  35524  34393  41174   \n\n    2016       State  \n0   1105      Alaska  \n1   1228     Alabama  \n2    808    Arkansas  \n3   5702     Arizona  \n4  43854  California  "
          },
          "metadata": {}
        }
      ]
    },
    {
      "metadata": {
        "trusted": true
      },
      "cell_type": "code",
      "source": "population1 = population.copy()\npopulation1.info()\npopulation1['pop2015'] = population1['pop2015'].str.replace(',', '')\npopulation1['pop2015'] = pd.to_numeric(population1['pop2015'])\nhomelessnessCopy12 = homelessnessCopy1.copy()\npopulation1.head(10)",
      "execution_count": 70,
      "outputs": [
        {
          "output_type": "stream",
          "text": "<class 'pandas.core.frame.DataFrame'>\nInt64Index: 52 entries, 1 to 52\nData columns (total 8 columns):\nState      52 non-null object\npop2010    52 non-null object\npop2011    52 non-null object\npop2012    52 non-null object\npop2013    52 non-null object\npop2014    52 non-null object\npop2015    52 non-null object\npop2016    52 non-null object\ndtypes: object(8)\nmemory usage: 3.7+ KB\n",
          "name": "stdout"
        },
        {
          "output_type": "execute_result",
          "execution_count": 70,
          "data": {
            "text/html": "<div>\n<style scoped>\n    .dataframe tbody tr th:only-of-type {\n        vertical-align: middle;\n    }\n\n    .dataframe tbody tr th {\n        vertical-align: top;\n    }\n\n    .dataframe thead th {\n        text-align: right;\n    }\n</style>\n<table border=\"1\" class=\"dataframe\">\n  <thead>\n    <tr style=\"text-align: right;\">\n      <th></th>\n      <th>State</th>\n      <th>pop2010</th>\n      <th>pop2011</th>\n      <th>pop2012</th>\n      <th>pop2013</th>\n      <th>pop2014</th>\n      <th>pop2015</th>\n      <th>pop2016</th>\n    </tr>\n  </thead>\n  <tbody>\n    <tr>\n      <th>1</th>\n      <td>Alabama</td>\n      <td>4785492</td>\n      <td>4799918</td>\n      <td>4815960</td>\n      <td>4829479</td>\n      <td>4843214</td>\n      <td>4853875</td>\n      <td>4863300</td>\n    </tr>\n    <tr>\n      <th>2</th>\n      <td>Alaska</td>\n      <td>714031</td>\n      <td>722713</td>\n      <td>731089</td>\n      <td>736879</td>\n      <td>736705</td>\n      <td>737709</td>\n      <td>741894</td>\n    </tr>\n    <tr>\n      <th>3</th>\n      <td>Arizona</td>\n      <td>6408312</td>\n      <td>6467163</td>\n      <td>6549634</td>\n      <td>6624617</td>\n      <td>6719993</td>\n      <td>6817565</td>\n      <td>6931071</td>\n    </tr>\n    <tr>\n      <th>4</th>\n      <td>Arkansas</td>\n      <td>2921995</td>\n      <td>2939493</td>\n      <td>2950685</td>\n      <td>2958663</td>\n      <td>2966912</td>\n      <td>2977853</td>\n      <td>2988248</td>\n    </tr>\n    <tr>\n      <th>5</th>\n      <td>California</td>\n      <td>37332685</td>\n      <td>37676861</td>\n      <td>38011074</td>\n      <td>38335203</td>\n      <td>38680810</td>\n      <td>38993940</td>\n      <td>39250017</td>\n    </tr>\n    <tr>\n      <th>6</th>\n      <td>Colorado</td>\n      <td>5048644</td>\n      <td>5118360</td>\n      <td>5189867</td>\n      <td>5267603</td>\n      <td>5349648</td>\n      <td>5448819</td>\n      <td>5540545</td>\n    </tr>\n    <tr>\n      <th>7</th>\n      <td>Connecticut</td>\n      <td>3579899</td>\n      <td>3589893</td>\n      <td>3593795</td>\n      <td>3596003</td>\n      <td>3591873</td>\n      <td>3584730</td>\n      <td>3576452</td>\n    </tr>\n    <tr>\n      <th>8</th>\n      <td>Delaware</td>\n      <td>899816</td>\n      <td>907924</td>\n      <td>916993</td>\n      <td>925395</td>\n      <td>934948</td>\n      <td>944076</td>\n      <td>952065</td>\n    </tr>\n    <tr>\n      <th>9</th>\n      <td>District of Columbia</td>\n      <td>605183</td>\n      <td>620477</td>\n      <td>635327</td>\n      <td>649165</td>\n      <td>659005</td>\n      <td>670377</td>\n      <td>681170</td>\n    </tr>\n    <tr>\n      <th>10</th>\n      <td>Florida</td>\n      <td>18849098</td>\n      <td>19096952</td>\n      <td>19344156</td>\n      <td>19582022</td>\n      <td>19888741</td>\n      <td>20244914</td>\n      <td>20612439</td>\n    </tr>\n  </tbody>\n</table>\n</div>",
            "text/plain": "                   State   pop2010   pop2011   pop2012   pop2013   pop2014  \\\n1                Alabama   4785492   4799918   4815960   4829479   4843214   \n2                 Alaska    714031    722713    731089    736879    736705   \n3                Arizona   6408312   6467163   6549634   6624617   6719993   \n4               Arkansas   2921995   2939493   2950685   2958663   2966912   \n5             California  37332685  37676861  38011074  38335203  38680810   \n6               Colorado   5048644   5118360   5189867   5267603   5349648   \n7            Connecticut   3579899   3589893   3593795   3596003   3591873   \n8               Delaware    899816    907924    916993    925395    934948   \n9   District of Columbia    605183    620477    635327    649165    659005   \n10               Florida  18849098  19096952  19344156  19582022  19888741   \n\n     pop2015   pop2016  \n1    4853875   4863300  \n2     737709    741894  \n3    6817565   6931071  \n4    2977853   2988248  \n5   38993940  39250017  \n6    5448819   5540545  \n7    3584730   3576452  \n8     944076    952065  \n9     670377    681170  \n10  20244914  20612439  "
          },
          "metadata": {}
        }
      ]
    },
    {
      "metadata": {
        "trusted": true
      },
      "cell_type": "code",
      "source": "homelessnessCopy1.head()",
      "execution_count": 71,
      "outputs": [
        {
          "output_type": "execute_result",
          "execution_count": 71,
          "data": {
            "text/html": "<div>\n<style scoped>\n    .dataframe tbody tr th:only-of-type {\n        vertical-align: middle;\n    }\n\n    .dataframe tbody tr th {\n        vertical-align: top;\n    }\n\n    .dataframe thead th {\n        text-align: right;\n    }\n</style>\n<table border=\"1\" class=\"dataframe\">\n  <thead>\n    <tr style=\"text-align: right;\">\n      <th></th>\n      <th>StateAbbrev</th>\n      <th>2007</th>\n      <th>2008</th>\n      <th>2009</th>\n      <th>2010</th>\n      <th>2011</th>\n      <th>2012</th>\n      <th>2013</th>\n      <th>2014</th>\n      <th>2015</th>\n      <th>2016</th>\n      <th>State</th>\n    </tr>\n  </thead>\n  <tbody>\n    <tr>\n      <th>0</th>\n      <td>AK</td>\n      <td>974</td>\n      <td>1023</td>\n      <td>1267</td>\n      <td>1231</td>\n      <td>1223</td>\n      <td>1147</td>\n      <td>1122</td>\n      <td>1023</td>\n      <td>1208</td>\n      <td>1105</td>\n      <td>Alaska</td>\n    </tr>\n    <tr>\n      <th>1</th>\n      <td>AL</td>\n      <td>2104</td>\n      <td>2104</td>\n      <td>2273</td>\n      <td>2273</td>\n      <td>1950</td>\n      <td>1707</td>\n      <td>1469</td>\n      <td>1329</td>\n      <td>1153</td>\n      <td>1228</td>\n      <td>Alabama</td>\n    </tr>\n    <tr>\n      <th>2</th>\n      <td>AR</td>\n      <td>1822</td>\n      <td>1811</td>\n      <td>1425</td>\n      <td>1425</td>\n      <td>1276</td>\n      <td>1873</td>\n      <td>1678</td>\n      <td>1074</td>\n      <td>830</td>\n      <td>808</td>\n      <td>Arkansas</td>\n    </tr>\n    <tr>\n      <th>3</th>\n      <td>AZ</td>\n      <td>8448</td>\n      <td>7189</td>\n      <td>7889</td>\n      <td>6999</td>\n      <td>5831</td>\n      <td>6485</td>\n      <td>5889</td>\n      <td>5918</td>\n      <td>5631</td>\n      <td>5702</td>\n      <td>Arizona</td>\n    </tr>\n    <tr>\n      <th>4</th>\n      <td>CA</td>\n      <td>47862</td>\n      <td>47862</td>\n      <td>33243</td>\n      <td>33243</td>\n      <td>34622</td>\n      <td>31553</td>\n      <td>35524</td>\n      <td>34393</td>\n      <td>41174</td>\n      <td>43854</td>\n      <td>California</td>\n    </tr>\n  </tbody>\n</table>\n</div>",
            "text/plain": "  StateAbbrev   2007   2008   2009   2010   2011   2012   2013   2014   2015  \\\n0          AK    974   1023   1267   1231   1223   1147   1122   1023   1208   \n1          AL   2104   2104   2273   2273   1950   1707   1469   1329   1153   \n2          AR   1822   1811   1425   1425   1276   1873   1678   1074    830   \n3          AZ   8448   7189   7889   6999   5831   6485   5889   5918   5631   \n4          CA  47862  47862  33243  33243  34622  31553  35524  34393  41174   \n\n    2016       State  \n0   1105      Alaska  \n1   1228     Alabama  \n2    808    Arkansas  \n3   5702     Arizona  \n4  43854  California  "
          },
          "metadata": {}
        }
      ]
    },
    {
      "metadata": {
        "trusted": true
      },
      "cell_type": "code",
      "source": "\nhomelessnessCopy1 = homelessnessCopy1.merge(population1, on='State')\nhomelessnessCopy1.head()",
      "execution_count": 72,
      "outputs": [
        {
          "output_type": "execute_result",
          "execution_count": 72,
          "data": {
            "text/html": "<div>\n<style scoped>\n    .dataframe tbody tr th:only-of-type {\n        vertical-align: middle;\n    }\n\n    .dataframe tbody tr th {\n        vertical-align: top;\n    }\n\n    .dataframe thead th {\n        text-align: right;\n    }\n</style>\n<table border=\"1\" class=\"dataframe\">\n  <thead>\n    <tr style=\"text-align: right;\">\n      <th></th>\n      <th>StateAbbrev</th>\n      <th>2007</th>\n      <th>2008</th>\n      <th>2009</th>\n      <th>2010</th>\n      <th>2011</th>\n      <th>2012</th>\n      <th>2013</th>\n      <th>2014</th>\n      <th>2015</th>\n      <th>2016</th>\n      <th>State</th>\n      <th>pop2010</th>\n      <th>pop2011</th>\n      <th>pop2012</th>\n      <th>pop2013</th>\n      <th>pop2014</th>\n      <th>pop2015</th>\n      <th>pop2016</th>\n    </tr>\n  </thead>\n  <tbody>\n    <tr>\n      <th>0</th>\n      <td>AK</td>\n      <td>974</td>\n      <td>1023</td>\n      <td>1267</td>\n      <td>1231</td>\n      <td>1223</td>\n      <td>1147</td>\n      <td>1122</td>\n      <td>1023</td>\n      <td>1208</td>\n      <td>1105</td>\n      <td>Alaska</td>\n      <td>714031</td>\n      <td>722713</td>\n      <td>731089</td>\n      <td>736879</td>\n      <td>736705</td>\n      <td>737709</td>\n      <td>741894</td>\n    </tr>\n    <tr>\n      <th>1</th>\n      <td>AL</td>\n      <td>2104</td>\n      <td>2104</td>\n      <td>2273</td>\n      <td>2273</td>\n      <td>1950</td>\n      <td>1707</td>\n      <td>1469</td>\n      <td>1329</td>\n      <td>1153</td>\n      <td>1228</td>\n      <td>Alabama</td>\n      <td>4785492</td>\n      <td>4799918</td>\n      <td>4815960</td>\n      <td>4829479</td>\n      <td>4843214</td>\n      <td>4853875</td>\n      <td>4863300</td>\n    </tr>\n    <tr>\n      <th>2</th>\n      <td>AR</td>\n      <td>1822</td>\n      <td>1811</td>\n      <td>1425</td>\n      <td>1425</td>\n      <td>1276</td>\n      <td>1873</td>\n      <td>1678</td>\n      <td>1074</td>\n      <td>830</td>\n      <td>808</td>\n      <td>Arkansas</td>\n      <td>2921995</td>\n      <td>2939493</td>\n      <td>2950685</td>\n      <td>2958663</td>\n      <td>2966912</td>\n      <td>2977853</td>\n      <td>2988248</td>\n    </tr>\n    <tr>\n      <th>3</th>\n      <td>AZ</td>\n      <td>8448</td>\n      <td>7189</td>\n      <td>7889</td>\n      <td>6999</td>\n      <td>5831</td>\n      <td>6485</td>\n      <td>5889</td>\n      <td>5918</td>\n      <td>5631</td>\n      <td>5702</td>\n      <td>Arizona</td>\n      <td>6408312</td>\n      <td>6467163</td>\n      <td>6549634</td>\n      <td>6624617</td>\n      <td>6719993</td>\n      <td>6817565</td>\n      <td>6931071</td>\n    </tr>\n    <tr>\n      <th>4</th>\n      <td>CA</td>\n      <td>47862</td>\n      <td>47862</td>\n      <td>33243</td>\n      <td>33243</td>\n      <td>34622</td>\n      <td>31553</td>\n      <td>35524</td>\n      <td>34393</td>\n      <td>41174</td>\n      <td>43854</td>\n      <td>California</td>\n      <td>37332685</td>\n      <td>37676861</td>\n      <td>38011074</td>\n      <td>38335203</td>\n      <td>38680810</td>\n      <td>38993940</td>\n      <td>39250017</td>\n    </tr>\n  </tbody>\n</table>\n</div>",
            "text/plain": "  StateAbbrev   2007   2008   2009   2010   2011   2012   2013   2014   2015  \\\n0          AK    974   1023   1267   1231   1223   1147   1122   1023   1208   \n1          AL   2104   2104   2273   2273   1950   1707   1469   1329   1153   \n2          AR   1822   1811   1425   1425   1276   1873   1678   1074    830   \n3          AZ   8448   7189   7889   6999   5831   6485   5889   5918   5631   \n4          CA  47862  47862  33243  33243  34622  31553  35524  34393  41174   \n\n    2016       State   pop2010   pop2011   pop2012   pop2013   pop2014  \\\n0   1105      Alaska    714031    722713    731089    736879    736705   \n1   1228     Alabama   4785492   4799918   4815960   4829479   4843214   \n2    808    Arkansas   2921995   2939493   2950685   2958663   2966912   \n3   5702     Arizona   6408312   6467163   6549634   6624617   6719993   \n4  43854  California  37332685  37676861  38011074  38335203  38680810   \n\n    pop2015   pop2016  \n0    737709    741894  \n1   4853875   4863300  \n2   2977853   2988248  \n3   6817565   6931071  \n4  38993940  39250017  "
          },
          "metadata": {}
        }
      ]
    },
    {
      "metadata": {
        "trusted": true
      },
      "cell_type": "code",
      "source": "homelessnessCopy1.head(54)",
      "execution_count": 73,
      "outputs": [
        {
          "output_type": "execute_result",
          "execution_count": 73,
          "data": {
            "text/html": "<div>\n<style scoped>\n    .dataframe tbody tr th:only-of-type {\n        vertical-align: middle;\n    }\n\n    .dataframe tbody tr th {\n        vertical-align: top;\n    }\n\n    .dataframe thead th {\n        text-align: right;\n    }\n</style>\n<table border=\"1\" class=\"dataframe\">\n  <thead>\n    <tr style=\"text-align: right;\">\n      <th></th>\n      <th>StateAbbrev</th>\n      <th>2007</th>\n      <th>2008</th>\n      <th>2009</th>\n      <th>2010</th>\n      <th>2011</th>\n      <th>2012</th>\n      <th>2013</th>\n      <th>2014</th>\n      <th>2015</th>\n      <th>2016</th>\n      <th>State</th>\n      <th>pop2010</th>\n      <th>pop2011</th>\n      <th>pop2012</th>\n      <th>pop2013</th>\n      <th>pop2014</th>\n      <th>pop2015</th>\n      <th>pop2016</th>\n    </tr>\n  </thead>\n  <tbody>\n    <tr>\n      <th>0</th>\n      <td>AK</td>\n      <td>974</td>\n      <td>1023</td>\n      <td>1267</td>\n      <td>1231</td>\n      <td>1223</td>\n      <td>1147</td>\n      <td>1122</td>\n      <td>1023</td>\n      <td>1208</td>\n      <td>1105</td>\n      <td>Alaska</td>\n      <td>714031</td>\n      <td>722713</td>\n      <td>731089</td>\n      <td>736879</td>\n      <td>736705</td>\n      <td>737709</td>\n      <td>741894</td>\n    </tr>\n    <tr>\n      <th>1</th>\n      <td>AL</td>\n      <td>2104</td>\n      <td>2104</td>\n      <td>2273</td>\n      <td>2273</td>\n      <td>1950</td>\n      <td>1707</td>\n      <td>1469</td>\n      <td>1329</td>\n      <td>1153</td>\n      <td>1228</td>\n      <td>Alabama</td>\n      <td>4785492</td>\n      <td>4799918</td>\n      <td>4815960</td>\n      <td>4829479</td>\n      <td>4843214</td>\n      <td>4853875</td>\n      <td>4863300</td>\n    </tr>\n    <tr>\n      <th>2</th>\n      <td>AR</td>\n      <td>1822</td>\n      <td>1811</td>\n      <td>1425</td>\n      <td>1425</td>\n      <td>1276</td>\n      <td>1873</td>\n      <td>1678</td>\n      <td>1074</td>\n      <td>830</td>\n      <td>808</td>\n      <td>Arkansas</td>\n      <td>2921995</td>\n      <td>2939493</td>\n      <td>2950685</td>\n      <td>2958663</td>\n      <td>2966912</td>\n      <td>2977853</td>\n      <td>2988248</td>\n    </tr>\n    <tr>\n      <th>3</th>\n      <td>AZ</td>\n      <td>8448</td>\n      <td>7189</td>\n      <td>7889</td>\n      <td>6999</td>\n      <td>5831</td>\n      <td>6485</td>\n      <td>5889</td>\n      <td>5918</td>\n      <td>5631</td>\n      <td>5702</td>\n      <td>Arizona</td>\n      <td>6408312</td>\n      <td>6467163</td>\n      <td>6549634</td>\n      <td>6624617</td>\n      <td>6719993</td>\n      <td>6817565</td>\n      <td>6931071</td>\n    </tr>\n    <tr>\n      <th>4</th>\n      <td>CA</td>\n      <td>47862</td>\n      <td>47862</td>\n      <td>33243</td>\n      <td>33243</td>\n      <td>34622</td>\n      <td>31553</td>\n      <td>35524</td>\n      <td>34393</td>\n      <td>41174</td>\n      <td>43854</td>\n      <td>California</td>\n      <td>37332685</td>\n      <td>37676861</td>\n      <td>38011074</td>\n      <td>38335203</td>\n      <td>38680810</td>\n      <td>38993940</td>\n      <td>39250017</td>\n    </tr>\n    <tr>\n      <th>5</th>\n      <td>CO</td>\n      <td>8698</td>\n      <td>8482</td>\n      <td>8752</td>\n      <td>8752</td>\n      <td>9283</td>\n      <td>9283</td>\n      <td>6316</td>\n      <td>6621</td>\n      <td>5335</td>\n      <td>5728</td>\n      <td>Colorado</td>\n      <td>5048644</td>\n      <td>5118360</td>\n      <td>5189867</td>\n      <td>5267603</td>\n      <td>5349648</td>\n      <td>5448819</td>\n      <td>5540545</td>\n    </tr>\n    <tr>\n      <th>6</th>\n      <td>CT</td>\n      <td>3563</td>\n      <td>3781</td>\n      <td>3780</td>\n      <td>3372</td>\n      <td>3451</td>\n      <td>3307</td>\n      <td>3389</td>\n      <td>3367</td>\n      <td>3134</td>\n      <td>3016</td>\n      <td>Connecticut</td>\n      <td>3579899</td>\n      <td>3589893</td>\n      <td>3593795</td>\n      <td>3596003</td>\n      <td>3591873</td>\n      <td>3584730</td>\n      <td>3576452</td>\n    </tr>\n    <tr>\n      <th>7</th>\n      <td>DC</td>\n      <td>5320</td>\n      <td>6044</td>\n      <td>6228</td>\n      <td>6539</td>\n      <td>6546</td>\n      <td>6954</td>\n      <td>6865</td>\n      <td>7748</td>\n      <td>7298</td>\n      <td>8350</td>\n      <td>District of Columbia</td>\n      <td>605183</td>\n      <td>620477</td>\n      <td>635327</td>\n      <td>649165</td>\n      <td>659005</td>\n      <td>670377</td>\n      <td>681170</td>\n    </tr>\n    <tr>\n      <th>8</th>\n      <td>DE</td>\n      <td>1061</td>\n      <td>933</td>\n      <td>1130</td>\n      <td>982</td>\n      <td>1035</td>\n      <td>1008</td>\n      <td>946</td>\n      <td>901</td>\n      <td>953</td>\n      <td>1070</td>\n      <td>Delaware</td>\n      <td>899816</td>\n      <td>907924</td>\n      <td>916993</td>\n      <td>925395</td>\n      <td>934948</td>\n      <td>944076</td>\n      <td>952065</td>\n    </tr>\n    <tr>\n      <th>9</th>\n      <td>FL</td>\n      <td>6483</td>\n      <td>6483</td>\n      <td>7473</td>\n      <td>7473</td>\n      <td>7336</td>\n      <td>7419</td>\n      <td>4378</td>\n      <td>4156</td>\n      <td>4152</td>\n      <td>4235</td>\n      <td>Florida</td>\n      <td>18849098</td>\n      <td>19096952</td>\n      <td>19344156</td>\n      <td>19582022</td>\n      <td>19888741</td>\n      <td>20244914</td>\n      <td>20612439</td>\n    </tr>\n    <tr>\n      <th>10</th>\n      <td>GA</td>\n      <td>10255</td>\n      <td>9340</td>\n      <td>9941</td>\n      <td>9750</td>\n      <td>11168</td>\n      <td>11105</td>\n      <td>7651</td>\n      <td>7577</td>\n      <td>5797</td>\n      <td>5575</td>\n      <td>Georgia</td>\n      <td>9713521</td>\n      <td>9811610</td>\n      <td>9914668</td>\n      <td>9984938</td>\n      <td>10087231</td>\n      <td>10199398</td>\n      <td>10310371</td>\n    </tr>\n    <tr>\n      <th>11</th>\n      <td>HI</td>\n      <td>3750</td>\n      <td>3750</td>\n      <td>3638</td>\n      <td>4171</td>\n      <td>4234</td>\n      <td>4353</td>\n      <td>4556</td>\n      <td>4712</td>\n      <td>4903</td>\n      <td>4940</td>\n      <td>Hawaii</td>\n      <td>1363945</td>\n      <td>1377864</td>\n      <td>1391820</td>\n      <td>1406481</td>\n      <td>1416349</td>\n      <td>1425157</td>\n      <td>1428557</td>\n    </tr>\n    <tr>\n      <th>12</th>\n      <td>IA</td>\n      <td>1529</td>\n      <td>1950</td>\n      <td>1962</td>\n      <td>1686</td>\n      <td>1782</td>\n      <td>1860</td>\n      <td>1920</td>\n      <td>1939</td>\n      <td>1975</td>\n      <td>1923</td>\n      <td>Iowa</td>\n      <td>3050738</td>\n      <td>3065223</td>\n      <td>3076310</td>\n      <td>3091930</td>\n      <td>3108030</td>\n      <td>3121997</td>\n      <td>3134693</td>\n    </tr>\n    <tr>\n      <th>13</th>\n      <td>ID</td>\n      <td>1168</td>\n      <td>853</td>\n      <td>1153</td>\n      <td>1474</td>\n      <td>1361</td>\n      <td>1214</td>\n      <td>1087</td>\n      <td>1351</td>\n      <td>1211</td>\n      <td>1380</td>\n      <td>Idaho</td>\n      <td>1571010</td>\n      <td>1584143</td>\n      <td>1595911</td>\n      <td>1612011</td>\n      <td>1633532</td>\n      <td>1652828</td>\n      <td>1683140</td>\n    </tr>\n    <tr>\n      <th>14</th>\n      <td>IL</td>\n      <td>5979</td>\n      <td>5979</td>\n      <td>6240</td>\n      <td>6240</td>\n      <td>6635</td>\n      <td>6710</td>\n      <td>6276</td>\n      <td>6287</td>\n      <td>6786</td>\n      <td>5889</td>\n      <td>Illinois</td>\n      <td>12841578</td>\n      <td>12860012</td>\n      <td>12870798</td>\n      <td>12879505</td>\n      <td>12867544</td>\n      <td>12839047</td>\n      <td>12801539</td>\n    </tr>\n    <tr>\n      <th>15</th>\n      <td>IN</td>\n      <td>4906</td>\n      <td>4906</td>\n      <td>4287</td>\n      <td>4317</td>\n      <td>3996</td>\n      <td>3959</td>\n      <td>3910</td>\n      <td>3589</td>\n      <td>3664</td>\n      <td>3711</td>\n      <td>Indiana</td>\n      <td>6490528</td>\n      <td>6516480</td>\n      <td>6537743</td>\n      <td>6569102</td>\n      <td>6595233</td>\n      <td>6612768</td>\n      <td>6633053</td>\n    </tr>\n    <tr>\n      <th>16</th>\n      <td>KS</td>\n      <td>937</td>\n      <td>524</td>\n      <td>859</td>\n      <td>859</td>\n      <td>1023</td>\n      <td>1043</td>\n      <td>1141</td>\n      <td>1307</td>\n      <td>1208</td>\n      <td>903</td>\n      <td>Kansas</td>\n      <td>2858850</td>\n      <td>2869503</td>\n      <td>2885262</td>\n      <td>2892821</td>\n      <td>2899360</td>\n      <td>2906721</td>\n      <td>2907289</td>\n    </tr>\n    <tr>\n      <th>17</th>\n      <td>KY</td>\n      <td>4316</td>\n      <td>4027</td>\n      <td>3174</td>\n      <td>3446</td>\n      <td>2834</td>\n      <td>2328</td>\n      <td>2392</td>\n      <td>2229</td>\n      <td>2119</td>\n      <td>2057</td>\n      <td>Kentucky</td>\n      <td>4348662</td>\n      <td>4369354</td>\n      <td>4384799</td>\n      <td>4400477</td>\n      <td>4413057</td>\n      <td>4424611</td>\n      <td>4436974</td>\n    </tr>\n    <tr>\n      <th>18</th>\n      <td>LA</td>\n      <td>1619</td>\n      <td>1619</td>\n      <td>8725</td>\n      <td>8725</td>\n      <td>6687</td>\n      <td>4903</td>\n      <td>2337</td>\n      <td>1981</td>\n      <td>1703</td>\n      <td>1626</td>\n      <td>Louisiana</td>\n      <td>4544996</td>\n      <td>4575404</td>\n      <td>4603429</td>\n      <td>4626402</td>\n      <td>4647880</td>\n      <td>4668960</td>\n      <td>4681666</td>\n    </tr>\n    <tr>\n      <th>19</th>\n      <td>MA</td>\n      <td>5104</td>\n      <td>5198</td>\n      <td>5101</td>\n      <td>5139</td>\n      <td>5476</td>\n      <td>5607</td>\n      <td>5881</td>\n      <td>5987</td>\n      <td>6492</td>\n      <td>6240</td>\n      <td>Massachusetts</td>\n      <td>6565524</td>\n      <td>6611923</td>\n      <td>6658008</td>\n      <td>6706786</td>\n      <td>6749911</td>\n      <td>6784240</td>\n      <td>6811779</td>\n    </tr>\n    <tr>\n      <th>20</th>\n      <td>MD</td>\n      <td>2607</td>\n      <td>2607</td>\n      <td>3419</td>\n      <td>3419</td>\n      <td>4094</td>\n      <td>3854</td>\n      <td>2638</td>\n      <td>2567</td>\n      <td>2796</td>\n      <td>2725</td>\n      <td>Maryland</td>\n      <td>5788584</td>\n      <td>5843603</td>\n      <td>5889651</td>\n      <td>5931129</td>\n      <td>5967295</td>\n      <td>5994983</td>\n      <td>6016447</td>\n    </tr>\n    <tr>\n      <th>21</th>\n      <td>ME</td>\n      <td>1897</td>\n      <td>1903</td>\n      <td>1775</td>\n      <td>1743</td>\n      <td>1832</td>\n      <td>1762</td>\n      <td>2191</td>\n      <td>1940</td>\n      <td>1632</td>\n      <td>1482</td>\n      <td>Maine</td>\n      <td>1327730</td>\n      <td>1328231</td>\n      <td>1328895</td>\n      <td>1329076</td>\n      <td>1330719</td>\n      <td>1329453</td>\n      <td>1331479</td>\n    </tr>\n    <tr>\n      <th>22</th>\n      <td>MI</td>\n      <td>18062</td>\n      <td>18062</td>\n      <td>3694</td>\n      <td>2953</td>\n      <td>3138</td>\n      <td>3115</td>\n      <td>2789</td>\n      <td>2755</td>\n      <td>2597</td>\n      <td>2335</td>\n      <td>Michigan</td>\n      <td>9877495</td>\n      <td>9876213</td>\n      <td>9887238</td>\n      <td>9898982</td>\n      <td>9915767</td>\n      <td>9917715</td>\n      <td>9928300</td>\n    </tr>\n    <tr>\n      <th>23</th>\n      <td>MN</td>\n      <td>2984</td>\n      <td>3369</td>\n      <td>3281</td>\n      <td>3056</td>\n      <td>3100</td>\n      <td>3285</td>\n      <td>3591</td>\n      <td>3731</td>\n      <td>3215</td>\n      <td>3056</td>\n      <td>Minnesota</td>\n      <td>5311147</td>\n      <td>5348562</td>\n      <td>5380285</td>\n      <td>5418521</td>\n      <td>5453109</td>\n      <td>5482435</td>\n      <td>5519952</td>\n    </tr>\n    <tr>\n      <th>24</th>\n      <td>MO</td>\n      <td>1786</td>\n      <td>2260</td>\n      <td>1809</td>\n      <td>2153</td>\n      <td>2992</td>\n      <td>2705</td>\n      <td>2691</td>\n      <td>2193</td>\n      <td>1686</td>\n      <td>1699</td>\n      <td>Missouri</td>\n      <td>5996118</td>\n      <td>6010717</td>\n      <td>6025415</td>\n      <td>6042711</td>\n      <td>6060930</td>\n      <td>6076204</td>\n      <td>6093000</td>\n    </tr>\n    <tr>\n      <th>25</th>\n      <td>MS</td>\n      <td>718</td>\n      <td>1302</td>\n      <td>1242</td>\n      <td>1242</td>\n      <td>951</td>\n      <td>1037</td>\n      <td>1052</td>\n      <td>954</td>\n      <td>809</td>\n      <td>785</td>\n      <td>Mississippi</td>\n      <td>2970322</td>\n      <td>2978162</td>\n      <td>2984945</td>\n      <td>2990482</td>\n      <td>2992400</td>\n      <td>2989390</td>\n      <td>2988726</td>\n    </tr>\n    <tr>\n      <th>26</th>\n      <td>MT</td>\n      <td>1150</td>\n      <td>1417</td>\n      <td>1196</td>\n      <td>1615</td>\n      <td>1768</td>\n      <td>1833</td>\n      <td>1878</td>\n      <td>1745</td>\n      <td>1709</td>\n      <td>1418</td>\n      <td>Montana</td>\n      <td>990641</td>\n      <td>997821</td>\n      <td>1005196</td>\n      <td>1014314</td>\n      <td>1022867</td>\n      <td>1032073</td>\n      <td>1042520</td>\n    </tr>\n    <tr>\n      <th>27</th>\n      <td>NC</td>\n      <td>2610</td>\n      <td>2742</td>\n      <td>2821</td>\n      <td>2851</td>\n      <td>2987</td>\n      <td>2922</td>\n      <td>3625</td>\n      <td>3195</td>\n      <td>3021</td>\n      <td>2963</td>\n      <td>North Carolina</td>\n      <td>9558915</td>\n      <td>9650963</td>\n      <td>9746175</td>\n      <td>9841590</td>\n      <td>9934399</td>\n      <td>10035186</td>\n      <td>10146788</td>\n    </tr>\n    <tr>\n      <th>28</th>\n      <td>ND</td>\n      <td>636</td>\n      <td>615</td>\n      <td>773</td>\n      <td>799</td>\n      <td>603</td>\n      <td>688</td>\n      <td>2069</td>\n      <td>1258</td>\n      <td>1305</td>\n      <td>923</td>\n      <td>North Dakota</td>\n      <td>674526</td>\n      <td>685476</td>\n      <td>702087</td>\n      <td>724019</td>\n      <td>739904</td>\n      <td>756835</td>\n      <td>757952</td>\n    </tr>\n    <tr>\n      <th>29</th>\n      <td>NE</td>\n      <td>1870</td>\n      <td>1637</td>\n      <td>1483</td>\n      <td>1540</td>\n      <td>1580</td>\n      <td>1530</td>\n      <td>1476</td>\n      <td>1630</td>\n      <td>1481</td>\n      <td>1509</td>\n      <td>Nebraska</td>\n      <td>1830051</td>\n      <td>1842283</td>\n      <td>1855725</td>\n      <td>1868559</td>\n      <td>1881145</td>\n      <td>1893765</td>\n      <td>1907116</td>\n    </tr>\n    <tr>\n      <th>30</th>\n      <td>NH</td>\n      <td>1300</td>\n      <td>986</td>\n      <td>769</td>\n      <td>813</td>\n      <td>808</td>\n      <td>761</td>\n      <td>759</td>\n      <td>689</td>\n      <td>718</td>\n      <td>670</td>\n      <td>New Hampshire</td>\n      <td>1316872</td>\n      <td>1318473</td>\n      <td>1321182</td>\n      <td>1322687</td>\n      <td>1328743</td>\n      <td>1330111</td>\n      <td>1334795</td>\n    </tr>\n    <tr>\n      <th>31</th>\n      <td>NJ</td>\n      <td>2842</td>\n      <td>2227</td>\n      <td>1779</td>\n      <td>1779</td>\n      <td>1536</td>\n      <td>2087</td>\n      <td>1648</td>\n      <td>1695</td>\n      <td>1610</td>\n      <td>1779</td>\n      <td>New Jersey</td>\n      <td>8803729</td>\n      <td>8841243</td>\n      <td>8873211</td>\n      <td>8899162</td>\n      <td>8925001</td>\n      <td>8935421</td>\n      <td>8944469</td>\n    </tr>\n    <tr>\n      <th>32</th>\n      <td>NM</td>\n      <td>1739</td>\n      <td>1739</td>\n      <td>2002</td>\n      <td>2002</td>\n      <td>1962</td>\n      <td>1814</td>\n      <td>1648</td>\n      <td>1492</td>\n      <td>1342</td>\n      <td>1222</td>\n      <td>New Mexico</td>\n      <td>2064756</td>\n      <td>2077756</td>\n      <td>2083784</td>\n      <td>2085193</td>\n      <td>2083024</td>\n      <td>2080328</td>\n      <td>2081015</td>\n    </tr>\n    <tr>\n      <th>33</th>\n      <td>NV</td>\n      <td>7533</td>\n      <td>7533</td>\n      <td>9949</td>\n      <td>9949</td>\n      <td>8003</td>\n      <td>7323</td>\n      <td>5952</td>\n      <td>7443</td>\n      <td>7509</td>\n      <td>6208</td>\n      <td>Nevada</td>\n      <td>2703284</td>\n      <td>2718379</td>\n      <td>2752565</td>\n      <td>2786464</td>\n      <td>2833013</td>\n      <td>2883758</td>\n      <td>2940058</td>\n    </tr>\n    <tr>\n      <th>34</th>\n      <td>NY</td>\n      <td>50372</td>\n      <td>50261</td>\n      <td>49343</td>\n      <td>53187</td>\n      <td>51123</td>\n      <td>56672</td>\n      <td>64060</td>\n      <td>67810</td>\n      <td>75323</td>\n      <td>73523</td>\n      <td>New York</td>\n      <td>19402640</td>\n      <td>19519529</td>\n      <td>19602769</td>\n      <td>19673546</td>\n      <td>19718515</td>\n      <td>19747183</td>\n      <td>19745289</td>\n    </tr>\n    <tr>\n      <th>35</th>\n      <td>OH</td>\n      <td>3521</td>\n      <td>4525</td>\n      <td>4770</td>\n      <td>4555</td>\n      <td>4431</td>\n      <td>5121</td>\n      <td>3830</td>\n      <td>3806</td>\n      <td>3320</td>\n      <td>3032</td>\n      <td>Ohio</td>\n      <td>11540983</td>\n      <td>11544824</td>\n      <td>11550839</td>\n      <td>11570022</td>\n      <td>11594408</td>\n      <td>11605090</td>\n      <td>11614373</td>\n    </tr>\n    <tr>\n      <th>36</th>\n      <td>OK</td>\n      <td>1734</td>\n      <td>1335</td>\n      <td>1475</td>\n      <td>1145</td>\n      <td>1348</td>\n      <td>1303</td>\n      <td>1362</td>\n      <td>1481</td>\n      <td>1300</td>\n      <td>1511</td>\n      <td>Oklahoma</td>\n      <td>3759603</td>\n      <td>3786274</td>\n      <td>3817054</td>\n      <td>3852415</td>\n      <td>3877499</td>\n      <td>3907414</td>\n      <td>3923561</td>\n    </tr>\n    <tr>\n      <th>37</th>\n      <td>OR</td>\n      <td>6431</td>\n      <td>9860</td>\n      <td>6777</td>\n      <td>8814</td>\n      <td>7006</td>\n      <td>6105</td>\n      <td>5525</td>\n      <td>4122</td>\n      <td>5544</td>\n      <td>5710</td>\n      <td>Oregon</td>\n      <td>3838048</td>\n      <td>3868031</td>\n      <td>3899116</td>\n      <td>3925751</td>\n      <td>3968371</td>\n      <td>4024634</td>\n      <td>4093465</td>\n    </tr>\n    <tr>\n      <th>38</th>\n      <td>PA</td>\n      <td>7640</td>\n      <td>6871</td>\n      <td>6304</td>\n      <td>6084</td>\n      <td>6180</td>\n      <td>5780</td>\n      <td>5645</td>\n      <td>5738</td>\n      <td>5998</td>\n      <td>6112</td>\n      <td>Pennsylvania</td>\n      <td>12712343</td>\n      <td>12744293</td>\n      <td>12771854</td>\n      <td>12781338</td>\n      <td>12790565</td>\n      <td>12791904</td>\n      <td>12784227</td>\n    </tr>\n    <tr>\n      <th>39</th>\n      <td>PR</td>\n      <td>2305</td>\n      <td>2305</td>\n      <td>2295</td>\n      <td>2374</td>\n      <td>1847</td>\n      <td>1685</td>\n      <td>2094</td>\n      <td>2085</td>\n      <td>2422</td>\n      <td>2343</td>\n      <td>Puerto Rico</td>\n      <td>3721525</td>\n      <td>3678732</td>\n      <td>3634488</td>\n      <td>3593077</td>\n      <td>3534874</td>\n      <td>3473181</td>\n      <td>3411307</td>\n    </tr>\n    <tr>\n      <th>40</th>\n      <td>RI</td>\n      <td>1372</td>\n      <td>1196</td>\n      <td>1607</td>\n      <td>1282</td>\n      <td>1070</td>\n      <td>1277</td>\n      <td>1384</td>\n      <td>1190</td>\n      <td>1111</td>\n      <td>1160</td>\n      <td>Rhode Island</td>\n      <td>1053337</td>\n      <td>1052451</td>\n      <td>1052901</td>\n      <td>1053033</td>\n      <td>1054480</td>\n      <td>1055607</td>\n      <td>1056426</td>\n    </tr>\n    <tr>\n      <th>41</th>\n      <td>SC</td>\n      <td>1946</td>\n      <td>1946</td>\n      <td>1525</td>\n      <td>1525</td>\n      <td>1621</td>\n      <td>1648</td>\n      <td>2308</td>\n      <td>1636</td>\n      <td>1961</td>\n      <td>1829</td>\n      <td>South Carolina</td>\n      <td>4635943</td>\n      <td>4672637</td>\n      <td>4720760</td>\n      <td>4767894</td>\n      <td>4828430</td>\n      <td>4894834</td>\n      <td>4961119</td>\n    </tr>\n    <tr>\n      <th>42</th>\n      <td>SD</td>\n      <td>579</td>\n      <td>579</td>\n      <td>731</td>\n      <td>731</td>\n      <td>826</td>\n      <td>859</td>\n      <td>1094</td>\n      <td>885</td>\n      <td>1036</td>\n      <td>1072</td>\n      <td>South Dakota</td>\n      <td>816325</td>\n      <td>824398</td>\n      <td>834441</td>\n      <td>844922</td>\n      <td>852561</td>\n      <td>857919</td>\n      <td>865454</td>\n    </tr>\n    <tr>\n      <th>43</th>\n      <td>TN</td>\n      <td>2255</td>\n      <td>2217</td>\n      <td>2236</td>\n      <td>2324</td>\n      <td>1942</td>\n      <td>2076</td>\n      <td>2069</td>\n      <td>2234</td>\n      <td>2154</td>\n      <td>2365</td>\n      <td>Tennessee</td>\n      <td>6356671</td>\n      <td>6397634</td>\n      <td>6454306</td>\n      <td>6494821</td>\n      <td>6544663</td>\n      <td>6595056</td>\n      <td>6651194</td>\n    </tr>\n    <tr>\n      <th>44</th>\n      <td>TX</td>\n      <td>12958</td>\n      <td>13298</td>\n      <td>15327</td>\n      <td>14827</td>\n      <td>14643</td>\n      <td>12764</td>\n      <td>10128</td>\n      <td>9943</td>\n      <td>7016</td>\n      <td>6048</td>\n      <td>Texas</td>\n      <td>25244310</td>\n      <td>25646389</td>\n      <td>26071655</td>\n      <td>26473525</td>\n      <td>26944751</td>\n      <td>27429639</td>\n      <td>27862596</td>\n    </tr>\n    <tr>\n      <th>45</th>\n      <td>UT</td>\n      <td>2079</td>\n      <td>2296</td>\n      <td>1811</td>\n      <td>1968</td>\n      <td>2033</td>\n      <td>2463</td>\n      <td>2133</td>\n      <td>2150</td>\n      <td>2176</td>\n      <td>1891</td>\n      <td>Utah</td>\n      <td>2775326</td>\n      <td>2816124</td>\n      <td>2855782</td>\n      <td>2902663</td>\n      <td>2941836</td>\n      <td>2990632</td>\n      <td>3051217</td>\n    </tr>\n    <tr>\n      <th>46</th>\n      <td>VA</td>\n      <td>1593</td>\n      <td>1835</td>\n      <td>1730</td>\n      <td>1552</td>\n      <td>1549</td>\n      <td>1534</td>\n      <td>1350</td>\n      <td>1225</td>\n      <td>1204</td>\n      <td>1059</td>\n      <td>Virginia</td>\n      <td>8025773</td>\n      <td>8110035</td>\n      <td>8192048</td>\n      <td>8262692</td>\n      <td>8317372</td>\n      <td>8367587</td>\n      <td>8411808</td>\n    </tr>\n    <tr>\n      <th>47</th>\n      <td>VT</td>\n      <td>796</td>\n      <td>633</td>\n      <td>649</td>\n      <td>613</td>\n      <td>655</td>\n      <td>776</td>\n      <td>971</td>\n      <td>1027</td>\n      <td>1052</td>\n      <td>785</td>\n      <td>Vermont</td>\n      <td>625982</td>\n      <td>626730</td>\n      <td>626444</td>\n      <td>627140</td>\n      <td>626984</td>\n      <td>626088</td>\n      <td>624594</td>\n    </tr>\n    <tr>\n      <th>48</th>\n      <td>WA</td>\n      <td>7902</td>\n      <td>8501</td>\n      <td>8952</td>\n      <td>9022</td>\n      <td>8972</td>\n      <td>8899</td>\n      <td>9106</td>\n      <td>8949</td>\n      <td>10122</td>\n      <td>10730</td>\n      <td>Washington</td>\n      <td>6743226</td>\n      <td>6822520</td>\n      <td>6895226</td>\n      <td>6968006</td>\n      <td>7054196</td>\n      <td>7160290</td>\n      <td>7288000</td>\n    </tr>\n    <tr>\n      <th>49</th>\n      <td>WI</td>\n      <td>3105</td>\n      <td>3105</td>\n      <td>3992</td>\n      <td>3992</td>\n      <td>3400</td>\n      <td>3618</td>\n      <td>3610</td>\n      <td>3569</td>\n      <td>3597</td>\n      <td>3445</td>\n      <td>Wisconsin</td>\n      <td>5690263</td>\n      <td>5709640</td>\n      <td>5726177</td>\n      <td>5742854</td>\n      <td>5758377</td>\n      <td>5767891</td>\n      <td>5778708</td>\n    </tr>\n    <tr>\n      <th>50</th>\n      <td>WV</td>\n      <td>1635</td>\n      <td>1297</td>\n      <td>1003</td>\n      <td>1375</td>\n      <td>1455</td>\n      <td>1604</td>\n      <td>1513</td>\n      <td>1338</td>\n      <td>1109</td>\n      <td>748</td>\n      <td>West Virginia</td>\n      <td>1854230</td>\n      <td>1854972</td>\n      <td>1856560</td>\n      <td>1853231</td>\n      <td>1848514</td>\n      <td>1841053</td>\n      <td>1831102</td>\n    </tr>\n    <tr>\n      <th>51</th>\n      <td>WY</td>\n      <td>537</td>\n      <td>751</td>\n      <td>515</td>\n      <td>579</td>\n      <td>1038</td>\n      <td>1813</td>\n      <td>953</td>\n      <td>757</td>\n      <td>798</td>\n      <td>857</td>\n      <td>Wyoming</td>\n      <td>564513</td>\n      <td>567725</td>\n      <td>576765</td>\n      <td>582684</td>\n      <td>583642</td>\n      <td>586555</td>\n      <td>585501</td>\n    </tr>\n  </tbody>\n</table>\n</div>",
            "text/plain": "   StateAbbrev   2007   2008   2009   2010   2011   2012   2013   2014   2015  \\\n0           AK    974   1023   1267   1231   1223   1147   1122   1023   1208   \n1           AL   2104   2104   2273   2273   1950   1707   1469   1329   1153   \n2           AR   1822   1811   1425   1425   1276   1873   1678   1074    830   \n3           AZ   8448   7189   7889   6999   5831   6485   5889   5918   5631   \n4           CA  47862  47862  33243  33243  34622  31553  35524  34393  41174   \n5           CO   8698   8482   8752   8752   9283   9283   6316   6621   5335   \n6           CT   3563   3781   3780   3372   3451   3307   3389   3367   3134   \n7           DC   5320   6044   6228   6539   6546   6954   6865   7748   7298   \n8           DE   1061    933   1130    982   1035   1008    946    901    953   \n9           FL   6483   6483   7473   7473   7336   7419   4378   4156   4152   \n10          GA  10255   9340   9941   9750  11168  11105   7651   7577   5797   \n11          HI   3750   3750   3638   4171   4234   4353   4556   4712   4903   \n12          IA   1529   1950   1962   1686   1782   1860   1920   1939   1975   \n13          ID   1168    853   1153   1474   1361   1214   1087   1351   1211   \n14          IL   5979   5979   6240   6240   6635   6710   6276   6287   6786   \n15          IN   4906   4906   4287   4317   3996   3959   3910   3589   3664   \n16          KS    937    524    859    859   1023   1043   1141   1307   1208   \n17          KY   4316   4027   3174   3446   2834   2328   2392   2229   2119   \n18          LA   1619   1619   8725   8725   6687   4903   2337   1981   1703   \n19          MA   5104   5198   5101   5139   5476   5607   5881   5987   6492   \n20          MD   2607   2607   3419   3419   4094   3854   2638   2567   2796   \n21          ME   1897   1903   1775   1743   1832   1762   2191   1940   1632   \n22          MI  18062  18062   3694   2953   3138   3115   2789   2755   2597   \n23          MN   2984   3369   3281   3056   3100   3285   3591   3731   3215   \n24          MO   1786   2260   1809   2153   2992   2705   2691   2193   1686   \n25          MS    718   1302   1242   1242    951   1037   1052    954    809   \n26          MT   1150   1417   1196   1615   1768   1833   1878   1745   1709   \n27          NC   2610   2742   2821   2851   2987   2922   3625   3195   3021   \n28          ND    636    615    773    799    603    688   2069   1258   1305   \n29          NE   1870   1637   1483   1540   1580   1530   1476   1630   1481   \n30          NH   1300    986    769    813    808    761    759    689    718   \n31          NJ   2842   2227   1779   1779   1536   2087   1648   1695   1610   \n32          NM   1739   1739   2002   2002   1962   1814   1648   1492   1342   \n33          NV   7533   7533   9949   9949   8003   7323   5952   7443   7509   \n34          NY  50372  50261  49343  53187  51123  56672  64060  67810  75323   \n35          OH   3521   4525   4770   4555   4431   5121   3830   3806   3320   \n36          OK   1734   1335   1475   1145   1348   1303   1362   1481   1300   \n37          OR   6431   9860   6777   8814   7006   6105   5525   4122   5544   \n38          PA   7640   6871   6304   6084   6180   5780   5645   5738   5998   \n39          PR   2305   2305   2295   2374   1847   1685   2094   2085   2422   \n40          RI   1372   1196   1607   1282   1070   1277   1384   1190   1111   \n41          SC   1946   1946   1525   1525   1621   1648   2308   1636   1961   \n42          SD    579    579    731    731    826    859   1094    885   1036   \n43          TN   2255   2217   2236   2324   1942   2076   2069   2234   2154   \n44          TX  12958  13298  15327  14827  14643  12764  10128   9943   7016   \n45          UT   2079   2296   1811   1968   2033   2463   2133   2150   2176   \n46          VA   1593   1835   1730   1552   1549   1534   1350   1225   1204   \n47          VT    796    633    649    613    655    776    971   1027   1052   \n48          WA   7902   8501   8952   9022   8972   8899   9106   8949  10122   \n49          WI   3105   3105   3992   3992   3400   3618   3610   3569   3597   \n50          WV   1635   1297   1003   1375   1455   1604   1513   1338   1109   \n51          WY    537    751    515    579   1038   1813    953    757    798   \n\n     2016                 State   pop2010   pop2011   pop2012   pop2013  \\\n0    1105                Alaska    714031    722713    731089    736879   \n1    1228               Alabama   4785492   4799918   4815960   4829479   \n2     808              Arkansas   2921995   2939493   2950685   2958663   \n3    5702               Arizona   6408312   6467163   6549634   6624617   \n4   43854            California  37332685  37676861  38011074  38335203   \n5    5728              Colorado   5048644   5118360   5189867   5267603   \n6    3016           Connecticut   3579899   3589893   3593795   3596003   \n7    8350  District of Columbia    605183    620477    635327    649165   \n8    1070              Delaware    899816    907924    916993    925395   \n9    4235               Florida  18849098  19096952  19344156  19582022   \n10   5575               Georgia   9713521   9811610   9914668   9984938   \n11   4940                Hawaii   1363945   1377864   1391820   1406481   \n12   1923                  Iowa   3050738   3065223   3076310   3091930   \n13   1380                 Idaho   1571010   1584143   1595911   1612011   \n14   5889              Illinois  12841578  12860012  12870798  12879505   \n15   3711               Indiana   6490528   6516480   6537743   6569102   \n16    903                Kansas   2858850   2869503   2885262   2892821   \n17   2057              Kentucky   4348662   4369354   4384799   4400477   \n18   1626             Louisiana   4544996   4575404   4603429   4626402   \n19   6240         Massachusetts   6565524   6611923   6658008   6706786   \n20   2725              Maryland   5788584   5843603   5889651   5931129   \n21   1482                 Maine   1327730   1328231   1328895   1329076   \n22   2335              Michigan   9877495   9876213   9887238   9898982   \n23   3056             Minnesota   5311147   5348562   5380285   5418521   \n24   1699              Missouri   5996118   6010717   6025415   6042711   \n25    785           Mississippi   2970322   2978162   2984945   2990482   \n26   1418               Montana    990641    997821   1005196   1014314   \n27   2963        North Carolina   9558915   9650963   9746175   9841590   \n28    923          North Dakota    674526    685476    702087    724019   \n29   1509              Nebraska   1830051   1842283   1855725   1868559   \n30    670         New Hampshire   1316872   1318473   1321182   1322687   \n31   1779            New Jersey   8803729   8841243   8873211   8899162   \n32   1222            New Mexico   2064756   2077756   2083784   2085193   \n33   6208                Nevada   2703284   2718379   2752565   2786464   \n34  73523              New York  19402640  19519529  19602769  19673546   \n35   3032                  Ohio  11540983  11544824  11550839  11570022   \n36   1511              Oklahoma   3759603   3786274   3817054   3852415   \n37   5710                Oregon   3838048   3868031   3899116   3925751   \n38   6112          Pennsylvania  12712343  12744293  12771854  12781338   \n39   2343           Puerto Rico   3721525   3678732   3634488   3593077   \n40   1160          Rhode Island   1053337   1052451   1052901   1053033   \n41   1829        South Carolina   4635943   4672637   4720760   4767894   \n42   1072          South Dakota    816325    824398    834441    844922   \n43   2365             Tennessee   6356671   6397634   6454306   6494821   \n44   6048                 Texas  25244310  25646389  26071655  26473525   \n45   1891                  Utah   2775326   2816124   2855782   2902663   \n46   1059              Virginia   8025773   8110035   8192048   8262692   \n47    785               Vermont    625982    626730    626444    627140   \n48  10730            Washington   6743226   6822520   6895226   6968006   \n49   3445             Wisconsin   5690263   5709640   5726177   5742854   \n50    748         West Virginia   1854230   1854972   1856560   1853231   \n51    857               Wyoming    564513    567725    576765    582684   \n\n     pop2014   pop2015   pop2016  \n0     736705    737709    741894  \n1    4843214   4853875   4863300  \n2    2966912   2977853   2988248  \n3    6719993   6817565   6931071  \n4   38680810  38993940  39250017  \n5    5349648   5448819   5540545  \n6    3591873   3584730   3576452  \n7     659005    670377    681170  \n8     934948    944076    952065  \n9   19888741  20244914  20612439  \n10  10087231  10199398  10310371  \n11   1416349   1425157   1428557  \n12   3108030   3121997   3134693  \n13   1633532   1652828   1683140  \n14  12867544  12839047  12801539  \n15   6595233   6612768   6633053  \n16   2899360   2906721   2907289  \n17   4413057   4424611   4436974  \n18   4647880   4668960   4681666  \n19   6749911   6784240   6811779  \n20   5967295   5994983   6016447  \n21   1330719   1329453   1331479  \n22   9915767   9917715   9928300  \n23   5453109   5482435   5519952  \n24   6060930   6076204   6093000  \n25   2992400   2989390   2988726  \n26   1022867   1032073   1042520  \n27   9934399  10035186  10146788  \n28    739904    756835    757952  \n29   1881145   1893765   1907116  \n30   1328743   1330111   1334795  \n31   8925001   8935421   8944469  \n32   2083024   2080328   2081015  \n33   2833013   2883758   2940058  \n34  19718515  19747183  19745289  \n35  11594408  11605090  11614373  \n36   3877499   3907414   3923561  \n37   3968371   4024634   4093465  \n38  12790565  12791904  12784227  \n39   3534874   3473181   3411307  \n40   1054480   1055607   1056426  \n41   4828430   4894834   4961119  \n42    852561    857919    865454  \n43   6544663   6595056   6651194  \n44  26944751  27429639  27862596  \n45   2941836   2990632   3051217  \n46   8317372   8367587   8411808  \n47    626984    626088    624594  \n48   7054196   7160290   7288000  \n49   5758377   5767891   5778708  \n50   1848514   1841053   1831102  \n51    583642    586555    585501  "
          },
          "metadata": {}
        }
      ]
    },
    {
      "metadata": {
        "trusted": true
      },
      "cell_type": "code",
      "source": "perc2015 = 100 * (homelessnessCopy1[2015]/ homelessnessCopy1['pop2015']) \nhomelessnessCopy1.drop([2007,2008,2009,2010, 2011,2012,2013,2014,2016,'pop2010','pop2011','pop2012','pop2013','pop2014','pop2016'], axis=1, inplace=True)",
      "execution_count": 74,
      "outputs": []
    },
    {
      "metadata": {
        "trusted": true
      },
      "cell_type": "code",
      "source": "homelessnessCopy1['perc2015'] = perc2015\nhomelessnessCopy1.head(10)",
      "execution_count": 75,
      "outputs": [
        {
          "output_type": "execute_result",
          "execution_count": 75,
          "data": {
            "text/html": "<div>\n<style scoped>\n    .dataframe tbody tr th:only-of-type {\n        vertical-align: middle;\n    }\n\n    .dataframe tbody tr th {\n        vertical-align: top;\n    }\n\n    .dataframe thead th {\n        text-align: right;\n    }\n</style>\n<table border=\"1\" class=\"dataframe\">\n  <thead>\n    <tr style=\"text-align: right;\">\n      <th></th>\n      <th>StateAbbrev</th>\n      <th>2015</th>\n      <th>State</th>\n      <th>pop2015</th>\n      <th>perc2015</th>\n    </tr>\n  </thead>\n  <tbody>\n    <tr>\n      <th>0</th>\n      <td>AK</td>\n      <td>1208</td>\n      <td>Alaska</td>\n      <td>737709</td>\n      <td>0.163750</td>\n    </tr>\n    <tr>\n      <th>1</th>\n      <td>AL</td>\n      <td>1153</td>\n      <td>Alabama</td>\n      <td>4853875</td>\n      <td>0.023754</td>\n    </tr>\n    <tr>\n      <th>2</th>\n      <td>AR</td>\n      <td>830</td>\n      <td>Arkansas</td>\n      <td>2977853</td>\n      <td>0.027872</td>\n    </tr>\n    <tr>\n      <th>3</th>\n      <td>AZ</td>\n      <td>5631</td>\n      <td>Arizona</td>\n      <td>6817565</td>\n      <td>0.082595</td>\n    </tr>\n    <tr>\n      <th>4</th>\n      <td>CA</td>\n      <td>41174</td>\n      <td>California</td>\n      <td>38993940</td>\n      <td>0.105591</td>\n    </tr>\n    <tr>\n      <th>5</th>\n      <td>CO</td>\n      <td>5335</td>\n      <td>Colorado</td>\n      <td>5448819</td>\n      <td>0.097911</td>\n    </tr>\n    <tr>\n      <th>6</th>\n      <td>CT</td>\n      <td>3134</td>\n      <td>Connecticut</td>\n      <td>3584730</td>\n      <td>0.087426</td>\n    </tr>\n    <tr>\n      <th>7</th>\n      <td>DC</td>\n      <td>7298</td>\n      <td>District of Columbia</td>\n      <td>670377</td>\n      <td>1.088641</td>\n    </tr>\n    <tr>\n      <th>8</th>\n      <td>DE</td>\n      <td>953</td>\n      <td>Delaware</td>\n      <td>944076</td>\n      <td>0.100945</td>\n    </tr>\n    <tr>\n      <th>9</th>\n      <td>FL</td>\n      <td>4152</td>\n      <td>Florida</td>\n      <td>20244914</td>\n      <td>0.020509</td>\n    </tr>\n  </tbody>\n</table>\n</div>",
            "text/plain": "  StateAbbrev   2015                 State   pop2015  perc2015\n0          AK   1208                Alaska    737709  0.163750\n1          AL   1153               Alabama   4853875  0.023754\n2          AR    830              Arkansas   2977853  0.027872\n3          AZ   5631               Arizona   6817565  0.082595\n4          CA  41174            California  38993940  0.105591\n5          CO   5335              Colorado   5448819  0.097911\n6          CT   3134           Connecticut   3584730  0.087426\n7          DC   7298  District of Columbia    670377  1.088641\n8          DE    953              Delaware    944076  0.100945\n9          FL   4152               Florida  20244914  0.020509"
          },
          "metadata": {}
        }
      ]
    },
    {
      "metadata": {
        "trusted": true
      },
      "cell_type": "code",
      "source": "Colorscl = [[0.0, 'rgb(255, 230, 230)'],[0.2, 'rgb(255, 153, 153)'],\n            [0.4, 'rgb(255, 77, 77)'], [0.6, 'rgb(255, 0, 0)'],\n            [0.8, 'rgb(179, 0, 0)'],[1.0, 'rgb(128, 0, 0)']]\n\n#Color shading from  https://www.w3schools.com/colors/colors_picker.asp\n\ndata_Homeless = []\n\ndata_2007 = [dict(type='choropleth',\n                colorscale = Colorscl,\n                zmin =0, zmax=60000,\n                autocolorscale = False,\n                locations = homelessnessCopy12['StateAbbrev'],\n                z = homelessnessCopy12[2007],\n                locationmode = 'USA-states',\n                text = homelessnessCopy12['State'],\n                marker = dict(line = dict(color = 'rgb(220,220,220)',\n                                          width = 1)),\n                visible = True,\n                colorbar = dict(title = \"Number of Homeless\"))]\n    \ndata_Homeless.extend(data_2007)\n\nfor i in years[1:]:\n    data_Homeless_upd = [dict(type='choropleth',\n                      colorscale = Colorscl, \n                      zmin =0, zmax=60000,  \n                      autocolorscale = False,\n                      locations = homelessnessCopy12['StateAbbrev'],\n                      z = homelessnessCopy12[i],\n                      locationmode = 'USA-states',\n                      text = homelessnessCopy12['State'],\n                      marker = dict(line = dict(color = 'rgb(220,220,220)',\n                                                width = 1)),\n                      visible = False,\n                      colorbar = dict(title = \"Number of Homeless\"))]\n    \n    data_Homeless.extend(data_Homeless_upd)\n    \n   \n",
      "execution_count": 76,
      "outputs": []
    },
    {
      "metadata": {
        "trusted": true
      },
      "cell_type": "code",
      "source": "\n# setting the menues (Years' Sliders) inside the plot\nlevels = []  \nyearsNo = 0 \nfor i in range(0,len(data_Homeless)):\n    level = dict(method = \"restyle\",\n                 args = [\"visible\", [False]*len(data_Homeless)],\n                 label = years[yearsNo]) \n    level['args'][1][i] = True\n    levels.append(level)\n    yearsNo += 1\n    \n    \n    sliders = [dict(active = 10,\n                currentvalue = {\"prefix\": \"Year: \"},\n                pad = {\"t\": 50},\n                steps = levels)]\n\n# Setting the layout\nlayout = dict(title = 'Number of Homeless in USA per state',\n              geo = dict(scope='usa',\n                         projection=dict( type='albers usa' ),\n                         showlakes = True,\n                         lakecolor = 'rgb(255, 255, 255)'),\n              sliders = sliders)",
      "execution_count": 77,
      "outputs": []
    },
    {
      "metadata": {
        "trusted": true
      },
      "cell_type": "code",
      "source": "fig = dict(data=data_Homeless, layout=layout)",
      "execution_count": 78,
      "outputs": []
    },
    {
      "metadata": {
        "trusted": true
      },
      "cell_type": "code",
      "source": "## drawing the map to see which states have higher # of homeless people\niplot(fig)\n## we can see from the map that the number of homeless individuals in the US\n## have decreased over the years",
      "execution_count": 79,
      "outputs": [
        {
          "output_type": "display_data",
          "data": {
            "text/vnd.plotly.v1+html": "<div id=\"bc368457-139a-4a5d-8040-35779ad3038c\" style=\"height: 525px; width: 100%;\" class=\"plotly-graph-div\"></div><script type=\"text/javascript\">require([\"plotly\"], function(Plotly) { window.PLOTLYENV=window.PLOTLYENV || {};window.PLOTLYENV.BASE_URL=\"https://plot.ly\";Plotly.newPlot(\"bc368457-139a-4a5d-8040-35779ad3038c\", [{\"autocolorscale\": false, \"colorbar\": {\"title\": {\"text\": \"Number of Homeless\"}}, \"colorscale\": [[0.0, \"rgb(255, 230, 230)\"], [0.2, \"rgb(255, 153, 153)\"], [0.4, \"rgb(255, 77, 77)\"], [0.6, \"rgb(255, 0, 0)\"], [0.8, \"rgb(179, 0, 0)\"], [1.0, \"rgb(128, 0, 0)\"]], \"locationmode\": \"USA-states\", \"locations\": [\"AK\", \"AL\", \"AR\", \"AZ\", \"CA\", \"CO\", \"CT\", \"DC\", \"DE\", \"FL\", \"GA\", \"GU\", \"HI\", \"IA\", \"ID\", \"IL\", \"IN\", \"KS\", \"KY\", \"LA\", \"MA\", \"MD\", \"ME\", \"MI\", \"MN\", \"MO\", \"MS\", \"MT\", \"NC\", \"ND\", \"NE\", \"NH\", \"NJ\", \"NM\", \"NV\", \"NY\", \"OH\", \"OK\", \"OR\", \"PA\", \"PR\", \"RI\", \"SC\", \"SD\", \"TN\", \"TX\", \"UT\", \"VA\", \"VI\", \"VT\", \"WA\", \"WI\", \"WV\", \"WY\"], \"marker\": {\"line\": {\"color\": \"rgb(220,220,220)\", \"width\": 1}}, \"text\": [\"Alaska\", \"Alabama\", \"Arkansas\", \"Arizona\", \"California\", \"Colorado\", \"Connecticut\", \"District of Columbia\", \"Delaware\", \"Florida\", \"Georgia\", \"Guam\", \"Hawaii\", \"Iowa\", \"Idaho\", \"Illinois\", \"Indiana\", \"Kansas\", \"Kentucky\", \"Louisiana\", \"Massachusetts\", \"Maryland\", \"Maine\", \"Michigan\", \"Minnesota\", \"Missouri\", \"Mississippi\", \"Montana\", \"North Carolina\", \"North Dakota\", \"Nebraska\", \"New Hampshire\", \"New Jersey\", \"New Mexico\", \"Nevada\", \"New York\", \"Ohio\", \"Oklahoma\", \"Oregon\", \"Pennsylvania\", \"Puerto Rico\", \"Rhode Island\", \"South Carolina\", \"South Dakota\", \"Tennessee\", \"Texas\", \"Utah\", \"Virginia\", \"Virgin Islands\", \"Vermont\", \"Washington\", \"Wisconsin\", \"West Virginia\", \"Wyoming\"], \"visible\": true, \"z\": [974, 2104, 1822, 8448, 47862, 8698, 3563, 5320, 1061, 6483, 10255, 725, 3750, 1529, 1168, 5979, 4906, 937, 4316, 1619, 5104, 2607, 1897, 18062, 2984, 1786, 718, 1150, 2610, 636, 1870, 1300, 2842, 1739, 7533, 50372, 3521, 1734, 6431, 7640, 2305, 1372, 1946, 579, 2255, 12958, 2079, 1593, 559, 796, 7902, 3105, 1635, 537], \"zmax\": 60000, \"zmin\": 0, \"type\": \"choropleth\", \"uid\": \"28d49326-b014-49a8-b869-8f813202a2ae\"}, {\"autocolorscale\": false, \"colorbar\": {\"title\": {\"text\": \"Number of Homeless\"}}, \"colorscale\": [[0.0, \"rgb(255, 230, 230)\"], [0.2, \"rgb(255, 153, 153)\"], [0.4, \"rgb(255, 77, 77)\"], [0.6, \"rgb(255, 0, 0)\"], [0.8, \"rgb(179, 0, 0)\"], [1.0, \"rgb(128, 0, 0)\"]], \"locationmode\": \"USA-states\", \"locations\": [\"AK\", \"AL\", \"AR\", \"AZ\", \"CA\", \"CO\", \"CT\", \"DC\", \"DE\", \"FL\", \"GA\", \"GU\", \"HI\", \"IA\", \"ID\", \"IL\", \"IN\", \"KS\", \"KY\", \"LA\", \"MA\", \"MD\", \"ME\", \"MI\", \"MN\", \"MO\", \"MS\", \"MT\", \"NC\", \"ND\", \"NE\", \"NH\", \"NJ\", \"NM\", \"NV\", \"NY\", \"OH\", \"OK\", \"OR\", \"PA\", \"PR\", \"RI\", \"SC\", \"SD\", \"TN\", \"TX\", \"UT\", \"VA\", \"VI\", \"VT\", \"WA\", \"WI\", \"WV\", \"WY\"], \"marker\": {\"line\": {\"color\": \"rgb(220,220,220)\", \"width\": 1}}, \"text\": [\"Alaska\", \"Alabama\", \"Arkansas\", \"Arizona\", \"California\", \"Colorado\", \"Connecticut\", \"District of Columbia\", \"Delaware\", \"Florida\", \"Georgia\", \"Guam\", \"Hawaii\", \"Iowa\", \"Idaho\", \"Illinois\", \"Indiana\", \"Kansas\", \"Kentucky\", \"Louisiana\", \"Massachusetts\", \"Maryland\", \"Maine\", \"Michigan\", \"Minnesota\", \"Missouri\", \"Mississippi\", \"Montana\", \"North Carolina\", \"North Dakota\", \"Nebraska\", \"New Hampshire\", \"New Jersey\", \"New Mexico\", \"Nevada\", \"New York\", \"Ohio\", \"Oklahoma\", \"Oregon\", \"Pennsylvania\", \"Puerto Rico\", \"Rhode Island\", \"South Carolina\", \"South Dakota\", \"Tennessee\", \"Texas\", \"Utah\", \"Virginia\", \"Virgin Islands\", \"Vermont\", \"Washington\", \"Wisconsin\", \"West Virginia\", \"Wyoming\"], \"visible\": false, \"z\": [1023, 2104, 1811, 7189, 47862, 8482, 3781, 6044, 933, 6483, 9340, 725, 3750, 1950, 853, 5979, 4906, 524, 4027, 1619, 5198, 2607, 1903, 18062, 3369, 2260, 1302, 1417, 2742, 615, 1637, 986, 2227, 1739, 7533, 50261, 4525, 1335, 9860, 6871, 2305, 1196, 1946, 579, 2217, 13298, 2296, 1835, 602, 633, 8501, 3105, 1297, 751], \"zmax\": 60000, \"zmin\": 0, \"type\": \"choropleth\", \"uid\": \"863f76b1-d9d7-45cd-af25-0d6cce223bdf\"}, {\"autocolorscale\": false, \"colorbar\": {\"title\": {\"text\": \"Number of Homeless\"}}, \"colorscale\": [[0.0, \"rgb(255, 230, 230)\"], [0.2, \"rgb(255, 153, 153)\"], [0.4, \"rgb(255, 77, 77)\"], [0.6, \"rgb(255, 0, 0)\"], [0.8, \"rgb(179, 0, 0)\"], [1.0, \"rgb(128, 0, 0)\"]], \"locationmode\": \"USA-states\", \"locations\": [\"AK\", \"AL\", \"AR\", \"AZ\", \"CA\", \"CO\", \"CT\", \"DC\", \"DE\", \"FL\", \"GA\", \"GU\", \"HI\", \"IA\", \"ID\", \"IL\", \"IN\", \"KS\", \"KY\", \"LA\", \"MA\", \"MD\", \"ME\", \"MI\", \"MN\", \"MO\", \"MS\", \"MT\", \"NC\", \"ND\", \"NE\", \"NH\", \"NJ\", \"NM\", \"NV\", \"NY\", \"OH\", \"OK\", \"OR\", \"PA\", \"PR\", \"RI\", \"SC\", \"SD\", \"TN\", \"TX\", \"UT\", \"VA\", \"VI\", \"VT\", \"WA\", \"WI\", \"WV\", \"WY\"], \"marker\": {\"line\": {\"color\": \"rgb(220,220,220)\", \"width\": 1}}, \"text\": [\"Alaska\", \"Alabama\", \"Arkansas\", \"Arizona\", \"California\", \"Colorado\", \"Connecticut\", \"District of Columbia\", \"Delaware\", \"Florida\", \"Georgia\", \"Guam\", \"Hawaii\", \"Iowa\", \"Idaho\", \"Illinois\", \"Indiana\", \"Kansas\", \"Kentucky\", \"Louisiana\", \"Massachusetts\", \"Maryland\", \"Maine\", \"Michigan\", \"Minnesota\", \"Missouri\", \"Mississippi\", \"Montana\", \"North Carolina\", \"North Dakota\", \"Nebraska\", \"New Hampshire\", \"New Jersey\", \"New Mexico\", \"Nevada\", \"New York\", \"Ohio\", \"Oklahoma\", \"Oregon\", \"Pennsylvania\", \"Puerto Rico\", \"Rhode Island\", \"South Carolina\", \"South Dakota\", \"Tennessee\", \"Texas\", \"Utah\", \"Virginia\", \"Virgin Islands\", \"Vermont\", \"Washington\", \"Wisconsin\", \"West Virginia\", \"Wyoming\"], \"visible\": false, \"z\": [1267, 2273, 1425, 7889, 33243, 8752, 3780, 6228, 1130, 7473, 9941, 1088, 3638, 1962, 1153, 6240, 4287, 859, 3174, 8725, 5101, 3419, 1775, 3694, 3281, 1809, 1242, 1196, 2821, 773, 1483, 769, 1779, 2002, 9949, 49343, 4770, 1475, 6777, 6304, 2295, 1607, 1525, 731, 2236, 15327, 1811, 1730, 471, 649, 8952, 3992, 1003, 515], \"zmax\": 60000, \"zmin\": 0, \"type\": \"choropleth\", \"uid\": \"39fb005b-1405-4d43-afcb-13b4903d81a0\"}, {\"autocolorscale\": false, \"colorbar\": {\"title\": {\"text\": \"Number of Homeless\"}}, \"colorscale\": [[0.0, \"rgb(255, 230, 230)\"], [0.2, \"rgb(255, 153, 153)\"], [0.4, \"rgb(255, 77, 77)\"], [0.6, \"rgb(255, 0, 0)\"], [0.8, \"rgb(179, 0, 0)\"], [1.0, \"rgb(128, 0, 0)\"]], \"locationmode\": \"USA-states\", \"locations\": [\"AK\", \"AL\", \"AR\", \"AZ\", \"CA\", \"CO\", \"CT\", \"DC\", \"DE\", \"FL\", \"GA\", \"GU\", \"HI\", \"IA\", \"ID\", \"IL\", \"IN\", \"KS\", \"KY\", \"LA\", \"MA\", \"MD\", \"ME\", \"MI\", \"MN\", \"MO\", \"MS\", \"MT\", \"NC\", \"ND\", \"NE\", \"NH\", \"NJ\", \"NM\", \"NV\", \"NY\", \"OH\", \"OK\", \"OR\", \"PA\", \"PR\", \"RI\", \"SC\", \"SD\", \"TN\", \"TX\", \"UT\", \"VA\", \"VI\", \"VT\", \"WA\", \"WI\", \"WV\", \"WY\"], \"marker\": {\"line\": {\"color\": \"rgb(220,220,220)\", \"width\": 1}}, \"text\": [\"Alaska\", \"Alabama\", \"Arkansas\", \"Arizona\", \"California\", \"Colorado\", \"Connecticut\", \"District of Columbia\", \"Delaware\", \"Florida\", \"Georgia\", \"Guam\", \"Hawaii\", \"Iowa\", \"Idaho\", \"Illinois\", \"Indiana\", \"Kansas\", \"Kentucky\", \"Louisiana\", \"Massachusetts\", \"Maryland\", \"Maine\", \"Michigan\", \"Minnesota\", \"Missouri\", \"Mississippi\", \"Montana\", \"North Carolina\", \"North Dakota\", \"Nebraska\", \"New Hampshire\", \"New Jersey\", \"New Mexico\", \"Nevada\", \"New York\", \"Ohio\", \"Oklahoma\", \"Oregon\", \"Pennsylvania\", \"Puerto Rico\", \"Rhode Island\", \"South Carolina\", \"South Dakota\", \"Tennessee\", \"Texas\", \"Utah\", \"Virginia\", \"Virgin Islands\", \"Vermont\", \"Washington\", \"Wisconsin\", \"West Virginia\", \"Wyoming\"], \"visible\": false, \"z\": [1231, 2273, 1425, 6999, 33243, 8752, 3372, 6539, 982, 7473, 9750, 1635, 4171, 1686, 1474, 6240, 4317, 859, 3446, 8725, 5139, 3419, 1743, 2953, 3056, 2153, 1242, 1615, 2851, 799, 1540, 813, 1779, 2002, 9949, 53187, 4555, 1145, 8814, 6084, 2374, 1282, 1525, 731, 2324, 14827, 1968, 1552, 487, 613, 9022, 3992, 1375, 579], \"zmax\": 60000, \"zmin\": 0, \"type\": \"choropleth\", \"uid\": \"5db889a0-2b85-4859-9e27-2be2afa3ea6f\"}, {\"autocolorscale\": false, \"colorbar\": {\"title\": {\"text\": \"Number of Homeless\"}}, \"colorscale\": [[0.0, \"rgb(255, 230, 230)\"], [0.2, \"rgb(255, 153, 153)\"], [0.4, \"rgb(255, 77, 77)\"], [0.6, \"rgb(255, 0, 0)\"], [0.8, \"rgb(179, 0, 0)\"], [1.0, \"rgb(128, 0, 0)\"]], \"locationmode\": \"USA-states\", \"locations\": [\"AK\", \"AL\", \"AR\", \"AZ\", \"CA\", \"CO\", \"CT\", \"DC\", \"DE\", \"FL\", \"GA\", \"GU\", \"HI\", \"IA\", \"ID\", \"IL\", \"IN\", \"KS\", \"KY\", \"LA\", \"MA\", \"MD\", \"ME\", \"MI\", \"MN\", \"MO\", \"MS\", \"MT\", \"NC\", \"ND\", \"NE\", \"NH\", \"NJ\", \"NM\", \"NV\", \"NY\", \"OH\", \"OK\", \"OR\", \"PA\", \"PR\", \"RI\", \"SC\", \"SD\", \"TN\", \"TX\", \"UT\", \"VA\", \"VI\", \"VT\", \"WA\", \"WI\", \"WV\", \"WY\"], \"marker\": {\"line\": {\"color\": \"rgb(220,220,220)\", \"width\": 1}}, \"text\": [\"Alaska\", \"Alabama\", \"Arkansas\", \"Arizona\", \"California\", \"Colorado\", \"Connecticut\", \"District of Columbia\", \"Delaware\", \"Florida\", \"Georgia\", \"Guam\", \"Hawaii\", \"Iowa\", \"Idaho\", \"Illinois\", \"Indiana\", \"Kansas\", \"Kentucky\", \"Louisiana\", \"Massachusetts\", \"Maryland\", \"Maine\", \"Michigan\", \"Minnesota\", \"Missouri\", \"Mississippi\", \"Montana\", \"North Carolina\", \"North Dakota\", \"Nebraska\", \"New Hampshire\", \"New Jersey\", \"New Mexico\", \"Nevada\", \"New York\", \"Ohio\", \"Oklahoma\", \"Oregon\", \"Pennsylvania\", \"Puerto Rico\", \"Rhode Island\", \"South Carolina\", \"South Dakota\", \"Tennessee\", \"Texas\", \"Utah\", \"Virginia\", \"Virgin Islands\", \"Vermont\", \"Washington\", \"Wisconsin\", \"West Virginia\", \"Wyoming\"], \"visible\": false, \"z\": [1223, 1950, 1276, 5831, 34622, 9283, 3451, 6546, 1035, 7336, 11168, 1745, 4234, 1782, 1361, 6635, 3996, 1023, 2834, 6687, 5476, 4094, 1832, 3138, 3100, 2992, 951, 1768, 2987, 603, 1580, 808, 1536, 1962, 8003, 51123, 4431, 1348, 7006, 6180, 1847, 1070, 1621, 826, 1942, 14643, 2033, 1549, 532, 655, 8972, 3400, 1455, 1038], \"zmax\": 60000, \"zmin\": 0, \"type\": \"choropleth\", \"uid\": \"0e8aeac7-ac55-4160-9394-266712fa5cb5\"}, {\"autocolorscale\": false, \"colorbar\": {\"title\": {\"text\": \"Number of Homeless\"}}, \"colorscale\": [[0.0, \"rgb(255, 230, 230)\"], [0.2, \"rgb(255, 153, 153)\"], [0.4, \"rgb(255, 77, 77)\"], [0.6, \"rgb(255, 0, 0)\"], [0.8, \"rgb(179, 0, 0)\"], [1.0, \"rgb(128, 0, 0)\"]], \"locationmode\": \"USA-states\", \"locations\": [\"AK\", \"AL\", \"AR\", \"AZ\", \"CA\", \"CO\", \"CT\", \"DC\", \"DE\", \"FL\", \"GA\", \"GU\", \"HI\", \"IA\", \"ID\", \"IL\", \"IN\", \"KS\", \"KY\", \"LA\", \"MA\", \"MD\", \"ME\", \"MI\", \"MN\", \"MO\", \"MS\", \"MT\", \"NC\", \"ND\", \"NE\", \"NH\", \"NJ\", \"NM\", \"NV\", \"NY\", \"OH\", \"OK\", \"OR\", \"PA\", \"PR\", \"RI\", \"SC\", \"SD\", \"TN\", \"TX\", \"UT\", \"VA\", \"VI\", \"VT\", \"WA\", \"WI\", \"WV\", \"WY\"], \"marker\": {\"line\": {\"color\": \"rgb(220,220,220)\", \"width\": 1}}, \"text\": [\"Alaska\", \"Alabama\", \"Arkansas\", \"Arizona\", \"California\", \"Colorado\", \"Connecticut\", \"District of Columbia\", \"Delaware\", \"Florida\", \"Georgia\", \"Guam\", \"Hawaii\", \"Iowa\", \"Idaho\", \"Illinois\", \"Indiana\", \"Kansas\", \"Kentucky\", \"Louisiana\", \"Massachusetts\", \"Maryland\", \"Maine\", \"Michigan\", \"Minnesota\", \"Missouri\", \"Mississippi\", \"Montana\", \"North Carolina\", \"North Dakota\", \"Nebraska\", \"New Hampshire\", \"New Jersey\", \"New Mexico\", \"Nevada\", \"New York\", \"Ohio\", \"Oklahoma\", \"Oregon\", \"Pennsylvania\", \"Puerto Rico\", \"Rhode Island\", \"South Carolina\", \"South Dakota\", \"Tennessee\", \"Texas\", \"Utah\", \"Virginia\", \"Virgin Islands\", \"Vermont\", \"Washington\", \"Wisconsin\", \"West Virginia\", \"Wyoming\"], \"visible\": false, \"z\": [1147, 1707, 1873, 6485, 31553, 9283, 3307, 6954, 1008, 7419, 11105, 1301, 4353, 1860, 1214, 6710, 3959, 1043, 2328, 4903, 5607, 3854, 1762, 3115, 3285, 2705, 1037, 1833, 2922, 688, 1530, 761, 2087, 1814, 7323, 56672, 5121, 1303, 6105, 5780, 1685, 1277, 1648, 859, 2076, 12764, 2463, 1534, 484, 776, 8899, 3618, 1604, 1813], \"zmax\": 60000, \"zmin\": 0, \"type\": \"choropleth\", \"uid\": \"fc24dd63-1ec3-465b-bda2-ed55749dc5f2\"}, {\"autocolorscale\": false, \"colorbar\": {\"title\": {\"text\": \"Number of Homeless\"}}, \"colorscale\": [[0.0, \"rgb(255, 230, 230)\"], [0.2, \"rgb(255, 153, 153)\"], [0.4, \"rgb(255, 77, 77)\"], [0.6, \"rgb(255, 0, 0)\"], [0.8, \"rgb(179, 0, 0)\"], [1.0, \"rgb(128, 0, 0)\"]], \"locationmode\": \"USA-states\", \"locations\": [\"AK\", \"AL\", \"AR\", \"AZ\", \"CA\", \"CO\", \"CT\", \"DC\", \"DE\", \"FL\", \"GA\", \"GU\", \"HI\", \"IA\", \"ID\", \"IL\", \"IN\", \"KS\", \"KY\", \"LA\", \"MA\", \"MD\", \"ME\", \"MI\", \"MN\", \"MO\", \"MS\", \"MT\", \"NC\", \"ND\", \"NE\", \"NH\", \"NJ\", \"NM\", \"NV\", \"NY\", \"OH\", \"OK\", \"OR\", \"PA\", \"PR\", \"RI\", \"SC\", \"SD\", \"TN\", \"TX\", \"UT\", \"VA\", \"VI\", \"VT\", \"WA\", \"WI\", \"WV\", \"WY\"], \"marker\": {\"line\": {\"color\": \"rgb(220,220,220)\", \"width\": 1}}, \"text\": [\"Alaska\", \"Alabama\", \"Arkansas\", \"Arizona\", \"California\", \"Colorado\", \"Connecticut\", \"District of Columbia\", \"Delaware\", \"Florida\", \"Georgia\", \"Guam\", \"Hawaii\", \"Iowa\", \"Idaho\", \"Illinois\", \"Indiana\", \"Kansas\", \"Kentucky\", \"Louisiana\", \"Massachusetts\", \"Maryland\", \"Maine\", \"Michigan\", \"Minnesota\", \"Missouri\", \"Mississippi\", \"Montana\", \"North Carolina\", \"North Dakota\", \"Nebraska\", \"New Hampshire\", \"New Jersey\", \"New Mexico\", \"Nevada\", \"New York\", \"Ohio\", \"Oklahoma\", \"Oregon\", \"Pennsylvania\", \"Puerto Rico\", \"Rhode Island\", \"South Carolina\", \"South Dakota\", \"Tennessee\", \"Texas\", \"Utah\", \"Virginia\", \"Virgin Islands\", \"Vermont\", \"Washington\", \"Wisconsin\", \"West Virginia\", \"Wyoming\"], \"visible\": false, \"z\": [1122, 1469, 1678, 5889, 35524, 6316, 3389, 6865, 946, 4378, 7651, 1271, 4556, 1920, 1087, 6276, 3910, 1141, 2392, 2337, 5881, 2638, 2191, 2789, 3591, 2691, 1052, 1878, 3625, 2069, 1476, 759, 1648, 1648, 5952, 64060, 3830, 1362, 5525, 5645, 2094, 1384, 2308, 1094, 2069, 10128, 2133, 1350, 482, 971, 9106, 3610, 1513, 953], \"zmax\": 60000, \"zmin\": 0, \"type\": \"choropleth\", \"uid\": \"f5e41ff6-5703-48ef-ac81-bc7b623af4eb\"}, {\"autocolorscale\": false, \"colorbar\": {\"title\": {\"text\": \"Number of Homeless\"}}, \"colorscale\": [[0.0, \"rgb(255, 230, 230)\"], [0.2, \"rgb(255, 153, 153)\"], [0.4, \"rgb(255, 77, 77)\"], [0.6, \"rgb(255, 0, 0)\"], [0.8, \"rgb(179, 0, 0)\"], [1.0, \"rgb(128, 0, 0)\"]], \"locationmode\": \"USA-states\", \"locations\": [\"AK\", \"AL\", \"AR\", \"AZ\", \"CA\", \"CO\", \"CT\", \"DC\", \"DE\", \"FL\", \"GA\", \"GU\", \"HI\", \"IA\", \"ID\", \"IL\", \"IN\", \"KS\", \"KY\", \"LA\", \"MA\", \"MD\", \"ME\", \"MI\", \"MN\", \"MO\", \"MS\", \"MT\", \"NC\", \"ND\", \"NE\", \"NH\", \"NJ\", \"NM\", \"NV\", \"NY\", \"OH\", \"OK\", \"OR\", \"PA\", \"PR\", \"RI\", \"SC\", \"SD\", \"TN\", \"TX\", \"UT\", \"VA\", \"VI\", \"VT\", \"WA\", \"WI\", \"WV\", \"WY\"], \"marker\": {\"line\": {\"color\": \"rgb(220,220,220)\", \"width\": 1}}, \"text\": [\"Alaska\", \"Alabama\", \"Arkansas\", \"Arizona\", \"California\", \"Colorado\", \"Connecticut\", \"District of Columbia\", \"Delaware\", \"Florida\", \"Georgia\", \"Guam\", \"Hawaii\", \"Iowa\", \"Idaho\", \"Illinois\", \"Indiana\", \"Kansas\", \"Kentucky\", \"Louisiana\", \"Massachusetts\", \"Maryland\", \"Maine\", \"Michigan\", \"Minnesota\", \"Missouri\", \"Mississippi\", \"Montana\", \"North Carolina\", \"North Dakota\", \"Nebraska\", \"New Hampshire\", \"New Jersey\", \"New Mexico\", \"Nevada\", \"New York\", \"Ohio\", \"Oklahoma\", \"Oregon\", \"Pennsylvania\", \"Puerto Rico\", \"Rhode Island\", \"South Carolina\", \"South Dakota\", \"Tennessee\", \"Texas\", \"Utah\", \"Virginia\", \"Virgin Islands\", \"Vermont\", \"Washington\", \"Wisconsin\", \"West Virginia\", \"Wyoming\"], \"visible\": false, \"z\": [1023, 1329, 1074, 5918, 34393, 6621, 3367, 7748, 901, 4156, 7577, 1356, 4712, 1939, 1351, 6287, 3589, 1307, 2229, 1981, 5987, 2567, 1940, 2755, 3731, 2193, 954, 1745, 3195, 1258, 1630, 689, 1695, 1492, 7443, 67810, 3806, 1481, 4122, 5738, 2085, 1190, 1636, 885, 2234, 9943, 2150, 1225, 448, 1027, 8949, 3569, 1338, 757], \"zmax\": 60000, \"zmin\": 0, \"type\": \"choropleth\", \"uid\": \"38034177-dc33-4a02-8c01-2f8508bb0885\"}, {\"autocolorscale\": false, \"colorbar\": {\"title\": {\"text\": \"Number of Homeless\"}}, \"colorscale\": [[0.0, \"rgb(255, 230, 230)\"], [0.2, \"rgb(255, 153, 153)\"], [0.4, \"rgb(255, 77, 77)\"], [0.6, \"rgb(255, 0, 0)\"], [0.8, \"rgb(179, 0, 0)\"], [1.0, \"rgb(128, 0, 0)\"]], \"locationmode\": \"USA-states\", \"locations\": [\"AK\", \"AL\", \"AR\", \"AZ\", \"CA\", \"CO\", \"CT\", \"DC\", \"DE\", \"FL\", \"GA\", \"GU\", \"HI\", \"IA\", \"ID\", \"IL\", \"IN\", \"KS\", \"KY\", \"LA\", \"MA\", \"MD\", \"ME\", \"MI\", \"MN\", \"MO\", \"MS\", \"MT\", \"NC\", \"ND\", \"NE\", \"NH\", \"NJ\", \"NM\", \"NV\", \"NY\", \"OH\", \"OK\", \"OR\", \"PA\", \"PR\", \"RI\", \"SC\", \"SD\", \"TN\", \"TX\", \"UT\", \"VA\", \"VI\", \"VT\", \"WA\", \"WI\", \"WV\", \"WY\"], \"marker\": {\"line\": {\"color\": \"rgb(220,220,220)\", \"width\": 1}}, \"text\": [\"Alaska\", \"Alabama\", \"Arkansas\", \"Arizona\", \"California\", \"Colorado\", \"Connecticut\", \"District of Columbia\", \"Delaware\", \"Florida\", \"Georgia\", \"Guam\", \"Hawaii\", \"Iowa\", \"Idaho\", \"Illinois\", \"Indiana\", \"Kansas\", \"Kentucky\", \"Louisiana\", \"Massachusetts\", \"Maryland\", \"Maine\", \"Michigan\", \"Minnesota\", \"Missouri\", \"Mississippi\", \"Montana\", \"North Carolina\", \"North Dakota\", \"Nebraska\", \"New Hampshire\", \"New Jersey\", \"New Mexico\", \"Nevada\", \"New York\", \"Ohio\", \"Oklahoma\", \"Oregon\", \"Pennsylvania\", \"Puerto Rico\", \"Rhode Island\", \"South Carolina\", \"South Dakota\", \"Tennessee\", \"Texas\", \"Utah\", \"Virginia\", \"Virgin Islands\", \"Vermont\", \"Washington\", \"Wisconsin\", \"West Virginia\", \"Wyoming\"], \"visible\": false, \"z\": [1208, 1153, 830, 5631, 41174, 5335, 3134, 7298, 953, 4152, 5797, 1280, 4903, 1975, 1211, 6786, 3664, 1208, 2119, 1703, 6492, 2796, 1632, 2597, 3215, 1686, 809, 1709, 3021, 1305, 1481, 718, 1610, 1342, 7509, 75323, 3320, 1300, 5544, 5998, 2422, 1111, 1961, 1036, 2154, 7016, 2176, 1204, 337, 1052, 10122, 3597, 1109, 798], \"zmax\": 60000, \"zmin\": 0, \"type\": \"choropleth\", \"uid\": \"f56443e5-3afc-4b9d-981b-1f7dd1d38937\"}], {\"geo\": {\"lakecolor\": \"rgb(255, 255, 255)\", \"projection\": {\"type\": \"albers usa\"}, \"scope\": \"usa\", \"showlakes\": true}, \"sliders\": [{\"active\": 10, \"currentvalue\": {\"prefix\": \"Year: \"}, \"pad\": {\"t\": 50}, \"steps\": [{\"args\": [\"visible\", [true, false, false, false, false, false, false, false, false]], \"label\": \"2007\", \"method\": \"restyle\"}, {\"args\": [\"visible\", [false, true, false, false, false, false, false, false, false]], \"label\": \"2008\", \"method\": \"restyle\"}, {\"args\": [\"visible\", [false, false, true, false, false, false, false, false, false]], \"label\": \"2009\", \"method\": \"restyle\"}, {\"args\": [\"visible\", [false, false, false, true, false, false, false, false, false]], \"label\": \"2010\", \"method\": \"restyle\"}, {\"args\": [\"visible\", [false, false, false, false, true, false, false, false, false]], \"label\": \"2011\", \"method\": \"restyle\"}, {\"args\": [\"visible\", [false, false, false, false, false, true, false, false, false]], \"label\": \"2012\", \"method\": \"restyle\"}, {\"args\": [\"visible\", [false, false, false, false, false, false, true, false, false]], \"label\": \"2013\", \"method\": \"restyle\"}, {\"args\": [\"visible\", [false, false, false, false, false, false, false, true, false]], \"label\": \"2014\", \"method\": \"restyle\"}, {\"args\": [\"visible\", [false, false, false, false, false, false, false, false, true]], \"label\": \"2015\", \"method\": \"restyle\"}]}], \"title\": {\"text\": \"Number of Homeless in USA per state\"}}, {\"showLink\": false, \"linkText\": \"Export to plot.ly\", \"plotlyServerURL\": \"https://plot.ly\"})});</script><script type=\"text/javascript\">window.addEventListener(\"resize\", function(){window._Plotly.Plots.resize(document.getElementById(\"bc368457-139a-4a5d-8040-35779ad3038c\"));});</script>",
            "text/html": "<div id=\"bc368457-139a-4a5d-8040-35779ad3038c\" style=\"height: 525px; width: 100%;\" class=\"plotly-graph-div\"></div><script type=\"text/javascript\">require([\"plotly\"], function(Plotly) { window.PLOTLYENV=window.PLOTLYENV || {};window.PLOTLYENV.BASE_URL=\"https://plot.ly\";Plotly.newPlot(\"bc368457-139a-4a5d-8040-35779ad3038c\", [{\"autocolorscale\": false, \"colorbar\": {\"title\": {\"text\": \"Number of Homeless\"}}, \"colorscale\": [[0.0, \"rgb(255, 230, 230)\"], [0.2, \"rgb(255, 153, 153)\"], [0.4, \"rgb(255, 77, 77)\"], [0.6, \"rgb(255, 0, 0)\"], [0.8, \"rgb(179, 0, 0)\"], [1.0, \"rgb(128, 0, 0)\"]], \"locationmode\": \"USA-states\", \"locations\": [\"AK\", \"AL\", \"AR\", \"AZ\", \"CA\", \"CO\", \"CT\", \"DC\", \"DE\", \"FL\", \"GA\", \"GU\", \"HI\", \"IA\", \"ID\", \"IL\", \"IN\", \"KS\", \"KY\", \"LA\", \"MA\", \"MD\", \"ME\", \"MI\", \"MN\", \"MO\", \"MS\", \"MT\", \"NC\", \"ND\", \"NE\", \"NH\", \"NJ\", \"NM\", \"NV\", \"NY\", \"OH\", \"OK\", \"OR\", \"PA\", \"PR\", \"RI\", \"SC\", \"SD\", \"TN\", \"TX\", \"UT\", \"VA\", \"VI\", \"VT\", \"WA\", \"WI\", \"WV\", \"WY\"], \"marker\": {\"line\": {\"color\": \"rgb(220,220,220)\", \"width\": 1}}, \"text\": [\"Alaska\", \"Alabama\", \"Arkansas\", \"Arizona\", \"California\", \"Colorado\", \"Connecticut\", \"District of Columbia\", \"Delaware\", \"Florida\", \"Georgia\", \"Guam\", \"Hawaii\", \"Iowa\", \"Idaho\", \"Illinois\", \"Indiana\", \"Kansas\", \"Kentucky\", \"Louisiana\", \"Massachusetts\", \"Maryland\", \"Maine\", \"Michigan\", \"Minnesota\", \"Missouri\", \"Mississippi\", \"Montana\", \"North Carolina\", \"North Dakota\", \"Nebraska\", \"New Hampshire\", \"New Jersey\", \"New Mexico\", \"Nevada\", \"New York\", \"Ohio\", \"Oklahoma\", \"Oregon\", \"Pennsylvania\", \"Puerto Rico\", \"Rhode Island\", \"South Carolina\", \"South Dakota\", \"Tennessee\", \"Texas\", \"Utah\", \"Virginia\", \"Virgin Islands\", \"Vermont\", \"Washington\", \"Wisconsin\", \"West Virginia\", \"Wyoming\"], \"visible\": true, \"z\": [974, 2104, 1822, 8448, 47862, 8698, 3563, 5320, 1061, 6483, 10255, 725, 3750, 1529, 1168, 5979, 4906, 937, 4316, 1619, 5104, 2607, 1897, 18062, 2984, 1786, 718, 1150, 2610, 636, 1870, 1300, 2842, 1739, 7533, 50372, 3521, 1734, 6431, 7640, 2305, 1372, 1946, 579, 2255, 12958, 2079, 1593, 559, 796, 7902, 3105, 1635, 537], \"zmax\": 60000, \"zmin\": 0, \"type\": \"choropleth\", \"uid\": \"28d49326-b014-49a8-b869-8f813202a2ae\"}, {\"autocolorscale\": false, \"colorbar\": {\"title\": {\"text\": \"Number of Homeless\"}}, \"colorscale\": [[0.0, \"rgb(255, 230, 230)\"], [0.2, \"rgb(255, 153, 153)\"], [0.4, \"rgb(255, 77, 77)\"], [0.6, \"rgb(255, 0, 0)\"], [0.8, \"rgb(179, 0, 0)\"], [1.0, \"rgb(128, 0, 0)\"]], \"locationmode\": \"USA-states\", \"locations\": [\"AK\", \"AL\", \"AR\", \"AZ\", \"CA\", \"CO\", \"CT\", \"DC\", \"DE\", \"FL\", \"GA\", \"GU\", \"HI\", \"IA\", \"ID\", \"IL\", \"IN\", \"KS\", \"KY\", \"LA\", \"MA\", \"MD\", \"ME\", \"MI\", \"MN\", \"MO\", \"MS\", \"MT\", \"NC\", \"ND\", \"NE\", \"NH\", \"NJ\", \"NM\", \"NV\", \"NY\", \"OH\", \"OK\", \"OR\", \"PA\", \"PR\", \"RI\", \"SC\", \"SD\", \"TN\", \"TX\", \"UT\", \"VA\", \"VI\", \"VT\", \"WA\", \"WI\", \"WV\", \"WY\"], \"marker\": {\"line\": {\"color\": \"rgb(220,220,220)\", \"width\": 1}}, \"text\": [\"Alaska\", \"Alabama\", \"Arkansas\", \"Arizona\", \"California\", \"Colorado\", \"Connecticut\", \"District of Columbia\", \"Delaware\", \"Florida\", \"Georgia\", \"Guam\", \"Hawaii\", \"Iowa\", \"Idaho\", \"Illinois\", \"Indiana\", \"Kansas\", \"Kentucky\", \"Louisiana\", \"Massachusetts\", \"Maryland\", \"Maine\", \"Michigan\", \"Minnesota\", \"Missouri\", \"Mississippi\", \"Montana\", \"North Carolina\", \"North Dakota\", \"Nebraska\", \"New Hampshire\", \"New Jersey\", \"New Mexico\", \"Nevada\", \"New York\", \"Ohio\", \"Oklahoma\", \"Oregon\", \"Pennsylvania\", \"Puerto Rico\", \"Rhode Island\", \"South Carolina\", \"South Dakota\", \"Tennessee\", \"Texas\", \"Utah\", \"Virginia\", \"Virgin Islands\", \"Vermont\", \"Washington\", \"Wisconsin\", \"West Virginia\", \"Wyoming\"], \"visible\": false, \"z\": [1023, 2104, 1811, 7189, 47862, 8482, 3781, 6044, 933, 6483, 9340, 725, 3750, 1950, 853, 5979, 4906, 524, 4027, 1619, 5198, 2607, 1903, 18062, 3369, 2260, 1302, 1417, 2742, 615, 1637, 986, 2227, 1739, 7533, 50261, 4525, 1335, 9860, 6871, 2305, 1196, 1946, 579, 2217, 13298, 2296, 1835, 602, 633, 8501, 3105, 1297, 751], \"zmax\": 60000, \"zmin\": 0, \"type\": \"choropleth\", \"uid\": \"863f76b1-d9d7-45cd-af25-0d6cce223bdf\"}, {\"autocolorscale\": false, \"colorbar\": {\"title\": {\"text\": \"Number of Homeless\"}}, \"colorscale\": [[0.0, \"rgb(255, 230, 230)\"], [0.2, \"rgb(255, 153, 153)\"], [0.4, \"rgb(255, 77, 77)\"], [0.6, \"rgb(255, 0, 0)\"], [0.8, \"rgb(179, 0, 0)\"], [1.0, \"rgb(128, 0, 0)\"]], \"locationmode\": \"USA-states\", \"locations\": [\"AK\", \"AL\", \"AR\", \"AZ\", \"CA\", \"CO\", \"CT\", \"DC\", \"DE\", \"FL\", \"GA\", \"GU\", \"HI\", \"IA\", \"ID\", \"IL\", \"IN\", \"KS\", \"KY\", \"LA\", \"MA\", \"MD\", \"ME\", \"MI\", \"MN\", \"MO\", \"MS\", \"MT\", \"NC\", \"ND\", \"NE\", \"NH\", \"NJ\", \"NM\", \"NV\", \"NY\", \"OH\", \"OK\", \"OR\", \"PA\", \"PR\", \"RI\", \"SC\", \"SD\", \"TN\", \"TX\", \"UT\", \"VA\", \"VI\", \"VT\", \"WA\", \"WI\", \"WV\", \"WY\"], \"marker\": {\"line\": {\"color\": \"rgb(220,220,220)\", \"width\": 1}}, \"text\": [\"Alaska\", \"Alabama\", \"Arkansas\", \"Arizona\", \"California\", \"Colorado\", \"Connecticut\", \"District of Columbia\", \"Delaware\", \"Florida\", \"Georgia\", \"Guam\", \"Hawaii\", \"Iowa\", \"Idaho\", \"Illinois\", \"Indiana\", \"Kansas\", \"Kentucky\", \"Louisiana\", \"Massachusetts\", \"Maryland\", \"Maine\", \"Michigan\", \"Minnesota\", \"Missouri\", \"Mississippi\", \"Montana\", \"North Carolina\", \"North Dakota\", \"Nebraska\", \"New Hampshire\", \"New Jersey\", \"New Mexico\", \"Nevada\", \"New York\", \"Ohio\", \"Oklahoma\", \"Oregon\", \"Pennsylvania\", \"Puerto Rico\", \"Rhode Island\", \"South Carolina\", \"South Dakota\", \"Tennessee\", \"Texas\", \"Utah\", \"Virginia\", \"Virgin Islands\", \"Vermont\", \"Washington\", \"Wisconsin\", \"West Virginia\", \"Wyoming\"], \"visible\": false, \"z\": [1267, 2273, 1425, 7889, 33243, 8752, 3780, 6228, 1130, 7473, 9941, 1088, 3638, 1962, 1153, 6240, 4287, 859, 3174, 8725, 5101, 3419, 1775, 3694, 3281, 1809, 1242, 1196, 2821, 773, 1483, 769, 1779, 2002, 9949, 49343, 4770, 1475, 6777, 6304, 2295, 1607, 1525, 731, 2236, 15327, 1811, 1730, 471, 649, 8952, 3992, 1003, 515], \"zmax\": 60000, \"zmin\": 0, \"type\": \"choropleth\", \"uid\": \"39fb005b-1405-4d43-afcb-13b4903d81a0\"}, {\"autocolorscale\": false, \"colorbar\": {\"title\": {\"text\": \"Number of Homeless\"}}, \"colorscale\": [[0.0, \"rgb(255, 230, 230)\"], [0.2, \"rgb(255, 153, 153)\"], [0.4, \"rgb(255, 77, 77)\"], [0.6, \"rgb(255, 0, 0)\"], [0.8, \"rgb(179, 0, 0)\"], [1.0, \"rgb(128, 0, 0)\"]], \"locationmode\": \"USA-states\", \"locations\": [\"AK\", \"AL\", \"AR\", \"AZ\", \"CA\", \"CO\", \"CT\", \"DC\", \"DE\", \"FL\", \"GA\", \"GU\", \"HI\", \"IA\", \"ID\", \"IL\", \"IN\", \"KS\", \"KY\", \"LA\", \"MA\", \"MD\", \"ME\", \"MI\", \"MN\", \"MO\", \"MS\", \"MT\", \"NC\", \"ND\", \"NE\", \"NH\", \"NJ\", \"NM\", \"NV\", \"NY\", \"OH\", \"OK\", \"OR\", \"PA\", \"PR\", \"RI\", \"SC\", \"SD\", \"TN\", \"TX\", \"UT\", \"VA\", \"VI\", \"VT\", \"WA\", \"WI\", \"WV\", \"WY\"], \"marker\": {\"line\": {\"color\": \"rgb(220,220,220)\", \"width\": 1}}, \"text\": [\"Alaska\", \"Alabama\", \"Arkansas\", \"Arizona\", \"California\", \"Colorado\", \"Connecticut\", \"District of Columbia\", \"Delaware\", \"Florida\", \"Georgia\", \"Guam\", \"Hawaii\", \"Iowa\", \"Idaho\", \"Illinois\", \"Indiana\", \"Kansas\", \"Kentucky\", \"Louisiana\", \"Massachusetts\", \"Maryland\", \"Maine\", \"Michigan\", \"Minnesota\", \"Missouri\", \"Mississippi\", \"Montana\", \"North Carolina\", \"North Dakota\", \"Nebraska\", \"New Hampshire\", \"New Jersey\", \"New Mexico\", \"Nevada\", \"New York\", \"Ohio\", \"Oklahoma\", \"Oregon\", \"Pennsylvania\", \"Puerto Rico\", \"Rhode Island\", \"South Carolina\", \"South Dakota\", \"Tennessee\", \"Texas\", \"Utah\", \"Virginia\", \"Virgin Islands\", \"Vermont\", \"Washington\", \"Wisconsin\", \"West Virginia\", \"Wyoming\"], \"visible\": false, \"z\": [1231, 2273, 1425, 6999, 33243, 8752, 3372, 6539, 982, 7473, 9750, 1635, 4171, 1686, 1474, 6240, 4317, 859, 3446, 8725, 5139, 3419, 1743, 2953, 3056, 2153, 1242, 1615, 2851, 799, 1540, 813, 1779, 2002, 9949, 53187, 4555, 1145, 8814, 6084, 2374, 1282, 1525, 731, 2324, 14827, 1968, 1552, 487, 613, 9022, 3992, 1375, 579], \"zmax\": 60000, \"zmin\": 0, \"type\": \"choropleth\", \"uid\": \"5db889a0-2b85-4859-9e27-2be2afa3ea6f\"}, {\"autocolorscale\": false, \"colorbar\": {\"title\": {\"text\": \"Number of Homeless\"}}, \"colorscale\": [[0.0, \"rgb(255, 230, 230)\"], [0.2, \"rgb(255, 153, 153)\"], [0.4, \"rgb(255, 77, 77)\"], [0.6, \"rgb(255, 0, 0)\"], [0.8, \"rgb(179, 0, 0)\"], [1.0, \"rgb(128, 0, 0)\"]], \"locationmode\": \"USA-states\", \"locations\": [\"AK\", \"AL\", \"AR\", \"AZ\", \"CA\", \"CO\", \"CT\", \"DC\", \"DE\", \"FL\", \"GA\", \"GU\", \"HI\", \"IA\", \"ID\", \"IL\", \"IN\", \"KS\", \"KY\", \"LA\", \"MA\", \"MD\", \"ME\", \"MI\", \"MN\", \"MO\", \"MS\", \"MT\", \"NC\", \"ND\", \"NE\", \"NH\", \"NJ\", \"NM\", \"NV\", \"NY\", \"OH\", \"OK\", \"OR\", \"PA\", \"PR\", \"RI\", \"SC\", \"SD\", \"TN\", \"TX\", \"UT\", \"VA\", \"VI\", \"VT\", \"WA\", \"WI\", \"WV\", \"WY\"], \"marker\": {\"line\": {\"color\": \"rgb(220,220,220)\", \"width\": 1}}, \"text\": [\"Alaska\", \"Alabama\", \"Arkansas\", \"Arizona\", \"California\", \"Colorado\", \"Connecticut\", \"District of Columbia\", \"Delaware\", \"Florida\", \"Georgia\", \"Guam\", \"Hawaii\", \"Iowa\", \"Idaho\", \"Illinois\", \"Indiana\", \"Kansas\", \"Kentucky\", \"Louisiana\", \"Massachusetts\", \"Maryland\", \"Maine\", \"Michigan\", \"Minnesota\", \"Missouri\", \"Mississippi\", \"Montana\", \"North Carolina\", \"North Dakota\", \"Nebraska\", \"New Hampshire\", \"New Jersey\", \"New Mexico\", \"Nevada\", \"New York\", \"Ohio\", \"Oklahoma\", \"Oregon\", \"Pennsylvania\", \"Puerto Rico\", \"Rhode Island\", \"South Carolina\", \"South Dakota\", \"Tennessee\", \"Texas\", \"Utah\", \"Virginia\", \"Virgin Islands\", \"Vermont\", \"Washington\", \"Wisconsin\", \"West Virginia\", \"Wyoming\"], \"visible\": false, \"z\": [1223, 1950, 1276, 5831, 34622, 9283, 3451, 6546, 1035, 7336, 11168, 1745, 4234, 1782, 1361, 6635, 3996, 1023, 2834, 6687, 5476, 4094, 1832, 3138, 3100, 2992, 951, 1768, 2987, 603, 1580, 808, 1536, 1962, 8003, 51123, 4431, 1348, 7006, 6180, 1847, 1070, 1621, 826, 1942, 14643, 2033, 1549, 532, 655, 8972, 3400, 1455, 1038], \"zmax\": 60000, \"zmin\": 0, \"type\": \"choropleth\", \"uid\": \"0e8aeac7-ac55-4160-9394-266712fa5cb5\"}, {\"autocolorscale\": false, \"colorbar\": {\"title\": {\"text\": \"Number of Homeless\"}}, \"colorscale\": [[0.0, \"rgb(255, 230, 230)\"], [0.2, \"rgb(255, 153, 153)\"], [0.4, \"rgb(255, 77, 77)\"], [0.6, \"rgb(255, 0, 0)\"], [0.8, \"rgb(179, 0, 0)\"], [1.0, \"rgb(128, 0, 0)\"]], \"locationmode\": \"USA-states\", \"locations\": [\"AK\", \"AL\", \"AR\", \"AZ\", \"CA\", \"CO\", \"CT\", \"DC\", \"DE\", \"FL\", \"GA\", \"GU\", \"HI\", \"IA\", \"ID\", \"IL\", \"IN\", \"KS\", \"KY\", \"LA\", \"MA\", \"MD\", \"ME\", \"MI\", \"MN\", \"MO\", \"MS\", \"MT\", \"NC\", \"ND\", \"NE\", \"NH\", \"NJ\", \"NM\", \"NV\", \"NY\", \"OH\", \"OK\", \"OR\", \"PA\", \"PR\", \"RI\", \"SC\", \"SD\", \"TN\", \"TX\", \"UT\", \"VA\", \"VI\", \"VT\", \"WA\", \"WI\", \"WV\", \"WY\"], \"marker\": {\"line\": {\"color\": \"rgb(220,220,220)\", \"width\": 1}}, \"text\": [\"Alaska\", \"Alabama\", \"Arkansas\", \"Arizona\", \"California\", \"Colorado\", \"Connecticut\", \"District of Columbia\", \"Delaware\", \"Florida\", \"Georgia\", \"Guam\", \"Hawaii\", \"Iowa\", \"Idaho\", \"Illinois\", \"Indiana\", \"Kansas\", \"Kentucky\", \"Louisiana\", \"Massachusetts\", \"Maryland\", \"Maine\", \"Michigan\", \"Minnesota\", \"Missouri\", \"Mississippi\", \"Montana\", \"North Carolina\", \"North Dakota\", \"Nebraska\", \"New Hampshire\", \"New Jersey\", \"New Mexico\", \"Nevada\", \"New York\", \"Ohio\", \"Oklahoma\", \"Oregon\", \"Pennsylvania\", \"Puerto Rico\", \"Rhode Island\", \"South Carolina\", \"South Dakota\", \"Tennessee\", \"Texas\", \"Utah\", \"Virginia\", \"Virgin Islands\", \"Vermont\", \"Washington\", \"Wisconsin\", \"West Virginia\", \"Wyoming\"], \"visible\": false, \"z\": [1147, 1707, 1873, 6485, 31553, 9283, 3307, 6954, 1008, 7419, 11105, 1301, 4353, 1860, 1214, 6710, 3959, 1043, 2328, 4903, 5607, 3854, 1762, 3115, 3285, 2705, 1037, 1833, 2922, 688, 1530, 761, 2087, 1814, 7323, 56672, 5121, 1303, 6105, 5780, 1685, 1277, 1648, 859, 2076, 12764, 2463, 1534, 484, 776, 8899, 3618, 1604, 1813], \"zmax\": 60000, \"zmin\": 0, \"type\": \"choropleth\", \"uid\": \"fc24dd63-1ec3-465b-bda2-ed55749dc5f2\"}, {\"autocolorscale\": false, \"colorbar\": {\"title\": {\"text\": \"Number of Homeless\"}}, \"colorscale\": [[0.0, \"rgb(255, 230, 230)\"], [0.2, \"rgb(255, 153, 153)\"], [0.4, \"rgb(255, 77, 77)\"], [0.6, \"rgb(255, 0, 0)\"], [0.8, \"rgb(179, 0, 0)\"], [1.0, \"rgb(128, 0, 0)\"]], \"locationmode\": \"USA-states\", \"locations\": [\"AK\", \"AL\", \"AR\", \"AZ\", \"CA\", \"CO\", \"CT\", \"DC\", \"DE\", \"FL\", \"GA\", \"GU\", \"HI\", \"IA\", \"ID\", \"IL\", \"IN\", \"KS\", \"KY\", \"LA\", \"MA\", \"MD\", \"ME\", \"MI\", \"MN\", \"MO\", \"MS\", \"MT\", \"NC\", \"ND\", \"NE\", \"NH\", \"NJ\", \"NM\", \"NV\", \"NY\", \"OH\", \"OK\", \"OR\", \"PA\", \"PR\", \"RI\", \"SC\", \"SD\", \"TN\", \"TX\", \"UT\", \"VA\", \"VI\", \"VT\", \"WA\", \"WI\", \"WV\", \"WY\"], \"marker\": {\"line\": {\"color\": \"rgb(220,220,220)\", \"width\": 1}}, \"text\": [\"Alaska\", \"Alabama\", \"Arkansas\", \"Arizona\", \"California\", \"Colorado\", \"Connecticut\", \"District of Columbia\", \"Delaware\", \"Florida\", \"Georgia\", \"Guam\", \"Hawaii\", \"Iowa\", \"Idaho\", \"Illinois\", \"Indiana\", \"Kansas\", \"Kentucky\", \"Louisiana\", \"Massachusetts\", \"Maryland\", \"Maine\", \"Michigan\", \"Minnesota\", \"Missouri\", \"Mississippi\", \"Montana\", \"North Carolina\", \"North Dakota\", \"Nebraska\", \"New Hampshire\", \"New Jersey\", \"New Mexico\", \"Nevada\", \"New York\", \"Ohio\", \"Oklahoma\", \"Oregon\", \"Pennsylvania\", \"Puerto Rico\", \"Rhode Island\", \"South Carolina\", \"South Dakota\", \"Tennessee\", \"Texas\", \"Utah\", \"Virginia\", \"Virgin Islands\", \"Vermont\", \"Washington\", \"Wisconsin\", \"West Virginia\", \"Wyoming\"], \"visible\": false, \"z\": [1122, 1469, 1678, 5889, 35524, 6316, 3389, 6865, 946, 4378, 7651, 1271, 4556, 1920, 1087, 6276, 3910, 1141, 2392, 2337, 5881, 2638, 2191, 2789, 3591, 2691, 1052, 1878, 3625, 2069, 1476, 759, 1648, 1648, 5952, 64060, 3830, 1362, 5525, 5645, 2094, 1384, 2308, 1094, 2069, 10128, 2133, 1350, 482, 971, 9106, 3610, 1513, 953], \"zmax\": 60000, \"zmin\": 0, \"type\": \"choropleth\", \"uid\": \"f5e41ff6-5703-48ef-ac81-bc7b623af4eb\"}, {\"autocolorscale\": false, \"colorbar\": {\"title\": {\"text\": \"Number of Homeless\"}}, \"colorscale\": [[0.0, \"rgb(255, 230, 230)\"], [0.2, \"rgb(255, 153, 153)\"], [0.4, \"rgb(255, 77, 77)\"], [0.6, \"rgb(255, 0, 0)\"], [0.8, \"rgb(179, 0, 0)\"], [1.0, \"rgb(128, 0, 0)\"]], \"locationmode\": \"USA-states\", \"locations\": [\"AK\", \"AL\", \"AR\", \"AZ\", \"CA\", \"CO\", \"CT\", \"DC\", \"DE\", \"FL\", \"GA\", \"GU\", \"HI\", \"IA\", \"ID\", \"IL\", \"IN\", \"KS\", \"KY\", \"LA\", \"MA\", \"MD\", \"ME\", \"MI\", \"MN\", \"MO\", \"MS\", \"MT\", \"NC\", \"ND\", \"NE\", \"NH\", \"NJ\", \"NM\", \"NV\", \"NY\", \"OH\", \"OK\", \"OR\", \"PA\", \"PR\", \"RI\", \"SC\", \"SD\", \"TN\", \"TX\", \"UT\", \"VA\", \"VI\", \"VT\", \"WA\", \"WI\", \"WV\", \"WY\"], \"marker\": {\"line\": {\"color\": \"rgb(220,220,220)\", \"width\": 1}}, \"text\": [\"Alaska\", \"Alabama\", \"Arkansas\", \"Arizona\", \"California\", \"Colorado\", \"Connecticut\", \"District of Columbia\", \"Delaware\", \"Florida\", \"Georgia\", \"Guam\", \"Hawaii\", \"Iowa\", \"Idaho\", \"Illinois\", \"Indiana\", \"Kansas\", \"Kentucky\", \"Louisiana\", \"Massachusetts\", \"Maryland\", \"Maine\", \"Michigan\", \"Minnesota\", \"Missouri\", \"Mississippi\", \"Montana\", \"North Carolina\", \"North Dakota\", \"Nebraska\", \"New Hampshire\", \"New Jersey\", \"New Mexico\", \"Nevada\", \"New York\", \"Ohio\", \"Oklahoma\", \"Oregon\", \"Pennsylvania\", \"Puerto Rico\", \"Rhode Island\", \"South Carolina\", \"South Dakota\", \"Tennessee\", \"Texas\", \"Utah\", \"Virginia\", \"Virgin Islands\", \"Vermont\", \"Washington\", \"Wisconsin\", \"West Virginia\", \"Wyoming\"], \"visible\": false, \"z\": [1023, 1329, 1074, 5918, 34393, 6621, 3367, 7748, 901, 4156, 7577, 1356, 4712, 1939, 1351, 6287, 3589, 1307, 2229, 1981, 5987, 2567, 1940, 2755, 3731, 2193, 954, 1745, 3195, 1258, 1630, 689, 1695, 1492, 7443, 67810, 3806, 1481, 4122, 5738, 2085, 1190, 1636, 885, 2234, 9943, 2150, 1225, 448, 1027, 8949, 3569, 1338, 757], \"zmax\": 60000, \"zmin\": 0, \"type\": \"choropleth\", \"uid\": \"38034177-dc33-4a02-8c01-2f8508bb0885\"}, {\"autocolorscale\": false, \"colorbar\": {\"title\": {\"text\": \"Number of Homeless\"}}, \"colorscale\": [[0.0, \"rgb(255, 230, 230)\"], [0.2, \"rgb(255, 153, 153)\"], [0.4, \"rgb(255, 77, 77)\"], [0.6, \"rgb(255, 0, 0)\"], [0.8, \"rgb(179, 0, 0)\"], [1.0, \"rgb(128, 0, 0)\"]], \"locationmode\": \"USA-states\", \"locations\": [\"AK\", \"AL\", \"AR\", \"AZ\", \"CA\", \"CO\", \"CT\", \"DC\", \"DE\", \"FL\", \"GA\", \"GU\", \"HI\", \"IA\", \"ID\", \"IL\", \"IN\", \"KS\", \"KY\", \"LA\", \"MA\", \"MD\", \"ME\", \"MI\", \"MN\", \"MO\", \"MS\", \"MT\", \"NC\", \"ND\", \"NE\", \"NH\", \"NJ\", \"NM\", \"NV\", \"NY\", \"OH\", \"OK\", \"OR\", \"PA\", \"PR\", \"RI\", \"SC\", \"SD\", \"TN\", \"TX\", \"UT\", \"VA\", \"VI\", \"VT\", \"WA\", \"WI\", \"WV\", \"WY\"], \"marker\": {\"line\": {\"color\": \"rgb(220,220,220)\", \"width\": 1}}, \"text\": [\"Alaska\", \"Alabama\", \"Arkansas\", \"Arizona\", \"California\", \"Colorado\", \"Connecticut\", \"District of Columbia\", \"Delaware\", \"Florida\", \"Georgia\", \"Guam\", \"Hawaii\", \"Iowa\", \"Idaho\", \"Illinois\", \"Indiana\", \"Kansas\", \"Kentucky\", \"Louisiana\", \"Massachusetts\", \"Maryland\", \"Maine\", \"Michigan\", \"Minnesota\", \"Missouri\", \"Mississippi\", \"Montana\", \"North Carolina\", \"North Dakota\", \"Nebraska\", \"New Hampshire\", \"New Jersey\", \"New Mexico\", \"Nevada\", \"New York\", \"Ohio\", \"Oklahoma\", \"Oregon\", \"Pennsylvania\", \"Puerto Rico\", \"Rhode Island\", \"South Carolina\", \"South Dakota\", \"Tennessee\", \"Texas\", \"Utah\", \"Virginia\", \"Virgin Islands\", \"Vermont\", \"Washington\", \"Wisconsin\", \"West Virginia\", \"Wyoming\"], \"visible\": false, \"z\": [1208, 1153, 830, 5631, 41174, 5335, 3134, 7298, 953, 4152, 5797, 1280, 4903, 1975, 1211, 6786, 3664, 1208, 2119, 1703, 6492, 2796, 1632, 2597, 3215, 1686, 809, 1709, 3021, 1305, 1481, 718, 1610, 1342, 7509, 75323, 3320, 1300, 5544, 5998, 2422, 1111, 1961, 1036, 2154, 7016, 2176, 1204, 337, 1052, 10122, 3597, 1109, 798], \"zmax\": 60000, \"zmin\": 0, \"type\": \"choropleth\", \"uid\": \"f56443e5-3afc-4b9d-981b-1f7dd1d38937\"}], {\"geo\": {\"lakecolor\": \"rgb(255, 255, 255)\", \"projection\": {\"type\": \"albers usa\"}, \"scope\": \"usa\", \"showlakes\": true}, \"sliders\": [{\"active\": 10, \"currentvalue\": {\"prefix\": \"Year: \"}, \"pad\": {\"t\": 50}, \"steps\": [{\"args\": [\"visible\", [true, false, false, false, false, false, false, false, false]], \"label\": \"2007\", \"method\": \"restyle\"}, {\"args\": [\"visible\", [false, true, false, false, false, false, false, false, false]], \"label\": \"2008\", \"method\": \"restyle\"}, {\"args\": [\"visible\", [false, false, true, false, false, false, false, false, false]], \"label\": \"2009\", \"method\": \"restyle\"}, {\"args\": [\"visible\", [false, false, false, true, false, false, false, false, false]], \"label\": \"2010\", \"method\": \"restyle\"}, {\"args\": [\"visible\", [false, false, false, false, true, false, false, false, false]], \"label\": \"2011\", \"method\": \"restyle\"}, {\"args\": [\"visible\", [false, false, false, false, false, true, false, false, false]], \"label\": \"2012\", \"method\": \"restyle\"}, {\"args\": [\"visible\", [false, false, false, false, false, false, true, false, false]], \"label\": \"2013\", \"method\": \"restyle\"}, {\"args\": [\"visible\", [false, false, false, false, false, false, false, true, false]], \"label\": \"2014\", \"method\": \"restyle\"}, {\"args\": [\"visible\", [false, false, false, false, false, false, false, false, true]], \"label\": \"2015\", \"method\": \"restyle\"}]}], \"title\": {\"text\": \"Number of Homeless in USA per state\"}}, {\"showLink\": false, \"linkText\": \"Export to plot.ly\", \"plotlyServerURL\": \"https://plot.ly\"})});</script><script type=\"text/javascript\">window.addEventListener(\"resize\", function(){window._Plotly.Plots.resize(document.getElementById(\"bc368457-139a-4a5d-8040-35779ad3038c\"));});</script>",
            "application/vnd.plotly.v1+json": {
              "layout": {
                "sliders": [
                  {
                    "active": 10,
                    "steps": [
                      {
                        "args": [
                          "visible",
                          [
                            true,
                            false,
                            false,
                            false,
                            false,
                            false,
                            false,
                            false,
                            false
                          ]
                        ],
                        "method": "restyle",
                        "label": "2007"
                      },
                      {
                        "args": [
                          "visible",
                          [
                            false,
                            true,
                            false,
                            false,
                            false,
                            false,
                            false,
                            false,
                            false
                          ]
                        ],
                        "method": "restyle",
                        "label": "2008"
                      },
                      {
                        "args": [
                          "visible",
                          [
                            false,
                            false,
                            true,
                            false,
                            false,
                            false,
                            false,
                            false,
                            false
                          ]
                        ],
                        "method": "restyle",
                        "label": "2009"
                      },
                      {
                        "args": [
                          "visible",
                          [
                            false,
                            false,
                            false,
                            true,
                            false,
                            false,
                            false,
                            false,
                            false
                          ]
                        ],
                        "method": "restyle",
                        "label": "2010"
                      },
                      {
                        "args": [
                          "visible",
                          [
                            false,
                            false,
                            false,
                            false,
                            true,
                            false,
                            false,
                            false,
                            false
                          ]
                        ],
                        "method": "restyle",
                        "label": "2011"
                      },
                      {
                        "args": [
                          "visible",
                          [
                            false,
                            false,
                            false,
                            false,
                            false,
                            true,
                            false,
                            false,
                            false
                          ]
                        ],
                        "method": "restyle",
                        "label": "2012"
                      },
                      {
                        "args": [
                          "visible",
                          [
                            false,
                            false,
                            false,
                            false,
                            false,
                            false,
                            true,
                            false,
                            false
                          ]
                        ],
                        "method": "restyle",
                        "label": "2013"
                      },
                      {
                        "args": [
                          "visible",
                          [
                            false,
                            false,
                            false,
                            false,
                            false,
                            false,
                            false,
                            true,
                            false
                          ]
                        ],
                        "method": "restyle",
                        "label": "2014"
                      },
                      {
                        "args": [
                          "visible",
                          [
                            false,
                            false,
                            false,
                            false,
                            false,
                            false,
                            false,
                            false,
                            true
                          ]
                        ],
                        "method": "restyle",
                        "label": "2015"
                      }
                    ],
                    "currentvalue": {
                      "prefix": "Year: "
                    },
                    "pad": {
                      "t": 50
                    }
                  }
                ],
                "geo": {
                  "showlakes": true,
                  "scope": "usa",
                  "projection": {
                    "type": "albers usa"
                  },
                  "lakecolor": "rgb(255, 255, 255)"
                },
                "title": {
                  "text": "Number of Homeless in USA per state"
                }
              },
              "config": {
                "plotlyServerURL": "https://plot.ly",
                "linkText": "Export to plot.ly",
                "showLink": false
              },
              "data": [
                {
                  "autocolorscale": false,
                  "zmax": 60000,
                  "uid": "4b323442-812b-4ad7-a58c-ae58adc5a2be",
                  "colorscale": [
                    [
                      0,
                      "rgb(255, 230, 230)"
                    ],
                    [
                      0.2,
                      "rgb(255, 153, 153)"
                    ],
                    [
                      0.4,
                      "rgb(255, 77, 77)"
                    ],
                    [
                      0.6,
                      "rgb(255, 0, 0)"
                    ],
                    [
                      0.8,
                      "rgb(179, 0, 0)"
                    ],
                    [
                      1,
                      "rgb(128, 0, 0)"
                    ]
                  ],
                  "text": [
                    "Alaska",
                    "Alabama",
                    "Arkansas",
                    "Arizona",
                    "California",
                    "Colorado",
                    "Connecticut",
                    "District of Columbia",
                    "Delaware",
                    "Florida",
                    "Georgia",
                    "Guam",
                    "Hawaii",
                    "Iowa",
                    "Idaho",
                    "Illinois",
                    "Indiana",
                    "Kansas",
                    "Kentucky",
                    "Louisiana",
                    "Massachusetts",
                    "Maryland",
                    "Maine",
                    "Michigan",
                    "Minnesota",
                    "Missouri",
                    "Mississippi",
                    "Montana",
                    "North Carolina",
                    "North Dakota",
                    "Nebraska",
                    "New Hampshire",
                    "New Jersey",
                    "New Mexico",
                    "Nevada",
                    "New York",
                    "Ohio",
                    "Oklahoma",
                    "Oregon",
                    "Pennsylvania",
                    "Puerto Rico",
                    "Rhode Island",
                    "South Carolina",
                    "South Dakota",
                    "Tennessee",
                    "Texas",
                    "Utah",
                    "Virginia",
                    "Virgin Islands",
                    "Vermont",
                    "Washington",
                    "Wisconsin",
                    "West Virginia",
                    "Wyoming"
                  ],
                  "zmin": 0,
                  "locations": [
                    "AK",
                    "AL",
                    "AR",
                    "AZ",
                    "CA",
                    "CO",
                    "CT",
                    "DC",
                    "DE",
                    "FL",
                    "GA",
                    "GU",
                    "HI",
                    "IA",
                    "ID",
                    "IL",
                    "IN",
                    "KS",
                    "KY",
                    "LA",
                    "MA",
                    "MD",
                    "ME",
                    "MI",
                    "MN",
                    "MO",
                    "MS",
                    "MT",
                    "NC",
                    "ND",
                    "NE",
                    "NH",
                    "NJ",
                    "NM",
                    "NV",
                    "NY",
                    "OH",
                    "OK",
                    "OR",
                    "PA",
                    "PR",
                    "RI",
                    "SC",
                    "SD",
                    "TN",
                    "TX",
                    "UT",
                    "VA",
                    "VI",
                    "VT",
                    "WA",
                    "WI",
                    "WV",
                    "WY"
                  ],
                  "colorbar": {
                    "title": {
                      "text": "Number of Homeless"
                    }
                  },
                  "visible": true,
                  "type": "choropleth",
                  "marker": {
                    "line": {
                      "color": "rgb(220,220,220)",
                      "width": 1
                    }
                  },
                  "z": [
                    974,
                    2104,
                    1822,
                    8448,
                    47862,
                    8698,
                    3563,
                    5320,
                    1061,
                    6483,
                    10255,
                    725,
                    3750,
                    1529,
                    1168,
                    5979,
                    4906,
                    937,
                    4316,
                    1619,
                    5104,
                    2607,
                    1897,
                    18062,
                    2984,
                    1786,
                    718,
                    1150,
                    2610,
                    636,
                    1870,
                    1300,
                    2842,
                    1739,
                    7533,
                    50372,
                    3521,
                    1734,
                    6431,
                    7640,
                    2305,
                    1372,
                    1946,
                    579,
                    2255,
                    12958,
                    2079,
                    1593,
                    559,
                    796,
                    7902,
                    3105,
                    1635,
                    537
                  ],
                  "locationmode": "USA-states"
                },
                {
                  "autocolorscale": false,
                  "zmax": 60000,
                  "uid": "99b3aafc-8d06-43da-825a-efd9b236b5ae",
                  "colorscale": [
                    [
                      0,
                      "rgb(255, 230, 230)"
                    ],
                    [
                      0.2,
                      "rgb(255, 153, 153)"
                    ],
                    [
                      0.4,
                      "rgb(255, 77, 77)"
                    ],
                    [
                      0.6,
                      "rgb(255, 0, 0)"
                    ],
                    [
                      0.8,
                      "rgb(179, 0, 0)"
                    ],
                    [
                      1,
                      "rgb(128, 0, 0)"
                    ]
                  ],
                  "text": [
                    "Alaska",
                    "Alabama",
                    "Arkansas",
                    "Arizona",
                    "California",
                    "Colorado",
                    "Connecticut",
                    "District of Columbia",
                    "Delaware",
                    "Florida",
                    "Georgia",
                    "Guam",
                    "Hawaii",
                    "Iowa",
                    "Idaho",
                    "Illinois",
                    "Indiana",
                    "Kansas",
                    "Kentucky",
                    "Louisiana",
                    "Massachusetts",
                    "Maryland",
                    "Maine",
                    "Michigan",
                    "Minnesota",
                    "Missouri",
                    "Mississippi",
                    "Montana",
                    "North Carolina",
                    "North Dakota",
                    "Nebraska",
                    "New Hampshire",
                    "New Jersey",
                    "New Mexico",
                    "Nevada",
                    "New York",
                    "Ohio",
                    "Oklahoma",
                    "Oregon",
                    "Pennsylvania",
                    "Puerto Rico",
                    "Rhode Island",
                    "South Carolina",
                    "South Dakota",
                    "Tennessee",
                    "Texas",
                    "Utah",
                    "Virginia",
                    "Virgin Islands",
                    "Vermont",
                    "Washington",
                    "Wisconsin",
                    "West Virginia",
                    "Wyoming"
                  ],
                  "zmin": 0,
                  "locations": [
                    "AK",
                    "AL",
                    "AR",
                    "AZ",
                    "CA",
                    "CO",
                    "CT",
                    "DC",
                    "DE",
                    "FL",
                    "GA",
                    "GU",
                    "HI",
                    "IA",
                    "ID",
                    "IL",
                    "IN",
                    "KS",
                    "KY",
                    "LA",
                    "MA",
                    "MD",
                    "ME",
                    "MI",
                    "MN",
                    "MO",
                    "MS",
                    "MT",
                    "NC",
                    "ND",
                    "NE",
                    "NH",
                    "NJ",
                    "NM",
                    "NV",
                    "NY",
                    "OH",
                    "OK",
                    "OR",
                    "PA",
                    "PR",
                    "RI",
                    "SC",
                    "SD",
                    "TN",
                    "TX",
                    "UT",
                    "VA",
                    "VI",
                    "VT",
                    "WA",
                    "WI",
                    "WV",
                    "WY"
                  ],
                  "colorbar": {
                    "title": {
                      "text": "Number of Homeless"
                    }
                  },
                  "visible": false,
                  "type": "choropleth",
                  "marker": {
                    "line": {
                      "color": "rgb(220,220,220)",
                      "width": 1
                    }
                  },
                  "z": [
                    1023,
                    2104,
                    1811,
                    7189,
                    47862,
                    8482,
                    3781,
                    6044,
                    933,
                    6483,
                    9340,
                    725,
                    3750,
                    1950,
                    853,
                    5979,
                    4906,
                    524,
                    4027,
                    1619,
                    5198,
                    2607,
                    1903,
                    18062,
                    3369,
                    2260,
                    1302,
                    1417,
                    2742,
                    615,
                    1637,
                    986,
                    2227,
                    1739,
                    7533,
                    50261,
                    4525,
                    1335,
                    9860,
                    6871,
                    2305,
                    1196,
                    1946,
                    579,
                    2217,
                    13298,
                    2296,
                    1835,
                    602,
                    633,
                    8501,
                    3105,
                    1297,
                    751
                  ],
                  "locationmode": "USA-states"
                },
                {
                  "autocolorscale": false,
                  "zmax": 60000,
                  "uid": "1ad3ff42-01a3-469c-8db3-454e74c1d247",
                  "colorscale": [
                    [
                      0,
                      "rgb(255, 230, 230)"
                    ],
                    [
                      0.2,
                      "rgb(255, 153, 153)"
                    ],
                    [
                      0.4,
                      "rgb(255, 77, 77)"
                    ],
                    [
                      0.6,
                      "rgb(255, 0, 0)"
                    ],
                    [
                      0.8,
                      "rgb(179, 0, 0)"
                    ],
                    [
                      1,
                      "rgb(128, 0, 0)"
                    ]
                  ],
                  "text": [
                    "Alaska",
                    "Alabama",
                    "Arkansas",
                    "Arizona",
                    "California",
                    "Colorado",
                    "Connecticut",
                    "District of Columbia",
                    "Delaware",
                    "Florida",
                    "Georgia",
                    "Guam",
                    "Hawaii",
                    "Iowa",
                    "Idaho",
                    "Illinois",
                    "Indiana",
                    "Kansas",
                    "Kentucky",
                    "Louisiana",
                    "Massachusetts",
                    "Maryland",
                    "Maine",
                    "Michigan",
                    "Minnesota",
                    "Missouri",
                    "Mississippi",
                    "Montana",
                    "North Carolina",
                    "North Dakota",
                    "Nebraska",
                    "New Hampshire",
                    "New Jersey",
                    "New Mexico",
                    "Nevada",
                    "New York",
                    "Ohio",
                    "Oklahoma",
                    "Oregon",
                    "Pennsylvania",
                    "Puerto Rico",
                    "Rhode Island",
                    "South Carolina",
                    "South Dakota",
                    "Tennessee",
                    "Texas",
                    "Utah",
                    "Virginia",
                    "Virgin Islands",
                    "Vermont",
                    "Washington",
                    "Wisconsin",
                    "West Virginia",
                    "Wyoming"
                  ],
                  "zmin": 0,
                  "locations": [
                    "AK",
                    "AL",
                    "AR",
                    "AZ",
                    "CA",
                    "CO",
                    "CT",
                    "DC",
                    "DE",
                    "FL",
                    "GA",
                    "GU",
                    "HI",
                    "IA",
                    "ID",
                    "IL",
                    "IN",
                    "KS",
                    "KY",
                    "LA",
                    "MA",
                    "MD",
                    "ME",
                    "MI",
                    "MN",
                    "MO",
                    "MS",
                    "MT",
                    "NC",
                    "ND",
                    "NE",
                    "NH",
                    "NJ",
                    "NM",
                    "NV",
                    "NY",
                    "OH",
                    "OK",
                    "OR",
                    "PA",
                    "PR",
                    "RI",
                    "SC",
                    "SD",
                    "TN",
                    "TX",
                    "UT",
                    "VA",
                    "VI",
                    "VT",
                    "WA",
                    "WI",
                    "WV",
                    "WY"
                  ],
                  "colorbar": {
                    "title": {
                      "text": "Number of Homeless"
                    }
                  },
                  "visible": false,
                  "type": "choropleth",
                  "marker": {
                    "line": {
                      "color": "rgb(220,220,220)",
                      "width": 1
                    }
                  },
                  "z": [
                    1267,
                    2273,
                    1425,
                    7889,
                    33243,
                    8752,
                    3780,
                    6228,
                    1130,
                    7473,
                    9941,
                    1088,
                    3638,
                    1962,
                    1153,
                    6240,
                    4287,
                    859,
                    3174,
                    8725,
                    5101,
                    3419,
                    1775,
                    3694,
                    3281,
                    1809,
                    1242,
                    1196,
                    2821,
                    773,
                    1483,
                    769,
                    1779,
                    2002,
                    9949,
                    49343,
                    4770,
                    1475,
                    6777,
                    6304,
                    2295,
                    1607,
                    1525,
                    731,
                    2236,
                    15327,
                    1811,
                    1730,
                    471,
                    649,
                    8952,
                    3992,
                    1003,
                    515
                  ],
                  "locationmode": "USA-states"
                },
                {
                  "autocolorscale": false,
                  "zmax": 60000,
                  "uid": "a919cf65-19f0-4d8b-922b-6b9172ecd325",
                  "colorscale": [
                    [
                      0,
                      "rgb(255, 230, 230)"
                    ],
                    [
                      0.2,
                      "rgb(255, 153, 153)"
                    ],
                    [
                      0.4,
                      "rgb(255, 77, 77)"
                    ],
                    [
                      0.6,
                      "rgb(255, 0, 0)"
                    ],
                    [
                      0.8,
                      "rgb(179, 0, 0)"
                    ],
                    [
                      1,
                      "rgb(128, 0, 0)"
                    ]
                  ],
                  "text": [
                    "Alaska",
                    "Alabama",
                    "Arkansas",
                    "Arizona",
                    "California",
                    "Colorado",
                    "Connecticut",
                    "District of Columbia",
                    "Delaware",
                    "Florida",
                    "Georgia",
                    "Guam",
                    "Hawaii",
                    "Iowa",
                    "Idaho",
                    "Illinois",
                    "Indiana",
                    "Kansas",
                    "Kentucky",
                    "Louisiana",
                    "Massachusetts",
                    "Maryland",
                    "Maine",
                    "Michigan",
                    "Minnesota",
                    "Missouri",
                    "Mississippi",
                    "Montana",
                    "North Carolina",
                    "North Dakota",
                    "Nebraska",
                    "New Hampshire",
                    "New Jersey",
                    "New Mexico",
                    "Nevada",
                    "New York",
                    "Ohio",
                    "Oklahoma",
                    "Oregon",
                    "Pennsylvania",
                    "Puerto Rico",
                    "Rhode Island",
                    "South Carolina",
                    "South Dakota",
                    "Tennessee",
                    "Texas",
                    "Utah",
                    "Virginia",
                    "Virgin Islands",
                    "Vermont",
                    "Washington",
                    "Wisconsin",
                    "West Virginia",
                    "Wyoming"
                  ],
                  "zmin": 0,
                  "locations": [
                    "AK",
                    "AL",
                    "AR",
                    "AZ",
                    "CA",
                    "CO",
                    "CT",
                    "DC",
                    "DE",
                    "FL",
                    "GA",
                    "GU",
                    "HI",
                    "IA",
                    "ID",
                    "IL",
                    "IN",
                    "KS",
                    "KY",
                    "LA",
                    "MA",
                    "MD",
                    "ME",
                    "MI",
                    "MN",
                    "MO",
                    "MS",
                    "MT",
                    "NC",
                    "ND",
                    "NE",
                    "NH",
                    "NJ",
                    "NM",
                    "NV",
                    "NY",
                    "OH",
                    "OK",
                    "OR",
                    "PA",
                    "PR",
                    "RI",
                    "SC",
                    "SD",
                    "TN",
                    "TX",
                    "UT",
                    "VA",
                    "VI",
                    "VT",
                    "WA",
                    "WI",
                    "WV",
                    "WY"
                  ],
                  "colorbar": {
                    "title": {
                      "text": "Number of Homeless"
                    }
                  },
                  "visible": false,
                  "type": "choropleth",
                  "marker": {
                    "line": {
                      "color": "rgb(220,220,220)",
                      "width": 1
                    }
                  },
                  "z": [
                    1231,
                    2273,
                    1425,
                    6999,
                    33243,
                    8752,
                    3372,
                    6539,
                    982,
                    7473,
                    9750,
                    1635,
                    4171,
                    1686,
                    1474,
                    6240,
                    4317,
                    859,
                    3446,
                    8725,
                    5139,
                    3419,
                    1743,
                    2953,
                    3056,
                    2153,
                    1242,
                    1615,
                    2851,
                    799,
                    1540,
                    813,
                    1779,
                    2002,
                    9949,
                    53187,
                    4555,
                    1145,
                    8814,
                    6084,
                    2374,
                    1282,
                    1525,
                    731,
                    2324,
                    14827,
                    1968,
                    1552,
                    487,
                    613,
                    9022,
                    3992,
                    1375,
                    579
                  ],
                  "locationmode": "USA-states"
                },
                {
                  "autocolorscale": false,
                  "zmax": 60000,
                  "uid": "63d63821-5ec8-4972-acf0-052eaba3856a",
                  "colorscale": [
                    [
                      0,
                      "rgb(255, 230, 230)"
                    ],
                    [
                      0.2,
                      "rgb(255, 153, 153)"
                    ],
                    [
                      0.4,
                      "rgb(255, 77, 77)"
                    ],
                    [
                      0.6,
                      "rgb(255, 0, 0)"
                    ],
                    [
                      0.8,
                      "rgb(179, 0, 0)"
                    ],
                    [
                      1,
                      "rgb(128, 0, 0)"
                    ]
                  ],
                  "text": [
                    "Alaska",
                    "Alabama",
                    "Arkansas",
                    "Arizona",
                    "California",
                    "Colorado",
                    "Connecticut",
                    "District of Columbia",
                    "Delaware",
                    "Florida",
                    "Georgia",
                    "Guam",
                    "Hawaii",
                    "Iowa",
                    "Idaho",
                    "Illinois",
                    "Indiana",
                    "Kansas",
                    "Kentucky",
                    "Louisiana",
                    "Massachusetts",
                    "Maryland",
                    "Maine",
                    "Michigan",
                    "Minnesota",
                    "Missouri",
                    "Mississippi",
                    "Montana",
                    "North Carolina",
                    "North Dakota",
                    "Nebraska",
                    "New Hampshire",
                    "New Jersey",
                    "New Mexico",
                    "Nevada",
                    "New York",
                    "Ohio",
                    "Oklahoma",
                    "Oregon",
                    "Pennsylvania",
                    "Puerto Rico",
                    "Rhode Island",
                    "South Carolina",
                    "South Dakota",
                    "Tennessee",
                    "Texas",
                    "Utah",
                    "Virginia",
                    "Virgin Islands",
                    "Vermont",
                    "Washington",
                    "Wisconsin",
                    "West Virginia",
                    "Wyoming"
                  ],
                  "zmin": 0,
                  "locations": [
                    "AK",
                    "AL",
                    "AR",
                    "AZ",
                    "CA",
                    "CO",
                    "CT",
                    "DC",
                    "DE",
                    "FL",
                    "GA",
                    "GU",
                    "HI",
                    "IA",
                    "ID",
                    "IL",
                    "IN",
                    "KS",
                    "KY",
                    "LA",
                    "MA",
                    "MD",
                    "ME",
                    "MI",
                    "MN",
                    "MO",
                    "MS",
                    "MT",
                    "NC",
                    "ND",
                    "NE",
                    "NH",
                    "NJ",
                    "NM",
                    "NV",
                    "NY",
                    "OH",
                    "OK",
                    "OR",
                    "PA",
                    "PR",
                    "RI",
                    "SC",
                    "SD",
                    "TN",
                    "TX",
                    "UT",
                    "VA",
                    "VI",
                    "VT",
                    "WA",
                    "WI",
                    "WV",
                    "WY"
                  ],
                  "colorbar": {
                    "title": {
                      "text": "Number of Homeless"
                    }
                  },
                  "visible": false,
                  "type": "choropleth",
                  "marker": {
                    "line": {
                      "color": "rgb(220,220,220)",
                      "width": 1
                    }
                  },
                  "z": [
                    1223,
                    1950,
                    1276,
                    5831,
                    34622,
                    9283,
                    3451,
                    6546,
                    1035,
                    7336,
                    11168,
                    1745,
                    4234,
                    1782,
                    1361,
                    6635,
                    3996,
                    1023,
                    2834,
                    6687,
                    5476,
                    4094,
                    1832,
                    3138,
                    3100,
                    2992,
                    951,
                    1768,
                    2987,
                    603,
                    1580,
                    808,
                    1536,
                    1962,
                    8003,
                    51123,
                    4431,
                    1348,
                    7006,
                    6180,
                    1847,
                    1070,
                    1621,
                    826,
                    1942,
                    14643,
                    2033,
                    1549,
                    532,
                    655,
                    8972,
                    3400,
                    1455,
                    1038
                  ],
                  "locationmode": "USA-states"
                },
                {
                  "autocolorscale": false,
                  "zmax": 60000,
                  "uid": "2d5dd99c-0778-4f98-9a51-a10c7c82a303",
                  "colorscale": [
                    [
                      0,
                      "rgb(255, 230, 230)"
                    ],
                    [
                      0.2,
                      "rgb(255, 153, 153)"
                    ],
                    [
                      0.4,
                      "rgb(255, 77, 77)"
                    ],
                    [
                      0.6,
                      "rgb(255, 0, 0)"
                    ],
                    [
                      0.8,
                      "rgb(179, 0, 0)"
                    ],
                    [
                      1,
                      "rgb(128, 0, 0)"
                    ]
                  ],
                  "text": [
                    "Alaska",
                    "Alabama",
                    "Arkansas",
                    "Arizona",
                    "California",
                    "Colorado",
                    "Connecticut",
                    "District of Columbia",
                    "Delaware",
                    "Florida",
                    "Georgia",
                    "Guam",
                    "Hawaii",
                    "Iowa",
                    "Idaho",
                    "Illinois",
                    "Indiana",
                    "Kansas",
                    "Kentucky",
                    "Louisiana",
                    "Massachusetts",
                    "Maryland",
                    "Maine",
                    "Michigan",
                    "Minnesota",
                    "Missouri",
                    "Mississippi",
                    "Montana",
                    "North Carolina",
                    "North Dakota",
                    "Nebraska",
                    "New Hampshire",
                    "New Jersey",
                    "New Mexico",
                    "Nevada",
                    "New York",
                    "Ohio",
                    "Oklahoma",
                    "Oregon",
                    "Pennsylvania",
                    "Puerto Rico",
                    "Rhode Island",
                    "South Carolina",
                    "South Dakota",
                    "Tennessee",
                    "Texas",
                    "Utah",
                    "Virginia",
                    "Virgin Islands",
                    "Vermont",
                    "Washington",
                    "Wisconsin",
                    "West Virginia",
                    "Wyoming"
                  ],
                  "zmin": 0,
                  "locations": [
                    "AK",
                    "AL",
                    "AR",
                    "AZ",
                    "CA",
                    "CO",
                    "CT",
                    "DC",
                    "DE",
                    "FL",
                    "GA",
                    "GU",
                    "HI",
                    "IA",
                    "ID",
                    "IL",
                    "IN",
                    "KS",
                    "KY",
                    "LA",
                    "MA",
                    "MD",
                    "ME",
                    "MI",
                    "MN",
                    "MO",
                    "MS",
                    "MT",
                    "NC",
                    "ND",
                    "NE",
                    "NH",
                    "NJ",
                    "NM",
                    "NV",
                    "NY",
                    "OH",
                    "OK",
                    "OR",
                    "PA",
                    "PR",
                    "RI",
                    "SC",
                    "SD",
                    "TN",
                    "TX",
                    "UT",
                    "VA",
                    "VI",
                    "VT",
                    "WA",
                    "WI",
                    "WV",
                    "WY"
                  ],
                  "colorbar": {
                    "title": {
                      "text": "Number of Homeless"
                    }
                  },
                  "visible": false,
                  "type": "choropleth",
                  "marker": {
                    "line": {
                      "color": "rgb(220,220,220)",
                      "width": 1
                    }
                  },
                  "z": [
                    1147,
                    1707,
                    1873,
                    6485,
                    31553,
                    9283,
                    3307,
                    6954,
                    1008,
                    7419,
                    11105,
                    1301,
                    4353,
                    1860,
                    1214,
                    6710,
                    3959,
                    1043,
                    2328,
                    4903,
                    5607,
                    3854,
                    1762,
                    3115,
                    3285,
                    2705,
                    1037,
                    1833,
                    2922,
                    688,
                    1530,
                    761,
                    2087,
                    1814,
                    7323,
                    56672,
                    5121,
                    1303,
                    6105,
                    5780,
                    1685,
                    1277,
                    1648,
                    859,
                    2076,
                    12764,
                    2463,
                    1534,
                    484,
                    776,
                    8899,
                    3618,
                    1604,
                    1813
                  ],
                  "locationmode": "USA-states"
                },
                {
                  "autocolorscale": false,
                  "zmax": 60000,
                  "uid": "be693231-6eed-403e-a1b4-23a9727bb28c",
                  "colorscale": [
                    [
                      0,
                      "rgb(255, 230, 230)"
                    ],
                    [
                      0.2,
                      "rgb(255, 153, 153)"
                    ],
                    [
                      0.4,
                      "rgb(255, 77, 77)"
                    ],
                    [
                      0.6,
                      "rgb(255, 0, 0)"
                    ],
                    [
                      0.8,
                      "rgb(179, 0, 0)"
                    ],
                    [
                      1,
                      "rgb(128, 0, 0)"
                    ]
                  ],
                  "text": [
                    "Alaska",
                    "Alabama",
                    "Arkansas",
                    "Arizona",
                    "California",
                    "Colorado",
                    "Connecticut",
                    "District of Columbia",
                    "Delaware",
                    "Florida",
                    "Georgia",
                    "Guam",
                    "Hawaii",
                    "Iowa",
                    "Idaho",
                    "Illinois",
                    "Indiana",
                    "Kansas",
                    "Kentucky",
                    "Louisiana",
                    "Massachusetts",
                    "Maryland",
                    "Maine",
                    "Michigan",
                    "Minnesota",
                    "Missouri",
                    "Mississippi",
                    "Montana",
                    "North Carolina",
                    "North Dakota",
                    "Nebraska",
                    "New Hampshire",
                    "New Jersey",
                    "New Mexico",
                    "Nevada",
                    "New York",
                    "Ohio",
                    "Oklahoma",
                    "Oregon",
                    "Pennsylvania",
                    "Puerto Rico",
                    "Rhode Island",
                    "South Carolina",
                    "South Dakota",
                    "Tennessee",
                    "Texas",
                    "Utah",
                    "Virginia",
                    "Virgin Islands",
                    "Vermont",
                    "Washington",
                    "Wisconsin",
                    "West Virginia",
                    "Wyoming"
                  ],
                  "zmin": 0,
                  "locations": [
                    "AK",
                    "AL",
                    "AR",
                    "AZ",
                    "CA",
                    "CO",
                    "CT",
                    "DC",
                    "DE",
                    "FL",
                    "GA",
                    "GU",
                    "HI",
                    "IA",
                    "ID",
                    "IL",
                    "IN",
                    "KS",
                    "KY",
                    "LA",
                    "MA",
                    "MD",
                    "ME",
                    "MI",
                    "MN",
                    "MO",
                    "MS",
                    "MT",
                    "NC",
                    "ND",
                    "NE",
                    "NH",
                    "NJ",
                    "NM",
                    "NV",
                    "NY",
                    "OH",
                    "OK",
                    "OR",
                    "PA",
                    "PR",
                    "RI",
                    "SC",
                    "SD",
                    "TN",
                    "TX",
                    "UT",
                    "VA",
                    "VI",
                    "VT",
                    "WA",
                    "WI",
                    "WV",
                    "WY"
                  ],
                  "colorbar": {
                    "title": {
                      "text": "Number of Homeless"
                    }
                  },
                  "visible": false,
                  "type": "choropleth",
                  "marker": {
                    "line": {
                      "color": "rgb(220,220,220)",
                      "width": 1
                    }
                  },
                  "z": [
                    1122,
                    1469,
                    1678,
                    5889,
                    35524,
                    6316,
                    3389,
                    6865,
                    946,
                    4378,
                    7651,
                    1271,
                    4556,
                    1920,
                    1087,
                    6276,
                    3910,
                    1141,
                    2392,
                    2337,
                    5881,
                    2638,
                    2191,
                    2789,
                    3591,
                    2691,
                    1052,
                    1878,
                    3625,
                    2069,
                    1476,
                    759,
                    1648,
                    1648,
                    5952,
                    64060,
                    3830,
                    1362,
                    5525,
                    5645,
                    2094,
                    1384,
                    2308,
                    1094,
                    2069,
                    10128,
                    2133,
                    1350,
                    482,
                    971,
                    9106,
                    3610,
                    1513,
                    953
                  ],
                  "locationmode": "USA-states"
                },
                {
                  "autocolorscale": false,
                  "zmax": 60000,
                  "uid": "3996de5f-42ec-4fff-8707-6e56763227f7",
                  "colorscale": [
                    [
                      0,
                      "rgb(255, 230, 230)"
                    ],
                    [
                      0.2,
                      "rgb(255, 153, 153)"
                    ],
                    [
                      0.4,
                      "rgb(255, 77, 77)"
                    ],
                    [
                      0.6,
                      "rgb(255, 0, 0)"
                    ],
                    [
                      0.8,
                      "rgb(179, 0, 0)"
                    ],
                    [
                      1,
                      "rgb(128, 0, 0)"
                    ]
                  ],
                  "text": [
                    "Alaska",
                    "Alabama",
                    "Arkansas",
                    "Arizona",
                    "California",
                    "Colorado",
                    "Connecticut",
                    "District of Columbia",
                    "Delaware",
                    "Florida",
                    "Georgia",
                    "Guam",
                    "Hawaii",
                    "Iowa",
                    "Idaho",
                    "Illinois",
                    "Indiana",
                    "Kansas",
                    "Kentucky",
                    "Louisiana",
                    "Massachusetts",
                    "Maryland",
                    "Maine",
                    "Michigan",
                    "Minnesota",
                    "Missouri",
                    "Mississippi",
                    "Montana",
                    "North Carolina",
                    "North Dakota",
                    "Nebraska",
                    "New Hampshire",
                    "New Jersey",
                    "New Mexico",
                    "Nevada",
                    "New York",
                    "Ohio",
                    "Oklahoma",
                    "Oregon",
                    "Pennsylvania",
                    "Puerto Rico",
                    "Rhode Island",
                    "South Carolina",
                    "South Dakota",
                    "Tennessee",
                    "Texas",
                    "Utah",
                    "Virginia",
                    "Virgin Islands",
                    "Vermont",
                    "Washington",
                    "Wisconsin",
                    "West Virginia",
                    "Wyoming"
                  ],
                  "zmin": 0,
                  "locations": [
                    "AK",
                    "AL",
                    "AR",
                    "AZ",
                    "CA",
                    "CO",
                    "CT",
                    "DC",
                    "DE",
                    "FL",
                    "GA",
                    "GU",
                    "HI",
                    "IA",
                    "ID",
                    "IL",
                    "IN",
                    "KS",
                    "KY",
                    "LA",
                    "MA",
                    "MD",
                    "ME",
                    "MI",
                    "MN",
                    "MO",
                    "MS",
                    "MT",
                    "NC",
                    "ND",
                    "NE",
                    "NH",
                    "NJ",
                    "NM",
                    "NV",
                    "NY",
                    "OH",
                    "OK",
                    "OR",
                    "PA",
                    "PR",
                    "RI",
                    "SC",
                    "SD",
                    "TN",
                    "TX",
                    "UT",
                    "VA",
                    "VI",
                    "VT",
                    "WA",
                    "WI",
                    "WV",
                    "WY"
                  ],
                  "colorbar": {
                    "title": {
                      "text": "Number of Homeless"
                    }
                  },
                  "visible": false,
                  "type": "choropleth",
                  "marker": {
                    "line": {
                      "color": "rgb(220,220,220)",
                      "width": 1
                    }
                  },
                  "z": [
                    1023,
                    1329,
                    1074,
                    5918,
                    34393,
                    6621,
                    3367,
                    7748,
                    901,
                    4156,
                    7577,
                    1356,
                    4712,
                    1939,
                    1351,
                    6287,
                    3589,
                    1307,
                    2229,
                    1981,
                    5987,
                    2567,
                    1940,
                    2755,
                    3731,
                    2193,
                    954,
                    1745,
                    3195,
                    1258,
                    1630,
                    689,
                    1695,
                    1492,
                    7443,
                    67810,
                    3806,
                    1481,
                    4122,
                    5738,
                    2085,
                    1190,
                    1636,
                    885,
                    2234,
                    9943,
                    2150,
                    1225,
                    448,
                    1027,
                    8949,
                    3569,
                    1338,
                    757
                  ],
                  "locationmode": "USA-states"
                },
                {
                  "autocolorscale": false,
                  "zmax": 60000,
                  "uid": "bf6cff69-2548-4e67-ab82-902e6bde6867",
                  "colorscale": [
                    [
                      0,
                      "rgb(255, 230, 230)"
                    ],
                    [
                      0.2,
                      "rgb(255, 153, 153)"
                    ],
                    [
                      0.4,
                      "rgb(255, 77, 77)"
                    ],
                    [
                      0.6,
                      "rgb(255, 0, 0)"
                    ],
                    [
                      0.8,
                      "rgb(179, 0, 0)"
                    ],
                    [
                      1,
                      "rgb(128, 0, 0)"
                    ]
                  ],
                  "text": [
                    "Alaska",
                    "Alabama",
                    "Arkansas",
                    "Arizona",
                    "California",
                    "Colorado",
                    "Connecticut",
                    "District of Columbia",
                    "Delaware",
                    "Florida",
                    "Georgia",
                    "Guam",
                    "Hawaii",
                    "Iowa",
                    "Idaho",
                    "Illinois",
                    "Indiana",
                    "Kansas",
                    "Kentucky",
                    "Louisiana",
                    "Massachusetts",
                    "Maryland",
                    "Maine",
                    "Michigan",
                    "Minnesota",
                    "Missouri",
                    "Mississippi",
                    "Montana",
                    "North Carolina",
                    "North Dakota",
                    "Nebraska",
                    "New Hampshire",
                    "New Jersey",
                    "New Mexico",
                    "Nevada",
                    "New York",
                    "Ohio",
                    "Oklahoma",
                    "Oregon",
                    "Pennsylvania",
                    "Puerto Rico",
                    "Rhode Island",
                    "South Carolina",
                    "South Dakota",
                    "Tennessee",
                    "Texas",
                    "Utah",
                    "Virginia",
                    "Virgin Islands",
                    "Vermont",
                    "Washington",
                    "Wisconsin",
                    "West Virginia",
                    "Wyoming"
                  ],
                  "zmin": 0,
                  "locations": [
                    "AK",
                    "AL",
                    "AR",
                    "AZ",
                    "CA",
                    "CO",
                    "CT",
                    "DC",
                    "DE",
                    "FL",
                    "GA",
                    "GU",
                    "HI",
                    "IA",
                    "ID",
                    "IL",
                    "IN",
                    "KS",
                    "KY",
                    "LA",
                    "MA",
                    "MD",
                    "ME",
                    "MI",
                    "MN",
                    "MO",
                    "MS",
                    "MT",
                    "NC",
                    "ND",
                    "NE",
                    "NH",
                    "NJ",
                    "NM",
                    "NV",
                    "NY",
                    "OH",
                    "OK",
                    "OR",
                    "PA",
                    "PR",
                    "RI",
                    "SC",
                    "SD",
                    "TN",
                    "TX",
                    "UT",
                    "VA",
                    "VI",
                    "VT",
                    "WA",
                    "WI",
                    "WV",
                    "WY"
                  ],
                  "colorbar": {
                    "title": {
                      "text": "Number of Homeless"
                    }
                  },
                  "visible": false,
                  "type": "choropleth",
                  "marker": {
                    "line": {
                      "color": "rgb(220,220,220)",
                      "width": 1
                    }
                  },
                  "z": [
                    1208,
                    1153,
                    830,
                    5631,
                    41174,
                    5335,
                    3134,
                    7298,
                    953,
                    4152,
                    5797,
                    1280,
                    4903,
                    1975,
                    1211,
                    6786,
                    3664,
                    1208,
                    2119,
                    1703,
                    6492,
                    2796,
                    1632,
                    2597,
                    3215,
                    1686,
                    809,
                    1709,
                    3021,
                    1305,
                    1481,
                    718,
                    1610,
                    1342,
                    7509,
                    75323,
                    3320,
                    1300,
                    5544,
                    5998,
                    2422,
                    1111,
                    1961,
                    1036,
                    2154,
                    7016,
                    2176,
                    1204,
                    337,
                    1052,
                    10122,
                    3597,
                    1109,
                    798
                  ],
                  "locationmode": "USA-states"
                }
              ]
            }
          },
          "metadata": {}
        }
      ]
    },
    {
      "metadata": {
        "trusted": true,
        "scrolled": false
      },
      "cell_type": "code",
      "source": "## Now, we will see the percentage of homeless to the population of each state\n\nimport plotly.graph_objs as go\n\n\nx = homelessnessCopy1['StateAbbrev']\ny = homelessnessCopy1['perc2015']\n\n\ndata = [go.Bar(\n            x=x,\n            y=y,\n            text = homelessnessCopy1['State'],\n             marker={'color': y,'colorscale': Colorscl,  'showscale':True}\n)]\n\nlayout=go.Layout(\n    title=\"Percentages of Homeless for Each State, 2015\",\n    xaxis=dict(\n         title='States Abbrevation',\n        titlefont=dict(\n            size=16,\n            color='rgb(107, 107, 107)'\n        ),\n          tickangle=-45,\n        tickfont=dict(\n            size=12,\n            color='rgb(107, 107, 107)'\n        )\n    ),\n    yaxis=dict(\n         title='Percentage of Homeless',\n         titlefont=dict(\n            size=16,\n            color='rgb(107, 107, 107)'\n        ),\n         tickfont=dict(\n            size=12,\n            color='rgb(107, 107, 107)'\n        )\n    )\n)\n\n\nfig2 = go.Figure(data=data, layout=layout)\n\niplot(fig2)\n",
      "execution_count": 80,
      "outputs": [
        {
          "output_type": "display_data",
          "data": {
            "text/vnd.plotly.v1+html": "<div id=\"abe4bbb8-f730-48c5-939c-51b8a2fe6024\" style=\"height: 525px; width: 100%;\" class=\"plotly-graph-div\"></div><script type=\"text/javascript\">require([\"plotly\"], function(Plotly) { window.PLOTLYENV=window.PLOTLYENV || {};window.PLOTLYENV.BASE_URL=\"https://plot.ly\";Plotly.newPlot(\"abe4bbb8-f730-48c5-939c-51b8a2fe6024\", [{\"marker\": {\"color\": [0.1637502050266433, 0.023754216991578894, 0.0278724302374899, 0.08259547213704599, 0.10559076615494613, 0.09791112532825921, 0.08742638915622655, 1.0886411675818233, 0.1009452628813782, 0.02050885471778245, 0.05683668781235913, 0.34403227153218907, 0.06326079108980566, 0.07326836186221433, 0.052854390205129706, 0.055407962293550904, 0.04155885618193146, 0.04789121574755385, 0.036474932318974675, 0.09569236937372498, 0.04663899797547383, 0.12275725429932462, 0.026185467116165366, 0.058641826122881525, 0.027747587144868736, 0.02706237727429342, 0.1655890620140242, 0.030104075798894007, 0.17242860068575053, 0.07820400102441433, 0.05398045727010753, 0.018018177319233195, 0.0645090581869782, 0.26038939467181366, 0.38143668390575003, 0.028608136602128895, 0.03327008604667947, 0.13775165642391335, 0.04688903231293794, 0.06973434439495091, 0.1052475021480532, 0.04006264563823819, 0.12075732091258032, 0.032660829566875556, 0.02557817111628775, 0.07276054024701133, 0.014388855472909932, 0.16802749773194822, 0.14136298948785592, 0.06236248223137365, 0.060237266390484136, 0.13604862289128897], \"colorscale\": [[0.0, \"rgb(255, 230, 230)\"], [0.2, \"rgb(255, 153, 153)\"], [0.4, \"rgb(255, 77, 77)\"], [0.6, \"rgb(255, 0, 0)\"], [0.8, \"rgb(179, 0, 0)\"], [1.0, \"rgb(128, 0, 0)\"]], \"showscale\": true}, \"text\": [\"Alaska\", \"Alabama\", \"Arkansas\", \"Arizona\", \"California\", \"Colorado\", \"Connecticut\", \"District of Columbia\", \"Delaware\", \"Florida\", \"Georgia\", \"Hawaii\", \"Iowa\", \"Idaho\", \"Illinois\", \"Indiana\", \"Kansas\", \"Kentucky\", \"Louisiana\", \"Massachusetts\", \"Maryland\", \"Maine\", \"Michigan\", \"Minnesota\", \"Missouri\", \"Mississippi\", \"Montana\", \"North Carolina\", \"North Dakota\", \"Nebraska\", \"New Hampshire\", \"New Jersey\", \"New Mexico\", \"Nevada\", \"New York\", \"Ohio\", \"Oklahoma\", \"Oregon\", \"Pennsylvania\", \"Puerto Rico\", \"Rhode Island\", \"South Carolina\", \"South Dakota\", \"Tennessee\", \"Texas\", \"Utah\", \"Virginia\", \"Vermont\", \"Washington\", \"Wisconsin\", \"West Virginia\", \"Wyoming\"], \"x\": [\"AK\", \"AL\", \"AR\", \"AZ\", \"CA\", \"CO\", \"CT\", \"DC\", \"DE\", \"FL\", \"GA\", \"HI\", \"IA\", \"ID\", \"IL\", \"IN\", \"KS\", \"KY\", \"LA\", \"MA\", \"MD\", \"ME\", \"MI\", \"MN\", \"MO\", \"MS\", \"MT\", \"NC\", \"ND\", \"NE\", \"NH\", \"NJ\", \"NM\", \"NV\", \"NY\", \"OH\", \"OK\", \"OR\", \"PA\", \"PR\", \"RI\", \"SC\", \"SD\", \"TN\", \"TX\", \"UT\", \"VA\", \"VT\", \"WA\", \"WI\", \"WV\", \"WY\"], \"y\": [0.1637502050266433, 0.023754216991578894, 0.0278724302374899, 0.08259547213704599, 0.10559076615494613, 0.09791112532825921, 0.08742638915622655, 1.0886411675818233, 0.1009452628813782, 0.02050885471778245, 0.05683668781235913, 0.34403227153218907, 0.06326079108980566, 0.07326836186221433, 0.052854390205129706, 0.055407962293550904, 0.04155885618193146, 0.04789121574755385, 0.036474932318974675, 0.09569236937372498, 0.04663899797547383, 0.12275725429932462, 0.026185467116165366, 0.058641826122881525, 0.027747587144868736, 0.02706237727429342, 0.1655890620140242, 0.030104075798894007, 0.17242860068575053, 0.07820400102441433, 0.05398045727010753, 0.018018177319233195, 0.0645090581869782, 0.26038939467181366, 0.38143668390575003, 0.028608136602128895, 0.03327008604667947, 0.13775165642391335, 0.04688903231293794, 0.06973434439495091, 0.1052475021480532, 0.04006264563823819, 0.12075732091258032, 0.032660829566875556, 0.02557817111628775, 0.07276054024701133, 0.014388855472909932, 0.16802749773194822, 0.14136298948785592, 0.06236248223137365, 0.060237266390484136, 0.13604862289128897], \"type\": \"bar\", \"uid\": \"35cbe71f-133e-49cd-8b9c-7c55c38ce6df\"}], {\"title\": {\"text\": \"Percentages of Homeless for Each State, 2015\"}, \"xaxis\": {\"tickangle\": -45, \"tickfont\": {\"color\": \"rgb(107, 107, 107)\", \"size\": 12}, \"title\": {\"font\": {\"color\": \"rgb(107, 107, 107)\", \"size\": 16}, \"text\": \"States Abbrevation\"}}, \"yaxis\": {\"tickfont\": {\"color\": \"rgb(107, 107, 107)\", \"size\": 12}, \"title\": {\"font\": {\"color\": \"rgb(107, 107, 107)\", \"size\": 16}, \"text\": \"Percentage of Homeless\"}}}, {\"showLink\": false, \"linkText\": \"Export to plot.ly\", \"plotlyServerURL\": \"https://plot.ly\"})});</script><script type=\"text/javascript\">window.addEventListener(\"resize\", function(){window._Plotly.Plots.resize(document.getElementById(\"abe4bbb8-f730-48c5-939c-51b8a2fe6024\"));});</script>",
            "text/html": "<div id=\"abe4bbb8-f730-48c5-939c-51b8a2fe6024\" style=\"height: 525px; width: 100%;\" class=\"plotly-graph-div\"></div><script type=\"text/javascript\">require([\"plotly\"], function(Plotly) { window.PLOTLYENV=window.PLOTLYENV || {};window.PLOTLYENV.BASE_URL=\"https://plot.ly\";Plotly.newPlot(\"abe4bbb8-f730-48c5-939c-51b8a2fe6024\", [{\"marker\": {\"color\": [0.1637502050266433, 0.023754216991578894, 0.0278724302374899, 0.08259547213704599, 0.10559076615494613, 0.09791112532825921, 0.08742638915622655, 1.0886411675818233, 0.1009452628813782, 0.02050885471778245, 0.05683668781235913, 0.34403227153218907, 0.06326079108980566, 0.07326836186221433, 0.052854390205129706, 0.055407962293550904, 0.04155885618193146, 0.04789121574755385, 0.036474932318974675, 0.09569236937372498, 0.04663899797547383, 0.12275725429932462, 0.026185467116165366, 0.058641826122881525, 0.027747587144868736, 0.02706237727429342, 0.1655890620140242, 0.030104075798894007, 0.17242860068575053, 0.07820400102441433, 0.05398045727010753, 0.018018177319233195, 0.0645090581869782, 0.26038939467181366, 0.38143668390575003, 0.028608136602128895, 0.03327008604667947, 0.13775165642391335, 0.04688903231293794, 0.06973434439495091, 0.1052475021480532, 0.04006264563823819, 0.12075732091258032, 0.032660829566875556, 0.02557817111628775, 0.07276054024701133, 0.014388855472909932, 0.16802749773194822, 0.14136298948785592, 0.06236248223137365, 0.060237266390484136, 0.13604862289128897], \"colorscale\": [[0.0, \"rgb(255, 230, 230)\"], [0.2, \"rgb(255, 153, 153)\"], [0.4, \"rgb(255, 77, 77)\"], [0.6, \"rgb(255, 0, 0)\"], [0.8, \"rgb(179, 0, 0)\"], [1.0, \"rgb(128, 0, 0)\"]], \"showscale\": true}, \"text\": [\"Alaska\", \"Alabama\", \"Arkansas\", \"Arizona\", \"California\", \"Colorado\", \"Connecticut\", \"District of Columbia\", \"Delaware\", \"Florida\", \"Georgia\", \"Hawaii\", \"Iowa\", \"Idaho\", \"Illinois\", \"Indiana\", \"Kansas\", \"Kentucky\", \"Louisiana\", \"Massachusetts\", \"Maryland\", \"Maine\", \"Michigan\", \"Minnesota\", \"Missouri\", \"Mississippi\", \"Montana\", \"North Carolina\", \"North Dakota\", \"Nebraska\", \"New Hampshire\", \"New Jersey\", \"New Mexico\", \"Nevada\", \"New York\", \"Ohio\", \"Oklahoma\", \"Oregon\", \"Pennsylvania\", \"Puerto Rico\", \"Rhode Island\", \"South Carolina\", \"South Dakota\", \"Tennessee\", \"Texas\", \"Utah\", \"Virginia\", \"Vermont\", \"Washington\", \"Wisconsin\", \"West Virginia\", \"Wyoming\"], \"x\": [\"AK\", \"AL\", \"AR\", \"AZ\", \"CA\", \"CO\", \"CT\", \"DC\", \"DE\", \"FL\", \"GA\", \"HI\", \"IA\", \"ID\", \"IL\", \"IN\", \"KS\", \"KY\", \"LA\", \"MA\", \"MD\", \"ME\", \"MI\", \"MN\", \"MO\", \"MS\", \"MT\", \"NC\", \"ND\", \"NE\", \"NH\", \"NJ\", \"NM\", \"NV\", \"NY\", \"OH\", \"OK\", \"OR\", \"PA\", \"PR\", \"RI\", \"SC\", \"SD\", \"TN\", \"TX\", \"UT\", \"VA\", \"VT\", \"WA\", \"WI\", \"WV\", \"WY\"], \"y\": [0.1637502050266433, 0.023754216991578894, 0.0278724302374899, 0.08259547213704599, 0.10559076615494613, 0.09791112532825921, 0.08742638915622655, 1.0886411675818233, 0.1009452628813782, 0.02050885471778245, 0.05683668781235913, 0.34403227153218907, 0.06326079108980566, 0.07326836186221433, 0.052854390205129706, 0.055407962293550904, 0.04155885618193146, 0.04789121574755385, 0.036474932318974675, 0.09569236937372498, 0.04663899797547383, 0.12275725429932462, 0.026185467116165366, 0.058641826122881525, 0.027747587144868736, 0.02706237727429342, 0.1655890620140242, 0.030104075798894007, 0.17242860068575053, 0.07820400102441433, 0.05398045727010753, 0.018018177319233195, 0.0645090581869782, 0.26038939467181366, 0.38143668390575003, 0.028608136602128895, 0.03327008604667947, 0.13775165642391335, 0.04688903231293794, 0.06973434439495091, 0.1052475021480532, 0.04006264563823819, 0.12075732091258032, 0.032660829566875556, 0.02557817111628775, 0.07276054024701133, 0.014388855472909932, 0.16802749773194822, 0.14136298948785592, 0.06236248223137365, 0.060237266390484136, 0.13604862289128897], \"type\": \"bar\", \"uid\": \"35cbe71f-133e-49cd-8b9c-7c55c38ce6df\"}], {\"title\": {\"text\": \"Percentages of Homeless for Each State, 2015\"}, \"xaxis\": {\"tickangle\": -45, \"tickfont\": {\"color\": \"rgb(107, 107, 107)\", \"size\": 12}, \"title\": {\"font\": {\"color\": \"rgb(107, 107, 107)\", \"size\": 16}, \"text\": \"States Abbrevation\"}}, \"yaxis\": {\"tickfont\": {\"color\": \"rgb(107, 107, 107)\", \"size\": 12}, \"title\": {\"font\": {\"color\": \"rgb(107, 107, 107)\", \"size\": 16}, \"text\": \"Percentage of Homeless\"}}}, {\"showLink\": false, \"linkText\": \"Export to plot.ly\", \"plotlyServerURL\": \"https://plot.ly\"})});</script><script type=\"text/javascript\">window.addEventListener(\"resize\", function(){window._Plotly.Plots.resize(document.getElementById(\"abe4bbb8-f730-48c5-939c-51b8a2fe6024\"));});</script>",
            "application/vnd.plotly.v1+json": {
              "layout": {
                "yaxis": {
                  "tickfont": {
                    "color": "rgb(107, 107, 107)",
                    "size": 12
                  },
                  "title": {
                    "text": "Percentage of Homeless",
                    "font": {
                      "color": "rgb(107, 107, 107)",
                      "size": 16
                    }
                  }
                },
                "xaxis": {
                  "tickfont": {
                    "color": "rgb(107, 107, 107)",
                    "size": 12
                  },
                  "tickangle": -45,
                  "title": {
                    "text": "States Abbrevation",
                    "font": {
                      "color": "rgb(107, 107, 107)",
                      "size": 16
                    }
                  }
                },
                "title": {
                  "text": "Percentages of Homeless for Each State, 2015"
                }
              },
              "config": {
                "plotlyServerURL": "https://plot.ly",
                "linkText": "Export to plot.ly",
                "showLink": false
              },
              "data": [
                {
                  "uid": "35cbe71f-133e-49cd-8b9c-7c55c38ce6df",
                  "text": [
                    "Alaska",
                    "Alabama",
                    "Arkansas",
                    "Arizona",
                    "California",
                    "Colorado",
                    "Connecticut",
                    "District of Columbia",
                    "Delaware",
                    "Florida",
                    "Georgia",
                    "Hawaii",
                    "Iowa",
                    "Idaho",
                    "Illinois",
                    "Indiana",
                    "Kansas",
                    "Kentucky",
                    "Louisiana",
                    "Massachusetts",
                    "Maryland",
                    "Maine",
                    "Michigan",
                    "Minnesota",
                    "Missouri",
                    "Mississippi",
                    "Montana",
                    "North Carolina",
                    "North Dakota",
                    "Nebraska",
                    "New Hampshire",
                    "New Jersey",
                    "New Mexico",
                    "Nevada",
                    "New York",
                    "Ohio",
                    "Oklahoma",
                    "Oregon",
                    "Pennsylvania",
                    "Puerto Rico",
                    "Rhode Island",
                    "South Carolina",
                    "South Dakota",
                    "Tennessee",
                    "Texas",
                    "Utah",
                    "Virginia",
                    "Vermont",
                    "Washington",
                    "Wisconsin",
                    "West Virginia",
                    "Wyoming"
                  ],
                  "y": [
                    0.16375020502664331,
                    0.023754216991578894,
                    0.0278724302374899,
                    0.082595472137045989,
                    0.10559076615494613,
                    0.097911125328259213,
                    0.087426389156226553,
                    1.0886411675818233,
                    0.1009452628813782,
                    0.020508854717782452,
                    0.056836687812359128,
                    0.34403227153218907,
                    0.06326079108980566,
                    0.073268361862214332,
                    0.052854390205129706,
                    0.055407962293550904,
                    0.041558856181931461,
                    0.047891215747553853,
                    0.036474932318974675,
                    0.095692369373724981,
                    0.046638997975473828,
                    0.12275725429932462,
                    0.026185467116165366,
                    0.058641826122881525,
                    0.027747587144868736,
                    0.02706237727429342,
                    0.16558906201402421,
                    0.030104075798894007,
                    0.17242860068575053,
                    0.078204001024414327,
                    0.053980457270107529,
                    0.018018177319233195,
                    0.0645090581869782,
                    0.26038939467181366,
                    0.38143668390575003,
                    0.028608136602128895,
                    0.03327008604667947,
                    0.13775165642391335,
                    0.046889032312937937,
                    0.069734344394950909,
                    0.1052475021480532,
                    0.040062645638238192,
                    0.12075732091258032,
                    0.032660829566875556,
                    0.025578171116287751,
                    0.072760540247011327,
                    0.014388855472909932,
                    0.16802749773194822,
                    0.14136298948785592,
                    0.062362482231373653,
                    0.060237266390484136,
                    0.13604862289128897
                  ],
                  "marker": {
                    "color": [
                      0.16375020502664331,
                      0.023754216991578894,
                      0.0278724302374899,
                      0.082595472137045989,
                      0.10559076615494613,
                      0.097911125328259213,
                      0.087426389156226553,
                      1.0886411675818233,
                      0.1009452628813782,
                      0.020508854717782452,
                      0.056836687812359128,
                      0.34403227153218907,
                      0.06326079108980566,
                      0.073268361862214332,
                      0.052854390205129706,
                      0.055407962293550904,
                      0.041558856181931461,
                      0.047891215747553853,
                      0.036474932318974675,
                      0.095692369373724981,
                      0.046638997975473828,
                      0.12275725429932462,
                      0.026185467116165366,
                      0.058641826122881525,
                      0.027747587144868736,
                      0.02706237727429342,
                      0.16558906201402421,
                      0.030104075798894007,
                      0.17242860068575053,
                      0.078204001024414327,
                      0.053980457270107529,
                      0.018018177319233195,
                      0.0645090581869782,
                      0.26038939467181366,
                      0.38143668390575003,
                      0.028608136602128895,
                      0.03327008604667947,
                      0.13775165642391335,
                      0.046889032312937937,
                      0.069734344394950909,
                      0.1052475021480532,
                      0.040062645638238192,
                      0.12075732091258032,
                      0.032660829566875556,
                      0.025578171116287751,
                      0.072760540247011327,
                      0.014388855472909932,
                      0.16802749773194822,
                      0.14136298948785592,
                      0.062362482231373653,
                      0.060237266390484136,
                      0.13604862289128897
                    ],
                    "showscale": true,
                    "colorscale": [
                      [
                        0,
                        "rgb(255, 230, 230)"
                      ],
                      [
                        0.2,
                        "rgb(255, 153, 153)"
                      ],
                      [
                        0.4,
                        "rgb(255, 77, 77)"
                      ],
                      [
                        0.6,
                        "rgb(255, 0, 0)"
                      ],
                      [
                        0.8,
                        "rgb(179, 0, 0)"
                      ],
                      [
                        1,
                        "rgb(128, 0, 0)"
                      ]
                    ]
                  },
                  "x": [
                    "AK",
                    "AL",
                    "AR",
                    "AZ",
                    "CA",
                    "CO",
                    "CT",
                    "DC",
                    "DE",
                    "FL",
                    "GA",
                    "HI",
                    "IA",
                    "ID",
                    "IL",
                    "IN",
                    "KS",
                    "KY",
                    "LA",
                    "MA",
                    "MD",
                    "ME",
                    "MI",
                    "MN",
                    "MO",
                    "MS",
                    "MT",
                    "NC",
                    "ND",
                    "NE",
                    "NH",
                    "NJ",
                    "NM",
                    "NV",
                    "NY",
                    "OH",
                    "OK",
                    "OR",
                    "PA",
                    "PR",
                    "RI",
                    "SC",
                    "SD",
                    "TN",
                    "TX",
                    "UT",
                    "VA",
                    "VT",
                    "WA",
                    "WI",
                    "WV",
                    "WY"
                  ],
                  "type": "bar"
                }
              ]
            }
          },
          "metadata": {}
        }
      ]
    }
  ],
  "metadata": {
    "kernelspec": {
      "name": "python36",
      "display_name": "Python 3.6",
      "language": "python"
    },
    "language_info": {
      "mimetype": "text/x-python",
      "nbconvert_exporter": "python",
      "name": "python",
      "pygments_lexer": "ipython3",
      "version": "3.6.6",
      "file_extension": ".py",
      "codemirror_mode": {
        "version": 3,
        "name": "ipython"
      }
    }
  },
  "nbformat": 4,
  "nbformat_minor": 2
}