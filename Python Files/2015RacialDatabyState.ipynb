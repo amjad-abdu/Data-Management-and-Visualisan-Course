{
  "cells": [
    {
      "metadata": {},
      "cell_type": "markdown",
      "source": "# Percentages of Different Races in Each USA State in 2015"
    },
    {
      "metadata": {
        "trusted": true
      },
      "cell_type": "code",
      "source": "import plotly.plotly as py\nimport pandas as pd\nimport numpy as np\nimport plotly.graph_objs as go\nimport matplotlib.pyplot as plt\n#Used Offline Libraries Since Azure Notebook won't allow running the graphs online (linling to Plotly API)\n%matplotlib inline\nfrom plotly.offline import *\nfrom plotly.offline import download_plotlyjs, init_notebook_mode, plot, iplot\ninit_notebook_mode( connected = True )",
      "execution_count": 1,
      "outputs": [
        {
          "output_type": "display_data",
          "data": {
            "text/vnd.plotly.v1+html": "<script type=\"text/javascript\">window.PlotlyConfig = {MathJaxConfig: 'local'};</script><script type=\"text/javascript\">if (window.MathJax) {MathJax.Hub.Config({SVG: {font: \"STIX-Web\"}});}</script><script>requirejs.config({paths: { 'plotly': ['https://cdn.plot.ly/plotly-latest.min']},});if(!window._Plotly) {require(['plotly'],function(plotly) {window._Plotly=plotly;});}</script>",
            "text/html": "<script type=\"text/javascript\">window.PlotlyConfig = {MathJaxConfig: 'local'};</script><script type=\"text/javascript\">if (window.MathJax) {MathJax.Hub.Config({SVG: {font: \"STIX-Web\"}});}</script><script>requirejs.config({paths: { 'plotly': ['https://cdn.plot.ly/plotly-latest.min']},});if(!window._Plotly) {require(['plotly'],function(plotly) {window._Plotly=plotly;});}</script>"
          },
          "metadata": {}
        }
      ]
    },
    {
      "metadata": {
        "trusted": true
      },
      "cell_type": "code",
      "source": "race = pd.read_excel('2015 Racial Data _ State.xls','raw_data.csv')\nrace.head()\nrace.info() \n## Max # of values is 52",
      "execution_count": 2,
      "outputs": [
        {
          "output_type": "stream",
          "text": "<class 'pandas.core.frame.DataFrame'>\nRangeIndex: 52 entries, 0 to 51\nData columns (total 9 columns):\nLocation                                  52 non-null object\nWhite                                     52 non-null float64\nBlack                                     51 non-null float64\nHispanic                                  52 non-null float64\nAsian                                     47 non-null float64\nAmerican Indian/Alaska Native             9 non-null float64\nNative Hawaiian/Other Pacific Islander    13 non-null float64\nTwo Or More Races                         45 non-null float64\nTotal                                     52 non-null int64\ndtypes: float64(7), int64(1), object(1)\nmemory usage: 3.7+ KB\n",
          "name": "stdout"
        }
      ]
    },
    {
      "metadata": {
        "trusted": true
      },
      "cell_type": "code",
      "source": "## there are NaN values--> must be replaced by 0 \n## will have to delete the [ American Indian/Alaska Native & Native Hawaiian/Other Pacific Islander]\n## since there is no enough data about them\n## No need for the 2 \nraceCopy = race.copy()\nraceCopy.drop(['Native Hawaiian/Other Pacific Islander', 'American Indian/Alaska Native','Total','Two Or More Races'], axis=1, inplace=True)\n\n# replaceing NaN with the mean values of the columns\nraceCopy['Black'].fillna(race['White'].mean(), inplace = True)\nraceCopy['Asian'].fillna(race['Asian'].mean(), inplace = True)\n\nraceCopy.info()\n",
      "execution_count": 3,
      "outputs": [
        {
          "output_type": "stream",
          "text": "<class 'pandas.core.frame.DataFrame'>\nRangeIndex: 52 entries, 0 to 51\nData columns (total 5 columns):\nLocation    52 non-null object\nWhite       52 non-null float64\nBlack       52 non-null float64\nHispanic    52 non-null float64\nAsian       52 non-null float64\ndtypes: float64(4), object(1)\nmemory usage: 2.1+ KB\n",
          "name": "stdout"
        }
      ]
    },
    {
      "metadata": {
        "trusted": true
      },
      "cell_type": "code",
      "source": "# Rounding the float values to 3 decimal places\nraceCopy[\"White\"] = (raceCopy[\"White\"].round(3))*100\nraceCopy[\"Black\"] = (raceCopy[\"Black\"].round(3))*100\nraceCopy[\"Hispanic\"] = (raceCopy[\"Hispanic\"].round(3))*100\nraceCopy[\"Asian\"] = (raceCopy[\"Asian\"].round(3))*100\nraceCopy.head(6)",
      "execution_count": 4,
      "outputs": [
        {
          "output_type": "execute_result",
          "execution_count": 4,
          "data": {
            "text/html": "<div>\n<style scoped>\n    .dataframe tbody tr th:only-of-type {\n        vertical-align: middle;\n    }\n\n    .dataframe tbody tr th {\n        vertical-align: top;\n    }\n\n    .dataframe thead th {\n        text-align: right;\n    }\n</style>\n<table border=\"1\" class=\"dataframe\">\n  <thead>\n    <tr style=\"text-align: right;\">\n      <th></th>\n      <th>Location</th>\n      <th>White</th>\n      <th>Black</th>\n      <th>Hispanic</th>\n      <th>Asian</th>\n    </tr>\n  </thead>\n  <tbody>\n    <tr>\n      <th>0</th>\n      <td>United States</td>\n      <td>61.0</td>\n      <td>12.0</td>\n      <td>18.0</td>\n      <td>6.0</td>\n    </tr>\n    <tr>\n      <th>1</th>\n      <td>Alabama</td>\n      <td>65.0</td>\n      <td>27.0</td>\n      <td>4.0</td>\n      <td>4.6</td>\n    </tr>\n    <tr>\n      <th>2</th>\n      <td>Alaska</td>\n      <td>58.0</td>\n      <td>3.0</td>\n      <td>6.0</td>\n      <td>7.0</td>\n    </tr>\n    <tr>\n      <th>3</th>\n      <td>Arizona</td>\n      <td>51.0</td>\n      <td>4.0</td>\n      <td>37.0</td>\n      <td>3.0</td>\n    </tr>\n    <tr>\n      <th>4</th>\n      <td>Arkansas</td>\n      <td>74.0</td>\n      <td>15.0</td>\n      <td>7.0</td>\n      <td>2.0</td>\n    </tr>\n    <tr>\n      <th>5</th>\n      <td>California</td>\n      <td>39.0</td>\n      <td>6.0</td>\n      <td>38.0</td>\n      <td>15.0</td>\n    </tr>\n  </tbody>\n</table>\n</div>",
            "text/plain": "        Location  White  Black  Hispanic  Asian\n0  United States   61.0   12.0      18.0    6.0\n1        Alabama   65.0   27.0       4.0    4.6\n2         Alaska   58.0    3.0       6.0    7.0\n3        Arizona   51.0    4.0      37.0    3.0\n4       Arkansas   74.0   15.0       7.0    2.0\n5     California   39.0    6.0      38.0   15.0"
          },
          "metadata": {}
        }
      ]
    },
    {
      "metadata": {
        "trusted": true
      },
      "cell_type": "code",
      "source": "## choosing states that have higher [# & percentage of homeless] AND [cost of living]\n#1\nIsHawaii = raceCopy['Location']=='Hawaii'\nHawaii  = raceCopy[IsHawaii]\n#2\nIsCalifornia = raceCopy['Location']=='California'\nCalifornia  = raceCopy[IsCalifornia]\n#3\nIsNew_Mexico = raceCopy['Location']=='New Mexico'\nNew_Mexico  = raceCopy[IsNew_Mexico]\n#4\nIsNevada = raceCopy['Location']=='Nevada'\nNevada  = raceCopy[IsNevada]\n#5\nIsTexas = raceCopy['Location']=='Texas'\nTexas  = raceCopy[IsTexas]\n#6\nIsNew_York = raceCopy['Location']=='New York'\nNew_York  = raceCopy[IsNew_York]\n#7\nIsDistrict_of_Columbia = raceCopy['Location']=='District of Columbia'\nDistrict_of_Columbia  = raceCopy[IsDistrict_of_Columbia]\n#8\nIsWashington = raceCopy['Location']=='Washington'\nWashington  = raceCopy[IsWashington]\n",
      "execution_count": 5,
      "outputs": []
    },
    {
      "metadata": {
        "trusted": true
      },
      "cell_type": "code",
      "source": "## create a new dataframe to be used in the graph using the previous row values\nCertainStates = pd.concat([New_Mexico , Nevada,Texas, Washington,District_of_Columbia,Hawaii,New_York,California], ignore_index=True)\n\nCertainStates",
      "execution_count": 6,
      "outputs": [
        {
          "output_type": "execute_result",
          "execution_count": 6,
          "data": {
            "text/html": "<div>\n<style scoped>\n    .dataframe tbody tr th:only-of-type {\n        vertical-align: middle;\n    }\n\n    .dataframe tbody tr th {\n        vertical-align: top;\n    }\n\n    .dataframe thead th {\n        text-align: right;\n    }\n</style>\n<table border=\"1\" class=\"dataframe\">\n  <thead>\n    <tr style=\"text-align: right;\">\n      <th></th>\n      <th>Location</th>\n      <th>White</th>\n      <th>Black</th>\n      <th>Hispanic</th>\n      <th>Asian</th>\n    </tr>\n  </thead>\n  <tbody>\n    <tr>\n      <th>0</th>\n      <td>New Mexico</td>\n      <td>38.0</td>\n      <td>2.0</td>\n      <td>44.0</td>\n      <td>1.0</td>\n    </tr>\n    <tr>\n      <th>1</th>\n      <td>Nevada</td>\n      <td>50.0</td>\n      <td>9.0</td>\n      <td>28.0</td>\n      <td>8.0</td>\n    </tr>\n    <tr>\n      <th>2</th>\n      <td>Texas</td>\n      <td>44.0</td>\n      <td>12.0</td>\n      <td>37.0</td>\n      <td>5.0</td>\n    </tr>\n    <tr>\n      <th>3</th>\n      <td>Washington</td>\n      <td>69.0</td>\n      <td>3.0</td>\n      <td>13.0</td>\n      <td>8.0</td>\n    </tr>\n    <tr>\n      <th>4</th>\n      <td>District of Columbia</td>\n      <td>37.0</td>\n      <td>46.0</td>\n      <td>11.0</td>\n      <td>5.0</td>\n    </tr>\n    <tr>\n      <th>5</th>\n      <td>Hawaii</td>\n      <td>19.0</td>\n      <td>2.0</td>\n      <td>10.0</td>\n      <td>39.0</td>\n    </tr>\n    <tr>\n      <th>6</th>\n      <td>New York</td>\n      <td>58.0</td>\n      <td>14.0</td>\n      <td>18.0</td>\n      <td>8.0</td>\n    </tr>\n    <tr>\n      <th>7</th>\n      <td>California</td>\n      <td>39.0</td>\n      <td>6.0</td>\n      <td>38.0</td>\n      <td>15.0</td>\n    </tr>\n  </tbody>\n</table>\n</div>",
            "text/plain": "               Location  White  Black  Hispanic  Asian\n0            New Mexico   38.0    2.0      44.0    1.0\n1                Nevada   50.0    9.0      28.0    8.0\n2                 Texas   44.0   12.0      37.0    5.0\n3            Washington   69.0    3.0      13.0    8.0\n4  District of Columbia   37.0   46.0      11.0    5.0\n5                Hawaii   19.0    2.0      10.0   39.0\n6              New York   58.0   14.0      18.0    8.0\n7            California   39.0    6.0      38.0   15.0"
          },
          "metadata": {}
        }
      ]
    },
    {
      "metadata": {
        "trusted": true
      },
      "cell_type": "code",
      "source": "\n# Drawing a Stacked Bar chart \n\ntrace0 = go.Bar(\n            x=CertainStates['White'],\n            y=CertainStates['Location'],\n            name = 'White',\n            orientation='h',\n            marker=dict(\n                color='rgb(128,177,211)',\n                line=dict(\n                        color='rgb(248, 248, 249)',\n                        width=1)\n            )\n        )\ntrace1 = go.Bar(\n            x=CertainStates['Black'],\n            y=CertainStates['Location'],\n            name = 'Black',\n            orientation='h',\n            marker=dict(\n                color='rgb(253,180,98)',\n                line=dict(\n                        color='rgb(248, 248, 249)',\n                        width=1)\n            )\n        )\n    \ntrace2 = go.Bar(\n            x=CertainStates['Hispanic'],\n            y=CertainStates['Location'],\n            name = 'Hispanic',\n            orientation='h',\n            marker=dict(\n                color='rgb(179,222,105)', \n                line=dict(\n                        color='rgb(248, 248, 249)',\n                        width=1)\n            )\n        )\ntrace3 = go.Bar(\n            x=CertainStates['Asian'],\n            y=CertainStates['Location'],\n            name = 'Asian',\n            orientation='h',\n            marker=dict(\n                color='rgb(251,128,114)',\n                line=dict(\n                        color='rgb(248, 248, 249)',\n                        width=1)\n            )\n        )\n    \ndata = [trace0, trace1,trace2,trace3]\n \n\nlayout = go.Layout(\n    title='Percentages of Race for Certain USA States, 2015',\n    yaxis=dict(\n        showgrid=False,\n        showline=False,\n        showticklabels=True,\n    ),\n    xaxis=dict(\n        zeroline=False,\n        \n        showline=False,\n        showticklabels=True,\n        showgrid=True,\n    ),\n    margin=dict(\n        l=120,\n        r=20,\n        t=70,\n        b=70,\n    ),\n    barmode='stack'\n)\n\n\n\nfig = go.Figure(data=data, layout=layout)\n\niplot(fig)",
      "execution_count": 7,
      "outputs": [
        {
          "output_type": "display_data",
          "data": {
            "text/vnd.plotly.v1+html": "<div id=\"e492faf8-2ab9-4fdb-87e9-a3596b562874\" style=\"height: 525px; width: 100%;\" class=\"plotly-graph-div\"></div><script type=\"text/javascript\">require([\"plotly\"], function(Plotly) { window.PLOTLYENV=window.PLOTLYENV || {};window.PLOTLYENV.BASE_URL=\"https://plot.ly\";Plotly.newPlot(\"e492faf8-2ab9-4fdb-87e9-a3596b562874\", [{\"marker\": {\"color\": \"rgb(128,177,211)\", \"line\": {\"color\": \"rgb(248, 248, 249)\", \"width\": 1}}, \"name\": \"White\", \"orientation\": \"h\", \"x\": [38.0, 50.0, 44.0, 69.0, 37.0, 19.0, 57.99999999999999, 39.0], \"y\": [\"New Mexico\", \"Nevada\", \"Texas\", \"Washington\", \"District of Columbia\", \"Hawaii\", \"New York\", \"California\"], \"type\": \"bar\", \"uid\": \"a11c386f-c4bf-476e-b51a-37ba2f203f7a\"}, {\"marker\": {\"color\": \"rgb(253,180,98)\", \"line\": {\"color\": \"rgb(248, 248, 249)\", \"width\": 1}}, \"name\": \"Black\", \"orientation\": \"h\", \"x\": [2.0, 9.0, 12.0, 3.0, 46.0, 2.0, 14.000000000000002, 6.0], \"y\": [\"New Mexico\", \"Nevada\", \"Texas\", \"Washington\", \"District of Columbia\", \"Hawaii\", \"New York\", \"California\"], \"type\": \"bar\", \"uid\": \"c3edc2ad-0161-4b31-8980-276122054e72\"}, {\"marker\": {\"color\": \"rgb(179,222,105)\", \"line\": {\"color\": \"rgb(248, 248, 249)\", \"width\": 1}}, \"name\": \"Hispanic\", \"orientation\": \"h\", \"x\": [44.0, 28.000000000000004, 37.0, 13.0, 11.0, 10.0, 18.0, 38.0], \"y\": [\"New Mexico\", \"Nevada\", \"Texas\", \"Washington\", \"District of Columbia\", \"Hawaii\", \"New York\", \"California\"], \"type\": \"bar\", \"uid\": \"3c08fec9-970b-4e24-8a52-a7cfe1e0ab6c\"}, {\"marker\": {\"color\": \"rgb(251,128,114)\", \"line\": {\"color\": \"rgb(248, 248, 249)\", \"width\": 1}}, \"name\": \"Asian\", \"orientation\": \"h\", \"x\": [1.0, 8.0, 5.0, 8.0, 5.0, 39.0, 8.0, 15.0], \"y\": [\"New Mexico\", \"Nevada\", \"Texas\", \"Washington\", \"District of Columbia\", \"Hawaii\", \"New York\", \"California\"], \"type\": \"bar\", \"uid\": \"3c6ada5c-b8d9-43ce-bbd4-97551c690089\"}], {\"barmode\": \"stack\", \"margin\": {\"b\": 70, \"l\": 120, \"r\": 20, \"t\": 70}, \"title\": {\"text\": \"Percentages of Race for Certain USA States, 2015\"}, \"xaxis\": {\"showgrid\": true, \"showline\": false, \"showticklabels\": true, \"zeroline\": false}, \"yaxis\": {\"showgrid\": false, \"showline\": false, \"showticklabels\": true}}, {\"showLink\": false, \"linkText\": \"Export to plot.ly\", \"plotlyServerURL\": \"https://plot.ly\"})});</script><script type=\"text/javascript\">window.addEventListener(\"resize\", function(){window._Plotly.Plots.resize(document.getElementById(\"e492faf8-2ab9-4fdb-87e9-a3596b562874\"));});</script>",
            "text/html": "<div id=\"e492faf8-2ab9-4fdb-87e9-a3596b562874\" style=\"height: 525px; width: 100%;\" class=\"plotly-graph-div\"></div><script type=\"text/javascript\">require([\"plotly\"], function(Plotly) { window.PLOTLYENV=window.PLOTLYENV || {};window.PLOTLYENV.BASE_URL=\"https://plot.ly\";Plotly.newPlot(\"e492faf8-2ab9-4fdb-87e9-a3596b562874\", [{\"marker\": {\"color\": \"rgb(128,177,211)\", \"line\": {\"color\": \"rgb(248, 248, 249)\", \"width\": 1}}, \"name\": \"White\", \"orientation\": \"h\", \"x\": [38.0, 50.0, 44.0, 69.0, 37.0, 19.0, 57.99999999999999, 39.0], \"y\": [\"New Mexico\", \"Nevada\", \"Texas\", \"Washington\", \"District of Columbia\", \"Hawaii\", \"New York\", \"California\"], \"type\": \"bar\", \"uid\": \"a11c386f-c4bf-476e-b51a-37ba2f203f7a\"}, {\"marker\": {\"color\": \"rgb(253,180,98)\", \"line\": {\"color\": \"rgb(248, 248, 249)\", \"width\": 1}}, \"name\": \"Black\", \"orientation\": \"h\", \"x\": [2.0, 9.0, 12.0, 3.0, 46.0, 2.0, 14.000000000000002, 6.0], \"y\": [\"New Mexico\", \"Nevada\", \"Texas\", \"Washington\", \"District of Columbia\", \"Hawaii\", \"New York\", \"California\"], \"type\": \"bar\", \"uid\": \"c3edc2ad-0161-4b31-8980-276122054e72\"}, {\"marker\": {\"color\": \"rgb(179,222,105)\", \"line\": {\"color\": \"rgb(248, 248, 249)\", \"width\": 1}}, \"name\": \"Hispanic\", \"orientation\": \"h\", \"x\": [44.0, 28.000000000000004, 37.0, 13.0, 11.0, 10.0, 18.0, 38.0], \"y\": [\"New Mexico\", \"Nevada\", \"Texas\", \"Washington\", \"District of Columbia\", \"Hawaii\", \"New York\", \"California\"], \"type\": \"bar\", \"uid\": \"3c08fec9-970b-4e24-8a52-a7cfe1e0ab6c\"}, {\"marker\": {\"color\": \"rgb(251,128,114)\", \"line\": {\"color\": \"rgb(248, 248, 249)\", \"width\": 1}}, \"name\": \"Asian\", \"orientation\": \"h\", \"x\": [1.0, 8.0, 5.0, 8.0, 5.0, 39.0, 8.0, 15.0], \"y\": [\"New Mexico\", \"Nevada\", \"Texas\", \"Washington\", \"District of Columbia\", \"Hawaii\", \"New York\", \"California\"], \"type\": \"bar\", \"uid\": \"3c6ada5c-b8d9-43ce-bbd4-97551c690089\"}], {\"barmode\": \"stack\", \"margin\": {\"b\": 70, \"l\": 120, \"r\": 20, \"t\": 70}, \"title\": {\"text\": \"Percentages of Race for Certain USA States, 2015\"}, \"xaxis\": {\"showgrid\": true, \"showline\": false, \"showticklabels\": true, \"zeroline\": false}, \"yaxis\": {\"showgrid\": false, \"showline\": false, \"showticklabels\": true}}, {\"showLink\": false, \"linkText\": \"Export to plot.ly\", \"plotlyServerURL\": \"https://plot.ly\"})});</script><script type=\"text/javascript\">window.addEventListener(\"resize\", function(){window._Plotly.Plots.resize(document.getElementById(\"e492faf8-2ab9-4fdb-87e9-a3596b562874\"));});</script>",
            "application/vnd.plotly.v1+json": {
              "layout": {
                "barmode": "stack",
                "yaxis": {
                  "showline": false,
                  "showticklabels": true,
                  "showgrid": false
                },
                "margin": {
                  "r": 20,
                  "b": 70,
                  "l": 120,
                  "t": 70
                },
                "xaxis": {
                  "zeroline": false,
                  "showline": false,
                  "showticklabels": true,
                  "showgrid": true
                },
                "title": {
                  "text": "Percentages of Race for Certain USA States, 2015"
                }
              },
              "config": {
                "plotlyServerURL": "https://plot.ly",
                "linkText": "Export to plot.ly",
                "showLink": false
              },
              "data": [
                {
                  "name": "White",
                  "uid": "a11c386f-c4bf-476e-b51a-37ba2f203f7a",
                  "y": [
                    "New Mexico",
                    "Nevada",
                    "Texas",
                    "Washington",
                    "District of Columbia",
                    "Hawaii",
                    "New York",
                    "California"
                  ],
                  "marker": {
                    "color": "rgb(128,177,211)",
                    "line": {
                      "color": "rgb(248, 248, 249)",
                      "width": 1
                    }
                  },
                  "x": [
                    38,
                    50,
                    44,
                    69,
                    37,
                    19,
                    57.999999999999993,
                    39
                  ],
                  "type": "bar",
                  "orientation": "h"
                },
                {
                  "name": "Black",
                  "uid": "c3edc2ad-0161-4b31-8980-276122054e72",
                  "y": [
                    "New Mexico",
                    "Nevada",
                    "Texas",
                    "Washington",
                    "District of Columbia",
                    "Hawaii",
                    "New York",
                    "California"
                  ],
                  "marker": {
                    "color": "rgb(253,180,98)",
                    "line": {
                      "color": "rgb(248, 248, 249)",
                      "width": 1
                    }
                  },
                  "x": [
                    2,
                    9,
                    12,
                    3,
                    46,
                    2,
                    14.000000000000002,
                    6
                  ],
                  "type": "bar",
                  "orientation": "h"
                },
                {
                  "name": "Hispanic",
                  "uid": "3c08fec9-970b-4e24-8a52-a7cfe1e0ab6c",
                  "y": [
                    "New Mexico",
                    "Nevada",
                    "Texas",
                    "Washington",
                    "District of Columbia",
                    "Hawaii",
                    "New York",
                    "California"
                  ],
                  "marker": {
                    "color": "rgb(179,222,105)",
                    "line": {
                      "color": "rgb(248, 248, 249)",
                      "width": 1
                    }
                  },
                  "x": [
                    44,
                    28.000000000000004,
                    37,
                    13,
                    11,
                    10,
                    18,
                    38
                  ],
                  "type": "bar",
                  "orientation": "h"
                },
                {
                  "name": "Asian",
                  "uid": "3c6ada5c-b8d9-43ce-bbd4-97551c690089",
                  "y": [
                    "New Mexico",
                    "Nevada",
                    "Texas",
                    "Washington",
                    "District of Columbia",
                    "Hawaii",
                    "New York",
                    "California"
                  ],
                  "marker": {
                    "color": "rgb(251,128,114)",
                    "line": {
                      "color": "rgb(248, 248, 249)",
                      "width": 1
                    }
                  },
                  "x": [
                    1,
                    8,
                    5,
                    8,
                    5,
                    39,
                    8,
                    15
                  ],
                  "type": "bar",
                  "orientation": "h"
                }
              ]
            }
          },
          "metadata": {}
        }
      ]
    }
  ],
  "metadata": {
    "kernelspec": {
      "name": "python36",
      "display_name": "Python 3.6",
      "language": "python"
    },
    "language_info": {
      "mimetype": "text/x-python",
      "nbconvert_exporter": "python",
      "name": "python",
      "pygments_lexer": "ipython3",
      "version": "3.6.6",
      "file_extension": ".py",
      "codemirror_mode": {
        "version": 3,
        "name": "ipython"
      }
    }
  },
  "nbformat": 4,
  "nbformat_minor": 2
}